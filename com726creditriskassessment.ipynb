{
 "cells": [
  {
   "cell_type": "code",
   "execution_count": null,
   "metadata": {
    "pycharm": {
     "name": "#%%\n"
    }
   },
   "outputs": [],
   "source": [
    "# Import Libraries and Dependencies"
   ]
  },
  {
   "cell_type": "code",
   "execution_count": null,
   "outputs": [],
   "source": [
    "import warnings\n",
    "warnings.filterwarnings('ignore')\n",
    "\n",
    "# Dependencies for data cleaning, analysis and manipulation\n",
    "import pandas as pd\n",
    "import numpy as np\n",
    "import statistics\n",
    "from scipy import stats\n",
    "from math import floor,ceil\n",
    "import statsmodels.api as sm\n",
    "\n",
    "#Dependencies for Data Visualisation\n",
    "import seaborn as sns\n",
    "import matplotlib.pyplot as plt\n",
    "from matplotlib.colors import ListedColormap\n",
    "# import scikitplot as skplt\n",
    "\n",
    "#Dependencies for Feature Extraction, data scaling, and data spliting\n",
    "from sklearn.model_selection import train_test_split, KFold, cross_val_score\n",
    "from sklearn.preprocessing import StandardScaler\n",
    "from sklearn.decomposition import PCA\n",
    "\n",
    "\n",
    "#Dependencies for Logistic Regression\n",
    "from sklearn.linear_model import LogisticRegression\n",
    "\n",
    "#Dependencies for K-Nearest Neighbours (KNN)\n",
    "from sklearn.neighbors import KNeighborsClassifier\n",
    "\n",
    "#Dependencies for Decision Tree Classifier\n",
    "from sklearn.tree import DecisionTreeClassifier\n",
    "\n",
    "\n",
    "from xgboost import XGBClassifier\n",
    "\n",
    "\n",
    "#Dependencies for Random Forest Classifier\n",
    "from sklearn.ensemble import RandomForestClassifier\n",
    "\n",
    "#Dependencies for Support Vector Machines\n",
    "from sklearn.svm import SVC\n",
    "\n",
    "#Dependencies for Model Evaluation\n",
    "from sklearn.metrics import confusion_matrix, ConfusionMatrixDisplay, roc_curve, accuracy_score, classification_report, roc_curve,auc, f1_score, precision_score, recall_score, roc_auc_score\n",
    " \n",
    "import sklearn.metrics as metrics\n"
   ],
   "metadata": {
    "collapsed": false,
    "pycharm": {
     "name": "#%%\n"
    }
   }
  },
  {
   "cell_type": "markdown",
   "source": [
    "# Data Collection"
   ],
   "metadata": {
    "collapsed": false,
    "pycharm": {
     "name": "#%% md\n"
    }
   }
  },
  {
   "cell_type": "code",
   "execution_count": null,
   "outputs": [],
   "source": [
    "#Collect data from data source \n",
    "#Data Source: http://archive.ics.uci.edu/ml/machine-learning-databases/statlog/german/german.data\n",
    "\n",
    "# df=pd.read_csv(\"http://archive.ics.uci.edu/ml/machine-learning-databases/statlog/german/german.data\",sep=\" \",header=None)\n",
    "\n",
    "# headers=[\"Status of existing checking account\",\"Duration in month\",\"Credit history\",\\\n",
    "#          \"Purpose\",\"Credit amount\",\"Savings account/bonds\",\"Present employment since\",\\\n",
    "#          \"Installment rate in percentage of disposable income\",\"Personal status and sex\",\\\n",
    "#          \"Other debtors / guarantors\",\"Present residence since\",\"Property\",\"Age in years\",\\\n",
    "#         \"Other installment plans\",\"Housing\",\"Number of existing credits at this bank\",\\\n",
    "#         \"Job\",\"Number of people being liable to provide maintenance for\",\"Telephone\",\"foreign worker\",\"Cost Matrix(Risk)\"]\n",
    "# df.columns=headers\n",
    "\n",
    "# #save as csv file\n",
    "# df.to_csv(\"germancreditdata.csv\",index=False) \n",
    "df = pd.read_csv(\"germancreditdata.csv\")\n",
    "\n",
    "df.head()"
   ],
   "metadata": {
    "collapsed": false,
    "pycharm": {
     "name": "#%%\n"
    }
   }
  },
  {
   "cell_type": "code",
   "execution_count": null,
   "outputs": [],
   "source": [
    "# Target data distribution\n",
    "\n",
    "df['Cost Matrix(Risk)'].astype(int).plot.hist(color='forestgreen').set_xlabel('Target or dependent variable: 1 or 2');\n",
    "\n",
    "count = df['Cost Matrix(Risk)'].value_counts()\n",
    "good_risk = count[1]\n",
    "bad_risk = count[2]\n",
    "\n",
    "print(\"There are {} loans repaid on time (Good Risk, Cost Matrix(Risk) =1) and {} loans defaulted (Bad Risk, Cost Matrix(Risk)=2) in the dataset\".format(good_risk, bad_risk))"
   ],
   "metadata": {
    "collapsed": false,
    "pycharm": {
     "name": "#%%\n"
    }
   }
  },
  {
   "cell_type": "markdown",
   "source": [
    "### Data description\n",
    "\n",
    "::: German Credit Data:::\n",
    "\n",
    "1000 entries make up the dataset, which also includes 20 independent variables (13 categorical, 7 numerical), and 1 target variable created by Prof. Hofmann. Each entry in this collection reflects a person who accepts a bank credit. Depending on a set of factors, each person is categorised as either a good or bad credit risk.\n",
    "\n",
    "\n",
    "Dependent Variable\n",
    "\n",
    "Feature | Value | Data Type\n",
    "\n",
    "Creditability:\n",
    "0: Bad\n",
    "1: Good\n",
    "\n",
    "\n",
    "\n",
    "\n",
    "Independent Variables\n",
    "\n",
    "Feature | Value | Data Type\n",
    "\n",
    "Account Balance: \n",
    "1 : Values < 0 DM\n",
    "2 : Values is >= 0 and < 200 DM\n",
    "3 : ... >= 200 DM / salary assignments for at least 1 year\n",
    "4 : no checking account\n",
    "\n",
    "\n",
    "Duration of Credit (month)\n",
    "Payment Status of Previous Credit\n",
    "Purpose\n",
    "Credit Amount\n",
    "Value Savings/Stocks\n",
    "Length of current employment\n",
    "Instalment per cent\n",
    "Sex & Marital Status\n",
    "Guarantors\n",
    "Duration in Current address\n",
    "Most valuable available asset\n",
    "Age (years)\n",
    "Concurrent Credits\n",
    "Type of apartment\n",
    "No of Credits at this Bank\n",
    "Occupation\n",
    "No of dependents\n",
    "Telephone\n",
    "Foreign Worker\n",
    "\n",
    "\n",
    "USA Credit Data\n"
   ],
   "metadata": {
    "collapsed": false,
    "pycharm": {
     "name": "#%% md\n"
    }
   }
  },
  {
   "cell_type": "markdown",
   "source": [
    "# Data Preprocessing"
   ],
   "metadata": {
    "collapsed": false,
    "pycharm": {
     "name": "#%% md\n"
    }
   }
  },
  {
   "cell_type": "code",
   "execution_count": null,
   "outputs": [],
   "source": [
    "\n",
    "# The current CSV file collected contains keys like \"A14, A61\" for each of the columns\n",
    "# UCI provides a description of each of this keys. \n",
    "# To proceed we need to map this these keys/entries to their respective descriptions by creating \n",
    "# a dictionary with a key-value pair for each feature. The key represents current entry, while values represent description\n",
    "# and using the .map() iterative method. The map() method creates a new array populated with \n",
    "# the results of calling a provided function on every element in the calling array.\n",
    "\n",
    "\n",
    "\n",
    "#Key-Value Pair for 13 categorical features\n",
    "Status_of_existing_checking_account={'A14':\"no checking account\",'A11':\"<0 DM\", 'A12': \"0 <= <200 DM\",'A13':\">= 200 DM \"}\n",
    "Credit_history={\"A34\":\"critical account\",\"A33\":\"delay in paying off\",\"A32\":\"existing credits paid back duly till now\",\"A31\":\"all credits at this bank paid back duly\",\"A30\":\"no credits taken\"}\n",
    "Purpose={\"A40\" : \"car (new)\", \"A41\" : \"car (used)\", \"A42\" : \"furniture/equipment\", \"A43\" :\"radio/television\" , \"A44\" : \"domestic appliances\", \"A45\" : \"repairs\", \"A46\" : \"education\", 'A47' : 'vacation','A48' : 'retraining','A49' : 'business','A410' : 'others'}\n",
    "Saving_account={\"A65\" : \"no savings account\",\"A61\" :\"<100 DM\",\"A62\" : \"100 <= <500 DM\",\"A63\" :\"500 <= < 1000 DM\", \"A64\" :\">= 1000 DM\"}\n",
    "Present_employment={'A75':\">=7 years\", 'A74':\"4<= <7 years\",  'A73':\"1<= < 4 years\", 'A72':\"<1 years\",'A71':\"unemployed\"}\n",
    "Personal_status_and_sex={ 'A95':\"female:single\",'A94':\"male:married/widowed\",'A93':\"male:single\", 'A92':\"female:divorced/separated/married\", 'A91':\"male:divorced/separated\"}\n",
    "Other_debtors_guarantors={'A101':\"none\", 'A102':\"co-applicant\", 'A103':\"guarantor\"}\n",
    "Property={'A121':\"real estate\", 'A122':\"savings agreement/life insurance\", 'A123':\"car or other\", 'A124':\"unknown / no property\"}\n",
    "Other_installment_plans={'A143':\"none\", 'A142':\"store\", 'A141':\"bank\"}\n",
    "Housing={'A153':\"for free\", 'A152':\"own\", 'A151':\"rent\"}\n",
    "Job={'A174':\"management/ highly qualified employee\", 'A173':\"skilled employee / official\", 'A172':\"unskilled - resident\", 'A171':\"unemployed/ unskilled  - non-resident\"}\n",
    "Telephone={'A192':\"yes\", 'A191':\"none\"}\n",
    "foreign_worker={'A201':\"yes\", 'A202':\"no\"}\n",
    "risk={1:\"Good Risk\", 2:\"Bad Risk\"}\n",
    "\n",
    "#Using Map function to replace values in the columns\n",
    "df[\"Status of existing checking account\"]=df[\"Status of existing checking account\"].map(Status_of_existing_checking_account)\n",
    "df[\"Credit history\"]=df[\"Credit history\"].map(Credit_history)\n",
    "df[\"Purpose\"]=df[\"Purpose\"].map(Purpose)\n",
    "df[\"Savings account/bonds\"]=df[\"Savings account/bonds\"].map(Saving_account)\n",
    "df[\"Present employment since\"]=df[\"Present employment since\"].map(Present_employment)\n",
    "df[\"Personal status and sex\"]=df[\"Personal status and sex\"].map(Personal_status_and_sex)\n",
    "df[\"Other debtors / guarantors\"]=df[\"Other debtors / guarantors\"].map(Other_debtors_guarantors)\n",
    "df[\"Property\"]=df[\"Property\"].map(Property)\n",
    "df[\"Other installment plans\"]=df[\"Other installment plans\"].map(Other_installment_plans)\n",
    "df[\"Housing\"]=df[\"Housing\"].map(Housing)\n",
    "df[\"Job\"]=df[\"Job\"].map(Job)\n",
    "df[\"Telephone\"]=df[\"Telephone\"].map(Telephone)\n",
    "df[\"foreign worker\"]=df[\"foreign worker\"].map(foreign_worker)\n",
    "df[\"Cost Matrix(Risk)\"]=df[\"Cost Matrix(Risk)\"].map(risk)\n",
    "\n",
    "\n",
    "df.head(2)"
   ],
   "metadata": {
    "collapsed": false,
    "pycharm": {
     "name": "#%%\n"
    }
   }
  },
  {
   "cell_type": "markdown",
   "source": [
    "# Data Understanding"
   ],
   "metadata": {
    "collapsed": false,
    "pycharm": {
     "name": "#%% md\n"
    }
   }
  },
  {
   "cell_type": "code",
   "execution_count": null,
   "outputs": [],
   "source": [
    "## Data Understanding\n",
    "df.info()\n",
    "#df.isna().sum(axis = 0)\n",
    "#df.shape\n",
    "\n",
    "\n",
    "\n",
    "#Observation: No null values\n",
    "\n",
    "#Statistical view of numerical variables\n",
    "df[[\"Credit amount\",\"Age in years\",\"Duration in month\"]].describe()\n"
   ],
   "metadata": {
    "collapsed": false,
    "pycharm": {
     "name": "#%%\n"
    }
   }
  },
  {
   "cell_type": "code",
   "execution_count": null,
   "outputs": [],
   "source": [
    "#Checking for and removal of outliers\n",
    "\n",
    "sns.set()\n",
    "f, axes = plt.subplots(1, 3,figsize=(15,5))\n",
    "sns.boxplot(y=df[\"Credit amount\"],x=df[\"Cost Matrix(Risk)\"],orient='v' , ax=axes[0],palette=[\"#800080\",\"#808000\"]) #box plot\n",
    "sns.boxplot(y=df[\"Duration in month\"],x=df[\"Cost Matrix(Risk)\"], orient='v' , ax=axes[1],palette=[\"#800080\",\"#808000\"]) #box plot\n",
    "sns.boxplot(y=df[\"Age in years\"],x=df[\"Cost Matrix(Risk)\"], orient='v' , ax=axes[2],palette=[\"#800080\",\"#808000\"]) #box plot\n",
    "plt.show()\n",
    "\n",
    "\n",
    "## Replacement of outliers using IQR"
   ],
   "metadata": {
    "collapsed": false,
    "pycharm": {
     "name": "#%%\n"
    }
   }
  },
  {
   "cell_type": "code",
   "execution_count": null,
   "outputs": [],
   "source": [
    "# Correlation Analysis\n",
    "## Closely correlated values selected using P-Values or IV are further\n",
    "## filtered using correlation analysis removed. "
   ],
   "metadata": {
    "collapsed": false,
    "pycharm": {
     "name": "#%%\n"
    }
   }
  },
  {
   "cell_type": "markdown",
   "source": [
    "# Feature Selection and Engineering"
   ],
   "metadata": {
    "collapsed": false,
    "pycharm": {
     "name": "#%% md\n"
    }
   }
  },
  {
   "cell_type": "code",
   "execution_count": null,
   "outputs": [],
   "source": [
    "#Feature Selection for German Data\n",
    "\n",
    "\n",
    "\n",
    "# Using P-Values\n",
    "column_names_cat_stats=[\"Status of existing checking account\",\"Credit history\",\"Purpose\",\\\n",
    "\"Savings account/bonds\",\"Present employment since\",\\\n",
    "\"Installment rate in percentage of disposable income\",\"Personal status and sex\",\\\n",
    "\"Other debtors / guarantors\",\"Present residence since\",\"Property\",\\\n",
    "\"Other installment plans\",\"Housing\",\"Number of existing credits at this bank\",\\\n",
    "\"Job\",\"Number of people being liable to provide maintenance for\",\"Telephone\",\"foreign worker\"]\n",
    "\n",
    "\n",
    "\n",
    "# P-Values for Categorical variables\n",
    "statistical_significance=[]\n",
    "for attr in column_names_cat_stats:\n",
    "    data_count=pd.crosstab(df[attr],df[\"Cost Matrix(Risk)\"]).reset_index()\n",
    "    obs=np.asarray(data_count[[\"Bad Risk\",\"Good Risk\"]])\n",
    "    chi2, p, dof, expected = stats.chi2_contingency(obs)\n",
    "    statistical_significance.append([attr,round(p,6)])\n",
    "    \n",
    "statistical_significance=pd.DataFrame(statistical_significance)\n",
    "statistical_significance.columns=[\"Attribute\",\"P-value\"]\n",
    "statistical_significance.to_csv(\"pvaluescategorical.csv\", index=False)\n",
    "\n",
    "#display(statistical_significance)\n",
    "\n",
    "\n",
    "# P-Values for Numerical variables\n",
    "statistical_significance=[]\n",
    "column_names_cont_stats=[\"Credit amount\",\"Age in years\",\"Duration in month\"]\n",
    "good_risk_df = df[df[\"Cost Matrix(Risk)\"]==\"Good Risk\"]\n",
    "bad_risk_df = df[df[\"Cost Matrix(Risk)\"]==\"Bad Risk\"]\n",
    "for attr in column_names_cont_stats:\n",
    "    statistic, p=stats.f_oneway(good_risk_df[attr].values,bad_risk_df[attr].values)\n",
    "    statistical_significance.append([attr,round(p,6)])\n",
    "statistical_significance=pd.DataFrame(statistical_significance)\n",
    "statistical_significance.columns=[\"Attribute\",\"P-value\"]\n",
    "#display(statistical_significance)\n",
    "\n",
    "#PValues\n",
    "pvalues_categorical = pd.read_csv('pvaluescategorical.csv')\n",
    "pvalues_categorical = pvalues_categorical.sort_values(by=['P-value'], ascending=False)\n",
    "\n",
    "pvalues_categorical \n",
    "\n",
    "\n",
    "\n",
    "# Using Information-Values (IV)\n",
    "\n",
    "# Weight of Evidence\n",
    "# https://medium.com/@finntanweelip/feature-selection-in-credit-scoring-b0eee604cd51 \n",
    "\n",
    "#Feature Selection Home Credit Risk Data\n",
    " \n"
   ],
   "metadata": {
    "collapsed": false,
    "pycharm": {
     "name": "#%%\n"
    }
   }
  },
  {
   "cell_type": "code",
   "execution_count": null,
   "outputs": [],
   "source": [
    "# Viewing and Handling Data Imbalance\n",
    "\n",
    "def visualize_distribution(attr):\n",
    "    good_risk_df = df[df[\"Cost Matrix(Risk)\"]==\"Good Risk\"]\n",
    "    bad_risk_df = df[df[\"Cost Matrix(Risk)\"]==\"Bad Risk\"]\n",
    "    fig, ax = plt.subplots(nrows=1, ncols=2, figsize=(15,5))\n",
    "    attr_good_risk_df = good_risk_df[[attr, 'Cost Matrix(Risk)']].groupby(attr).count()\n",
    "    attr_bad_risk_df = bad_risk_df[[attr, 'Cost Matrix(Risk)']].groupby(attr).count()\n",
    "    ax[0].barh( attr_good_risk_df['Cost Matrix(Risk)'].index.tolist(), attr_good_risk_df['Cost Matrix(Risk)'].tolist(), align='center', color=\"#800080\")\n",
    "    ax[1].barh( attr_bad_risk_df['Cost Matrix(Risk)'].index.tolist(), attr_bad_risk_df['Cost Matrix(Risk)'].tolist(), align='center', color=\"#808000\")\n",
    "    ax[0].set_title('Good Risk')\n",
    "    ax[1].set_title('Bad Risk')\n",
    "    ax[0].invert_xaxis()\n",
    "    ax[1].yaxis.tick_right()\n",
    "    \n",
    "    num_para_change=[\"Present residence since\",\"Number of existing credits at this bank\",\"Installment rate in percentage of disposable income\",\"Number of people being liable to provide maintenance for\"]\n",
    "    if attr in num_para_change:\n",
    "        for i, v in enumerate(attr_good_risk_df['Cost Matrix(Risk)'].tolist()):\n",
    "            ax[0].text(v+15, i+1, str(v), color='black')\n",
    "        for i, v in enumerate(attr_bad_risk_df['Cost Matrix(Risk)'].tolist()):\n",
    "            ax[1].text(v+2, i+1, str(v), color='black')\n",
    "    else:\n",
    "        for i, v in enumerate(attr_good_risk_df['Cost Matrix(Risk)'].tolist()):\n",
    "            ax[0].text(v+25, i + .05, str(v), color='black')\n",
    "        for i, v in enumerate(attr_bad_risk_df['Cost Matrix(Risk)'].tolist()):\n",
    "            ax[1].text(v+1, i + .05, str(v), color='black')\n",
    "    plt.suptitle(attr)\n",
    "    plt.tight_layout()\n",
    "    plt.show()"
   ],
   "metadata": {
    "collapsed": false,
    "pycharm": {
     "name": "#%%\n"
    }
   }
  },
  {
   "cell_type": "code",
   "execution_count": null,
   "outputs": [],
   "source": [
    "visualize_distribution(\"Status of existing checking account\")\n",
    "visualize_distribution(\"Credit history\")\n",
    "visualize_distribution(\"Purpose\")\n"
   ],
   "metadata": {
    "collapsed": false,
    "pycharm": {
     "name": "#%%\n"
    }
   }
  },
  {
   "cell_type": "code",
   "execution_count": null,
   "outputs": [],
   "source": [
    "#OneHotEnconding\n",
    "\n",
    "\n",
    "#Drop 7 columns not selected\n",
    "df = df.drop(columns=['Number of people being liable to provide maintenance for',\\\n",
    "                      'Present residence since',\\\n",
    "                      'Number of existing credits at this bank',\\\n",
    "                      'Job',\\\n",
    "                      'Telephone',\\\n",
    "                      'Other debtors / guarantors',\\\n",
    "                      'Installment rate in percentage of disposable income'\n",
    "                     ])\n",
    "\n",
    "\n",
    "#10 Selected features with statistical significance\n",
    "col_cat_names=[\"Status of existing checking account\",\"Credit history\",\"Purpose\",\\\n",
    "\"Savings account/bonds\",\"Present employment since\",\\\n",
    "\"Personal status and sex\",\"Property\",\"Other installment plans\",\"Housing\",\"foreign worker\"]\n",
    "\n",
    "for attr in col_cat_names:\n",
    "    df = df.merge(pd.get_dummies(df[attr], prefix=attr), left_index=True, right_index=True)\n",
    "    df.drop(attr,axis=1,inplace=True)\n",
    " \n",
    "#converting target variable into numeric\n",
    "risk={\"Good Risk\":1, \"Bad Risk\":0}\n",
    "df[\"Cost Matrix(Risk)\"]=df[\"Cost Matrix(Risk)\"].map(risk)\n",
    "\n",
    "df"
   ],
   "metadata": {
    "collapsed": false,
    "pycharm": {
     "name": "#%%\n"
    }
   }
  },
  {
   "cell_type": "code",
   "execution_count": null,
   "outputs": [],
   "source": [
    "# Target data distribution\n",
    "\n",
    "df['Cost Matrix(Risk)'].astype(int).plot.hist(color='forestgreen').set_xlabel('Target or dependent variable: 1 or 0');\n",
    "\n",
    "count = df['Cost Matrix(Risk)'].value_counts()\n",
    "good_risk = count[1]\n",
    "bad_risk = count[0]\n",
    "\n",
    "print(\"There are {} loans repaid on time (Good Risk, Cost Matrix(Risk) =1) and {} loans defaulted (Bad Risk, Cost Matrix(Risk)=0) in the dataset\".format(good_risk, bad_risk))"
   ],
   "metadata": {
    "collapsed": false,
    "pycharm": {
     "name": "#%%\n"
    }
   }
  },
  {
   "cell_type": "code",
   "execution_count": null,
   "outputs": [],
   "source": [
    "#Principal Component Analysis (PCA): Dimensionality Reduction\n",
    "\n",
    "X = df.drop('Cost Matrix(Risk)', 1).values #independent variables\n",
    "y = df[\"Cost Matrix(Risk)\"].values #target variables\n",
    "\n",
    "pca = PCA(n_components=16)\n",
    "X = pca.fit_transform(X)"
   ],
   "metadata": {
    "collapsed": false,
    "pycharm": {
     "name": "#%%\n"
    }
   }
  },
  {
   "cell_type": "code",
   "execution_count": null,
   "outputs": [],
   "source": [
    "# Spliting dataset into train and test version\n",
    "X_train, X_test, y_train, y_test = train_test_split(X, y, test_size = 0.30,random_state=0)"
   ],
   "metadata": {
    "collapsed": false,
    "pycharm": {
     "name": "#%%\n"
    }
   }
  },
  {
   "cell_type": "markdown",
   "source": [
    "# Credit Risk Model Development and Fit"
   ],
   "metadata": {
    "collapsed": false,
    "pycharm": {
     "name": "#%% md\n"
    }
   }
  },
  {
   "cell_type": "markdown",
   "source": [
    "#### XGBoost Classifier"
   ],
   "metadata": {
    "collapsed": false,
    "pycharm": {
     "name": "#%% md\n"
    }
   }
  },
  {
   "cell_type": "code",
   "execution_count": null,
   "outputs": [],
   "source": [
    "# Train Model\n",
    "\n",
    "model_xgboost =XGBClassifier()\n",
    "model_xgboost.fit(X_train, y_train)\n",
    "\n",
    "# Model Prediction\n",
    "y_pred = model_xgboost.predict(X_test)\n",
    "\n",
    "\n",
    "# Metrics\n",
    "acc_xgboost = round(accuracy_score(y_test,y_pred)*100,2)\n",
    "class_met_xgboost = classification_report(y_test,y_pred)  \n",
    "# cm_xgb = confusion_matrix(y_test, y_pred, labels=model_xgboost.classes_)\n"
   ],
   "metadata": {
    "collapsed": false,
    "pycharm": {
     "name": "#%%\n"
    }
   }
  },
  {
   "cell_type": "code",
   "execution_count": null,
   "outputs": [],
   "source": [
    "cm_disp_xgb = ConfusionMatrixDisplay(confusion_matrix=cm_xgb)\n",
    "disp.plot()"
   ],
   "metadata": {
    "collapsed": false,
    "pycharm": {
     "name": "#%%\n"
    }
   }
  },
  {
   "cell_type": "code",
   "execution_count": null,
   "outputs": [],
   "source": [
    "TP = 58\n",
    "TN = 172\n",
    "FP = 28\n",
    "FN = 42\n",
    "ACC = round(((TP + TN) / (TP + TN + FP + FN))*100,2)\n",
    "print(f\"XGBoost Accuracy (%):{ACC}\")\n",
    "\n",
    "TPR = round((TP / (TP + FN))*100,2) \n",
    "print(f\"XGBoost Sensitivity, TPR (%):{TPR}\")\n",
    "\n",
    "SP = round((TN / (FP + TN))*100,2)\n",
    "\n",
    "print(f\"XGBoost Specificity (%): {SP}\")\n",
    "      "
   ],
   "metadata": {
    "collapsed": false,
    "pycharm": {
     "name": "#%%\n"
    }
   }
  },
  {
   "cell_type": "markdown",
   "source": [
    "#### Support Vector Machines (SVM)"
   ],
   "metadata": {
    "collapsed": false,
    "pycharm": {
     "name": "#%% md\n"
    }
   }
  },
  {
   "cell_type": "code",
   "execution_count": null,
   "outputs": [],
   "source": [
    "#Support Vector Machines\n",
    "\n",
    "# Train the model\n",
    "model_svm = SVC(kernel = 'linear', random_state = 0, probability=True)  \n",
    "model_svm.fit(X_train, y_train) \n",
    "\n",
    "# Model Prediction\n",
    "y_pred_svm = model_svm.predict(X_test)\n",
    "\n",
    "\n",
    "\n",
    "# Metrics\n",
    "cm_svm = confusion_matrix(y_test, y_pred, labels=svm.classes_)\n",
    "acc_svm = round(accuracy_score(y_test,y_pred)*100,2)\n",
    "class_met_svm = classification_report(y_test,y_pred_svm)\n",
    "\n"
   ],
   "metadata": {
    "collapsed": false,
    "pycharm": {
     "name": "#%%\n"
    }
   }
  },
  {
   "cell_type": "markdown",
   "source": [
    "# Model Evaluation"
   ],
   "metadata": {
    "collapsed": false,
    "pycharm": {
     "name": "#%% md\n"
    }
   }
  },
  {
   "cell_type": "markdown",
   "source": [
    "#### Accuracy"
   ],
   "metadata": {
    "collapsed": false,
    "pycharm": {
     "name": "#%% md\n"
    }
   }
  },
  {
   "cell_type": "code",
   "execution_count": null,
   "outputs": [],
   "source": [
    "print(f\"XGBoost Accuracy(%): {acc_xgboost}\")\n",
    "print(f\"SVM Accuracy(%): {acc_svm}\")"
   ],
   "metadata": {
    "collapsed": false,
    "pycharm": {
     "name": "#%%\n"
    }
   }
  },
  {
   "cell_type": "markdown",
   "source": [
    "#### Precision, Recall and F1-Score"
   ],
   "metadata": {
    "collapsed": false,
    "pycharm": {
     "name": "#%% md\n"
    }
   }
  },
  {
   "cell_type": "code",
   "execution_count": null,
   "outputs": [],
   "source": [
    "print(\"---------- XGBoost Classification Report----------\")\n",
    "print(\"\")\n",
    "print(class_met_xgboost)\n",
    "\n",
    "\n",
    "print(\"----------SVM Classification Report-----------\")\n",
    "print(\"\")\n",
    "print(class_met_svm)"
   ],
   "metadata": {
    "collapsed": false,
    "pycharm": {
     "name": "#%%\n"
    }
   }
  },
  {
   "cell_type": "markdown",
   "source": [
    "#### Confusion Matrix"
   ],
   "metadata": {
    "collapsed": false,
    "pycharm": {
     "name": "#%% md\n"
    }
   }
  },
  {
   "cell_type": "code",
   "execution_count": null,
   "outputs": [],
   "source": [
    "\n",
    "disp = ConfusionMatrixDisplay(confusion_matrix=cm_svm, display_labels=model_svm.classes_)\n",
    "disp.plot()"
   ],
   "metadata": {
    "collapsed": false,
    "pycharm": {
     "name": "#%%\n"
    }
   }
  },
  {
   "cell_type": "code",
   "execution_count": null,
   "outputs": [],
   "source": [
    "TP = 35\n",
    "TN = 188\n",
    "FP = 51\n",
    "FN = 26\n",
    "ACC = round(((TP + TN) / (TP + TN + FP + FN))*100,2)\n",
    "print(f\"Accuracy (%):{ACC}\")\n",
    "\n",
    "TPR = round((TP / (TP + FN))*100,2) \n",
    "print(f\"Sensitivity, TPR (%):{TPR}\")\n",
    "\n",
    "SP = round((TN / (FP + TN))*100,2)\n",
    "\n",
    "print(f\"SVM Specificity (%): {SP}\")\n",
    "      "
   ],
   "metadata": {
    "collapsed": false,
    "pycharm": {
     "name": "#%%\n"
    }
   }
  },
  {
   "cell_type": "markdown",
   "source": [
    "#### ROC"
   ],
   "metadata": {
    "collapsed": false,
    "pycharm": {
     "name": "#%% md\n"
    }
   }
  },
  {
   "cell_type": "code",
   "execution_count": null,
   "outputs": [],
   "source": [
    "\n",
    "# SVM ROC\n",
    "\n",
    "y_pred_svmroc = model_svm.predict_proba(X_test)[:,1]\n",
    "fpr, tpr, thresholds = roc_curve(y_test, y_pred_svmroc)\n",
    "plt.plot([0, 1], [0, 1], 'k--')\n",
    "plt.plot(fpr, tpr)\n",
    "plt.xlabel('False Positive Rate')\n",
    "plt.ylabel('True Positive Rate')\n",
    "plt.title('SVM ROC Curve')\n",
    "plt.show()\n",
    "\n",
    "# XGBoost ROC\n",
    "\n",
    "y_pred_xgbroc = model_xgboost.predict_proba(X_test)[:,1]\n",
    "fpr, tpr, thresholds = roc_curve(y_test, y_pred_xgbroc)\n",
    "plt.plot([0, 1], [0, 1], 'k--')\n",
    "plt.plot(fpr, tpr)\n",
    "plt.xlabel('False Positive Rate')\n",
    "plt.ylabel('True Positive Rate')\n",
    "plt.title('XGBoost ROC Curve')\n",
    "plt.show()"
   ],
   "metadata": {
    "collapsed": false,
    "pycharm": {
     "name": "#%%\n"
    }
   }
  },
  {
   "cell_type": "code",
   "execution_count": 113,
   "metadata": {
    "pycharm": {
     "name": "#%%\n"
    }
   },
   "outputs": [
    {
     "name": "stdout",
     "output_type": "stream",
     "text": [
      "XGBoost Accuracy (%):76.67\n",
      "XGBoost Sensitivity, TPR (%):58.0\n",
      "XGBoost Specificity (%): 86.0\n"
     ]
    }
   ],
   "source": [
    "TP = 58\n",
    "TN = 172\n",
    "FP = 28\n",
    "FN = 42\n",
    "ACC = round(((TP + TN) / (TP + TN + FP + FN))*100,2)\n",
    "print(f\"XGBoost Accuracy (%):{ACC}\")\n",
    "\n",
    "TPR = round((TP / (TP + FN))*100,2) \n",
    "print(f\"XGBoost Sensitivity, TPR (%):{TPR}\")\n",
    "\n",
    "SP = round((TN / (FP + TN))*100,2)\n",
    "\n",
    "print(f\"XGBoost Specificity (%): {SP}\")\n",
    "      "
   ]
  },
  {
   "cell_type": "markdown",
   "metadata": {
    "pycharm": {
     "name": "#%% md\n"
    }
   },
   "source": [
    "#### Support Vector Machines (SVM)"
   ]
  },
  {
   "cell_type": "code",
   "execution_count": 122,
   "metadata": {
    "pycharm": {
     "name": "#%%\n"
    }
   },
   "outputs": [],
   "source": [
    "#Support Vector Machines\n",
    "\n",
    "# Train the model\n",
    "model_svm = SVC(kernel = 'linear', random_state = 0, probability=True)  \n",
    "model_svm.fit(X_train, y_train) \n",
    "\n",
    "# Model Prediction\n",
    "y_pred_svm = model_svm.predict(X_test)\n",
    "\n",
    "\n",
    "\n",
    "# Metrics\n",
    "cm_svm = confusion_matrix(y_test, y_pred, labels=svm.classes_)\n",
    "acc_svm = round(accuracy_score(y_test,y_pred)*100,2)\n",
    "class_met_svm = classification_report(y_test,y_pred_svm)\n",
    "\n"
   ]
  },
  {
   "cell_type": "markdown",
   "metadata": {
    "pycharm": {
     "name": "#%% md\n"
    }
   },
   "source": [
    "# Model Evaluation"
   ]
  },
  {
   "cell_type": "markdown",
   "metadata": {
    "pycharm": {
     "name": "#%% md\n"
    }
   },
   "source": [
    "#### Accuracy"
   ]
  },
  {
   "cell_type": "code",
   "execution_count": 123,
   "metadata": {
    "pycharm": {
     "name": "#%%\n"
    }
   },
   "outputs": [
    {
     "name": "stdout",
     "output_type": "stream",
     "text": [
      "XGBoost Accuracy(%): 74.33\n",
      "SVM Accuracy(%): 74.33\n"
     ]
    }
   ],
   "source": [
    "print(f\"XGBoost Accuracy(%): {acc_xgboost}\")\n",
    "print(f\"SVM Accuracy(%): {acc_svm}\")"
   ]
  },
  {
   "cell_type": "markdown",
   "metadata": {
    "pycharm": {
     "name": "#%% md\n"
    }
   },
   "source": [
    "#### Precision, Recall and F1-Score"
   ]
  },
  {
   "cell_type": "code",
   "execution_count": 105,
   "metadata": {
    "pycharm": {
     "name": "#%%\n"
    }
   },
   "outputs": [
    {
     "name": "stdout",
     "output_type": "stream",
     "text": [
      "---------- XGBoost Classification Report----------\n",
      "\n",
      "              precision    recall  f1-score   support\n",
      "\n",
      "           0       0.58      0.67      0.62        86\n",
      "           1       0.86      0.80      0.83       214\n",
      "\n",
      "    accuracy                           0.77       300\n",
      "   macro avg       0.72      0.74      0.73       300\n",
      "weighted avg       0.78      0.77      0.77       300\n",
      "\n",
      "----------SVM Classification Report-----------\n",
      "\n",
      "              precision    recall  f1-score   support\n",
      "\n",
      "           0       0.56      0.06      0.11        86\n",
      "           1       0.72      0.98      0.83       214\n",
      "\n",
      "    accuracy                           0.72       300\n",
      "   macro avg       0.64      0.52      0.47       300\n",
      "weighted avg       0.67      0.72      0.62       300\n",
      "\n"
     ]
    }
   ],
   "source": [
    "print(\"---------- XGBoost Classification Report----------\")\n",
    "print(\"\")\n",
    "print(class_met_xgboost)\n",
    "\n",
    "\n",
    "print(\"----------SVM Classification Report-----------\")\n",
    "print(\"\")\n",
    "print(class_met_svm)"
   ]
  },
  {
   "cell_type": "markdown",
   "metadata": {
    "pycharm": {
     "name": "#%% md\n"
    }
   },
   "source": [
    "#### Confusion Matrix"
   ]
  },
  {
   "cell_type": "code",
   "execution_count": 121,
   "metadata": {
    "pycharm": {
     "name": "#%%\n"
    }
   },
   "outputs": [
    {
     "data": {
      "text/plain": [
       "<sklearn.metrics._plot.confusion_matrix.ConfusionMatrixDisplay at 0x199fb031760>"
      ]
     },
     "execution_count": 121,
     "metadata": {},
     "output_type": "execute_result"
    },
    {
     "data": {
      "image/png": "[encoded data removed]",
      "text/plain": [
       "<Figure size 432x288 with 2 Axes>"
      ]
     },
     "metadata": {},
     "output_type": "display_data"
    }
   ],
   "source": [
    "\n",
    "disp = ConfusionMatrixDisplay(confusion_matrix=cm_svm, display_labels=model_svm.classes_)\n",
    "disp.plot()"
   ]
  },
  {
   "cell_type": "code",
   "execution_count": 116,
   "metadata": {
    "scrolled": true,
    "pycharm": {
     "name": "#%%\n"
    }
   },
   "outputs": [
    {
     "name": "stdout",
     "output_type": "stream",
     "text": [
      "Accuracy (%):74.33\n",
      "Sensitivity, TPR (%):57.38\n",
      "SVM Specificity (%): 78.66\n"
     ]
    }
   ],
   "source": [
    "TP = 35\n",
    "TN = 188\n",
    "FP = 51\n",
    "FN = 26\n",
    "ACC = round(((TP + TN) / (TP + TN + FP + FN))*100,2)\n",
    "print(f\"Accuracy (%):{ACC}\")\n",
    "\n",
    "TPR = round((TP / (TP + FN))*100,2) \n",
    "print(f\"Sensitivity, TPR (%):{TPR}\")\n",
    "\n",
    "SP = round((TN / (FP + TN))*100,2)\n",
    "\n",
    "print(f\"SVM Specificity (%): {SP}\")\n",
    "      "
   ]
  },
  {
   "cell_type": "markdown",
   "metadata": {
    "pycharm": {
     "name": "#%% md\n"
    }
   },
   "source": [
    "#### ROC"
   ]
  },
  {
   "cell_type": "code",
   "execution_count": 110,
   "metadata": {
    "pycharm": {
     "name": "#%%\n"
    }
   },
   "outputs": [
    {
     "data": {
      "image/png": "[encoded data removed]",
      "text/plain": [
       "<Figure size 432x288 with 1 Axes>"
      ]
     },
     "metadata": {},
     "output_type": "display_data"
    },
    {
     "data": {
      "image/png": "[encoded data removed]",
      "text/plain": [
       "<Figure size 432x288 with 1 Axes>"
      ]
     },
     "metadata": {},
     "output_type": "display_data"
    }
   ],
   "source": [
    "\n",
    "# SVM ROC\n",
    "\n",
    "y_pred_svmroc = model_svm.predict_proba(X_test)[:,1]\n",
    "fpr, tpr, thresholds = roc_curve(y_test, y_pred_svmroc)\n",
    "plt.plot([0, 1], [0, 1], 'k--')\n",
    "plt.plot(fpr, tpr)\n",
    "plt.xlabel('False Positive Rate')\n",
    "plt.ylabel('True Positive Rate')\n",
    "plt.title('SVM ROC Curve')\n",
    "plt.show()\n",
    "\n",
    "# XGBoost ROC\n",
    "\n",
    "y_pred_xgbroc = model_xgboost.predict_proba(X_test)[:,1]\n",
    "fpr, tpr, thresholds = roc_curve(y_test, y_pred_xgbroc)\n",
    "plt.plot([0, 1], [0, 1], 'k--')\n",
    "plt.plot(fpr, tpr)\n",
    "plt.xlabel('False Positive Rate')\n",
    "plt.ylabel('True Positive Rate')\n",
    "plt.title('XGBoost ROC Curve')\n",
    "plt.show()"
   ]
  },
  {
   "cell_type": "markdown",
   "metadata": {
    "pycharm": {
     "name": "#%% md\n"
    }
   },
   "source": [
    "# GUI to avoid blackbox"
   ]
  },
  {
   "cell_type": "code",
   "execution_count": null,
   "metadata": {
    "pycharm": {
     "name": "#%%\n"
    }
   },
   "outputs": [],
   "source": []
  }
 ],
 "metadata": {
  "kernelspec": {
   "display_name": "Python 3 (ipykernel)",
   "language": "python",
   "name": "python3"
  },
  "language_info": {
   "codemirror_mode": {
    "name": "ipython",
    "version": 3
   },
   "file_extension": ".py",
   "mimetype": "text/x-python",
   "name": "python",
   "nbconvert_exporter": "python",
   "pygments_lexer": "ipython3",
   "version": "3.9.10"
  }
 },
 "nbformat": 4,
 "nbformat_minor": 1
}