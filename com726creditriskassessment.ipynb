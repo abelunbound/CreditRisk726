{
 "cells": [
  {
   "cell_type": "markdown",
   "metadata": {
    "pycharm": {
     "name": "#%% md\n"
    }
   },
   "source": [
    "# Chapter 3: Methodology"
   ]
  },
  {
   "cell_type": "markdown",
   "metadata": {
    "pycharm": {
     "name": "#%% md\n"
    }
   },
   "source": [
    "## 3.2 Data Collection and Preprocessing"
   ]
  },
  {
   "cell_type": "code",
   "execution_count": 1,
   "metadata": {
    "pycharm": {
     "name": "#%%\n"
    }
   },
   "outputs": [],
   "source": [
    "# Import Libraries and Dependencies\n",
    "\n",
    "import warnings\n",
    "warnings.filterwarnings('ignore')\n",
    "\n",
    "# Dependencies for data cleaning, analysis and manipulation\n",
    "import pandas as pd\n",
    "import numpy as np\n",
    "import statistics\n",
    "from scipy import stats\n",
    "from math import floor,ceil\n",
    "import statsmodels.api as sm\n",
    "\n",
    "#Dependencies for Data Visualisation\n",
    "import seaborn as sns\n",
    "import matplotlib.pyplot as plt\n",
    "from matplotlib.colors import ListedColormap\n",
    "# import scikitplot as skplt\n",
    "\n",
    "#Dependencies for Feature Extraction and Engineering\n",
    "\n",
    "# SKLEARN is installed from scikit-learn as sklearn is deperecated\n",
    "from sklearn.model_selection import train_test_split, KFold, cross_val_score\n",
    "from sklearn.preprocessing import StandardScaler\n",
    "from sklearn.decomposition import PCA\n",
    "\n",
    "\n",
    "### Dependencies for five (5) Model Creation \n",
    "\n",
    "#Dependencies for Logistic Regression\n",
    "from sklearn.linear_model import LogisticRegression\n",
    "\n",
    "#Dependencies for Decision Tree Classifier\n",
    "from sklearn.tree import DecisionTreeClassifier\n",
    "\n",
    "from xgboost import XGBClassifier\n",
    "\n",
    "#Dependencies for Random Forest Classifier\n",
    "from sklearn.ensemble import RandomForestClassifier\n",
    "\n",
    "#Dependencies for Support Vector Machines\n",
    "from sklearn.svm import SVC\n",
    "\n",
    "#Dependencies for K-Nearest Neighbours (KNN)\n",
    "# from sklearn.neighbors import KNeighborsClassifier\n",
    "\n",
    "#Dependencies for Model Evaluation\n",
    "from sklearn.metrics import confusion_matrix, ConfusionMatrixDisplay, roc_curve, accuracy_score, classification_report, roc_curve,auc, f1_score, precision_score, recall_score, roc_auc_score\n",
    "import sklearn.metrics as metrics\n"
   ]
  },
  {
   "cell_type": "markdown",
   "metadata": {
    "pycharm": {
     "name": "#%% md\n"
    }
   },
   "source": [
    "# Data Collection"
   ]
  },
  {
   "cell_type": "code",
   "execution_count": 2,
   "metadata": {
    "pycharm": {
     "name": "#%%\n"
    }
   },
   "outputs": [
    {
     "data": {
      "text/plain": "  Status of existing checking account  Duration in month Credit history  \\\n0                                 A11                  6            A34   \n1                                 A12                 48            A32   \n2                                 A14                 12            A34   \n3                                 A11                 42            A32   \n4                                 A11                 24            A33   \n\n  Purpose  Credit amount Savings account/bonds Present employment since  \\\n0     A43           1169                   A65                      A75   \n1     A43           5951                   A61                      A73   \n2     A46           2096                   A61                      A74   \n3     A42           7882                   A61                      A74   \n4     A40           4870                   A61                      A73   \n\n   Installment rate in percentage of disposable income  \\\n0                                                  4     \n1                                                  2     \n2                                                  2     \n3                                                  2     \n4                                                  3     \n\n  Personal status and sex Other debtors / guarantors  ...  Property  \\\n0                     A93                       A101  ...      A121   \n1                     A92                       A101  ...      A121   \n2                     A93                       A101  ...      A121   \n3                     A93                       A103  ...      A122   \n4                     A93                       A101  ...      A124   \n\n  Age in years  Other installment plans Housing  \\\n0           67                     A143    A152   \n1           22                     A143    A152   \n2           49                     A143    A152   \n3           45                     A143    A153   \n4           53                     A143    A153   \n\n  Number of existing credits at this bank   Job  \\\n0                                       2  A173   \n1                                       1  A173   \n2                                       1  A172   \n3                                       1  A173   \n4                                       2  A173   \n\n  Number of people being liable to provide maintenance for  Telephone  \\\n0                                                  1             A192   \n1                                                  1             A191   \n2                                                  2             A191   \n3                                                  2             A191   \n4                                                  2             A191   \n\n  foreign worker Cost Matrix(Risk)  \n0           A201                 1  \n1           A201                 2  \n2           A201                 1  \n3           A201                 1  \n4           A201                 2  \n\n[5 rows x 21 columns]",
      "text/html": "<div>\n<style scoped>\n    .dataframe tbody tr th:only-of-type {\n        vertical-align: middle;\n    }\n\n    .dataframe tbody tr th {\n        vertical-align: top;\n    }\n\n    .dataframe thead th {\n        text-align: right;\n    }\n</style>\n<table border=\"1\" class=\"dataframe\">\n  <thead>\n    <tr style=\"text-align: right;\">\n      <th></th>\n      <th>Status of existing checking account</th>\n      <th>Duration in month</th>\n      <th>Credit history</th>\n      <th>Purpose</th>\n      <th>Credit amount</th>\n      <th>Savings account/bonds</th>\n      <th>Present employment since</th>\n      <th>Installment rate in percentage of disposable income</th>\n      <th>Personal status and sex</th>\n      <th>Other debtors / guarantors</th>\n      <th>...</th>\n      <th>Property</th>\n      <th>Age in years</th>\n      <th>Other installment plans</th>\n      <th>Housing</th>\n      <th>Number of existing credits at this bank</th>\n      <th>Job</th>\n      <th>Number of people being liable to provide maintenance for</th>\n      <th>Telephone</th>\n      <th>foreign worker</th>\n      <th>Cost Matrix(Risk)</th>\n    </tr>\n  </thead>\n  <tbody>\n    <tr>\n      <th>0</th>\n      <td>A11</td>\n      <td>6</td>\n      <td>A34</td>\n      <td>A43</td>\n      <td>1169</td>\n      <td>A65</td>\n      <td>A75</td>\n      <td>4</td>\n      <td>A93</td>\n      <td>A101</td>\n      <td>...</td>\n      <td>A121</td>\n      <td>67</td>\n      <td>A143</td>\n      <td>A152</td>\n      <td>2</td>\n      <td>A173</td>\n      <td>1</td>\n      <td>A192</td>\n      <td>A201</td>\n      <td>1</td>\n    </tr>\n    <tr>\n      <th>1</th>\n      <td>A12</td>\n      <td>48</td>\n      <td>A32</td>\n      <td>A43</td>\n      <td>5951</td>\n      <td>A61</td>\n      <td>A73</td>\n      <td>2</td>\n      <td>A92</td>\n      <td>A101</td>\n      <td>...</td>\n      <td>A121</td>\n      <td>22</td>\n      <td>A143</td>\n      <td>A152</td>\n      <td>1</td>\n      <td>A173</td>\n      <td>1</td>\n      <td>A191</td>\n      <td>A201</td>\n      <td>2</td>\n    </tr>\n    <tr>\n      <th>2</th>\n      <td>A14</td>\n      <td>12</td>\n      <td>A34</td>\n      <td>A46</td>\n      <td>2096</td>\n      <td>A61</td>\n      <td>A74</td>\n      <td>2</td>\n      <td>A93</td>\n      <td>A101</td>\n      <td>...</td>\n      <td>A121</td>\n      <td>49</td>\n      <td>A143</td>\n      <td>A152</td>\n      <td>1</td>\n      <td>A172</td>\n      <td>2</td>\n      <td>A191</td>\n      <td>A201</td>\n      <td>1</td>\n    </tr>\n    <tr>\n      <th>3</th>\n      <td>A11</td>\n      <td>42</td>\n      <td>A32</td>\n      <td>A42</td>\n      <td>7882</td>\n      <td>A61</td>\n      <td>A74</td>\n      <td>2</td>\n      <td>A93</td>\n      <td>A103</td>\n      <td>...</td>\n      <td>A122</td>\n      <td>45</td>\n      <td>A143</td>\n      <td>A153</td>\n      <td>1</td>\n      <td>A173</td>\n      <td>2</td>\n      <td>A191</td>\n      <td>A201</td>\n      <td>1</td>\n    </tr>\n    <tr>\n      <th>4</th>\n      <td>A11</td>\n      <td>24</td>\n      <td>A33</td>\n      <td>A40</td>\n      <td>4870</td>\n      <td>A61</td>\n      <td>A73</td>\n      <td>3</td>\n      <td>A93</td>\n      <td>A101</td>\n      <td>...</td>\n      <td>A124</td>\n      <td>53</td>\n      <td>A143</td>\n      <td>A153</td>\n      <td>2</td>\n      <td>A173</td>\n      <td>2</td>\n      <td>A191</td>\n      <td>A201</td>\n      <td>2</td>\n    </tr>\n  </tbody>\n</table>\n<p>5 rows × 21 columns</p>\n</div>"
     },
     "execution_count": 2,
     "metadata": {},
     "output_type": "execute_result"
    }
   ],
   "source": [
    "# Data collection from data source\n",
    "\n",
    "german_credit_data = pd.read_csv(\"http://archive.ics.uci.edu/ml/machine-learning-databases/statlog/german/german.data\",sep=\" \",header=None)\n",
    "\n",
    "column_headers = [\"Status of existing checking account\",\"Duration in month\",\"Credit history\",\\\n",
    "         \"Purpose\",\"Credit amount\",\"Savings account/bonds\",\"Present employment since\",\\\n",
    "         \"Installment rate in percentage of disposable income\",\"Personal status and sex\",\\\n",
    "         \"Other debtors / guarantors\",\"Present residence since\",\"Property\",\"Age in years\",\\\n",
    "        \"Other installment plans\",\"Housing\",\"Number of existing credits at this bank\",\\\n",
    "        \"Job\",\"Number of people being liable to provide maintenance for\",\"Telephone\",\"foreign worker\",\"Cost Matrix(Risk)\"]\n",
    "\n",
    "german_credit_data.columns = column_headers\n",
    "\n",
    "#Save as CSV file\n",
    "german_credit_data.to_csv(\"germancreditdata_6_mar_2024.csv\",index=False)\n",
    "\n",
    "#Read data from CSV file\n",
    "ger_credit_df = pd.read_csv(\"germancreditdata_6_mar_2024.csv\")\n",
    "\n",
    "ger_credit_df.head()"
   ]
  },
  {
   "cell_type": "code",
   "execution_count": 3,
   "metadata": {
    "pycharm": {
     "name": "#%%\n"
    }
   },
   "outputs": [
    {
     "name": "stdout",
     "output_type": "stream",
     "text": [
      "There are 700 loans repaid on time (Good Risk, Cost Matrix(Risk) =1) and 300 loans defaulted (Bad Risk, Cost Matrix(Risk)=2) in the dataset\n"
     ]
    },
    {
     "data": {
      "text/plain": "<Figure size 432x288 with 1 Axes>",
      "image/png": "[encoded data removed]"
     },
     "metadata": {
      "needs_background": "light"
     },
     "output_type": "display_data"
    }
   ],
   "source": [
    "# Target data distribution\n",
    "\n",
    "ger_credit_df['Cost Matrix(Risk)'].astype(int).plot.hist(color='forestgreen').set_xlabel('Target or dependent variable: 1 or 2');\n",
    "\n",
    "count = ger_credit_df['Cost Matrix(Risk)'].value_counts()\n",
    "good_risk = count[1]\n",
    "bad_risk = count[2]\n",
    "\n",
    "print(\"There are {} loans repaid on time (Good Risk, Cost Matrix(Risk) =1) and {} loans defaulted (Bad Risk, Cost Matrix(Risk)=2) in the dataset\".format(good_risk, bad_risk))"
   ]
  },
  {
   "cell_type": "markdown",
   "metadata": {
    "pycharm": {
     "name": "#%% md\n"
    }
   },
   "source": [
    "### Data description\n",
    "\n",
    "::: German Credit Data:::\n",
    "\n",
    "1000 entries make up the dataset, which also includes 20 independent variables (13 categorical, 7 numerical), and 1 target variable created by Prof. Hofmann. Each entry in this collection reflects a person who accepts a bank credit. Depending on a set of factors, each person is categorised as either a good or bad credit risk.\n",
    "\n",
    "::: USA Credit Data :::\n",
    "\n"
   ]
  },
  {
   "cell_type": "markdown",
   "metadata": {
    "pycharm": {
     "name": "#%% md\n"
    }
   },
   "source": [
    "# Data Preprocessing"
   ]
  },
  {
   "cell_type": "code",
   "execution_count": 4,
   "metadata": {
    "pycharm": {
     "name": "#%%\n"
    }
   },
   "outputs": [
    {
     "data": {
      "text/plain": "  Status of existing checking account  Duration in month  \\\n0                               <0 DM                  6   \n1                        0 <= <200 DM                 48   \n2                 no checking account                 12   \n3                               <0 DM                 42   \n4                               <0 DM                 24   \n\n                             Credit history              Purpose  \\\n0                          critical account     radio/television   \n1  existing credits paid back duly till now     radio/television   \n2                          critical account            education   \n3  existing credits paid back duly till now  furniture/equipment   \n4                       delay in paying off            car (new)   \n\n   Credit amount Savings account/bonds Present employment since  \\\n0           1169    no savings account                >=7 years   \n1           5951               <100 DM            1<= < 4 years   \n2           2096               <100 DM             4<= <7 years   \n3           7882               <100 DM             4<= <7 years   \n4           4870               <100 DM            1<= < 4 years   \n\n   Installment rate in percentage of disposable income  \\\n0                                                  4     \n1                                                  2     \n2                                                  2     \n3                                                  2     \n4                                                  3     \n\n             Personal status and sex Other debtors / guarantors  ...  \\\n0                        male:single                       none  ...   \n1  female:divorced/separated/married                       none  ...   \n2                        male:single                       none  ...   \n3                        male:single                  guarantor  ...   \n4                        male:single                       none  ...   \n\n                           Property Age in years  Other installment plans  \\\n0                       real estate           67                     none   \n1                       real estate           22                     none   \n2                       real estate           49                     none   \n3  savings agreement/life insurance           45                     none   \n4             unknown / no property           53                     none   \n\n    Housing Number of existing credits at this bank  \\\n0       own                                       2   \n1       own                                       1   \n2       own                                       1   \n3  for free                                       1   \n4  for free                                       2   \n\n                           Job  \\\n0  skilled employee / official   \n1  skilled employee / official   \n2         unskilled - resident   \n3  skilled employee / official   \n4  skilled employee / official   \n\n  Number of people being liable to provide maintenance for  Telephone  \\\n0                                                  1              yes   \n1                                                  1             none   \n2                                                  2             none   \n3                                                  2             none   \n4                                                  2             none   \n\n  foreign worker Cost Matrix(Risk)  \n0            yes         Good Risk  \n1            yes          Bad Risk  \n2            yes         Good Risk  \n3            yes         Good Risk  \n4            yes          Bad Risk  \n\n[5 rows x 21 columns]",
      "text/html": "<div>\n<style scoped>\n    .dataframe tbody tr th:only-of-type {\n        vertical-align: middle;\n    }\n\n    .dataframe tbody tr th {\n        vertical-align: top;\n    }\n\n    .dataframe thead th {\n        text-align: right;\n    }\n</style>\n<table border=\"1\" class=\"dataframe\">\n  <thead>\n    <tr style=\"text-align: right;\">\n      <th></th>\n      <th>Status of existing checking account</th>\n      <th>Duration in month</th>\n      <th>Credit history</th>\n      <th>Purpose</th>\n      <th>Credit amount</th>\n      <th>Savings account/bonds</th>\n      <th>Present employment since</th>\n      <th>Installment rate in percentage of disposable income</th>\n      <th>Personal status and sex</th>\n      <th>Other debtors / guarantors</th>\n      <th>...</th>\n      <th>Property</th>\n      <th>Age in years</th>\n      <th>Other installment plans</th>\n      <th>Housing</th>\n      <th>Number of existing credits at this bank</th>\n      <th>Job</th>\n      <th>Number of people being liable to provide maintenance for</th>\n      <th>Telephone</th>\n      <th>foreign worker</th>\n      <th>Cost Matrix(Risk)</th>\n    </tr>\n  </thead>\n  <tbody>\n    <tr>\n      <th>0</th>\n      <td>&lt;0 DM</td>\n      <td>6</td>\n      <td>critical account</td>\n      <td>radio/television</td>\n      <td>1169</td>\n      <td>no savings account</td>\n      <td>&gt;=7 years</td>\n      <td>4</td>\n      <td>male:single</td>\n      <td>none</td>\n      <td>...</td>\n      <td>real estate</td>\n      <td>67</td>\n      <td>none</td>\n      <td>own</td>\n      <td>2</td>\n      <td>skilled employee / official</td>\n      <td>1</td>\n      <td>yes</td>\n      <td>yes</td>\n      <td>Good Risk</td>\n    </tr>\n    <tr>\n      <th>1</th>\n      <td>0 &lt;= &lt;200 DM</td>\n      <td>48</td>\n      <td>existing credits paid back duly till now</td>\n      <td>radio/television</td>\n      <td>5951</td>\n      <td>&lt;100 DM</td>\n      <td>1&lt;= &lt; 4 years</td>\n      <td>2</td>\n      <td>female:divorced/separated/married</td>\n      <td>none</td>\n      <td>...</td>\n      <td>real estate</td>\n      <td>22</td>\n      <td>none</td>\n      <td>own</td>\n      <td>1</td>\n      <td>skilled employee / official</td>\n      <td>1</td>\n      <td>none</td>\n      <td>yes</td>\n      <td>Bad Risk</td>\n    </tr>\n    <tr>\n      <th>2</th>\n      <td>no checking account</td>\n      <td>12</td>\n      <td>critical account</td>\n      <td>education</td>\n      <td>2096</td>\n      <td>&lt;100 DM</td>\n      <td>4&lt;= &lt;7 years</td>\n      <td>2</td>\n      <td>male:single</td>\n      <td>none</td>\n      <td>...</td>\n      <td>real estate</td>\n      <td>49</td>\n      <td>none</td>\n      <td>own</td>\n      <td>1</td>\n      <td>unskilled - resident</td>\n      <td>2</td>\n      <td>none</td>\n      <td>yes</td>\n      <td>Good Risk</td>\n    </tr>\n    <tr>\n      <th>3</th>\n      <td>&lt;0 DM</td>\n      <td>42</td>\n      <td>existing credits paid back duly till now</td>\n      <td>furniture/equipment</td>\n      <td>7882</td>\n      <td>&lt;100 DM</td>\n      <td>4&lt;= &lt;7 years</td>\n      <td>2</td>\n      <td>male:single</td>\n      <td>guarantor</td>\n      <td>...</td>\n      <td>savings agreement/life insurance</td>\n      <td>45</td>\n      <td>none</td>\n      <td>for free</td>\n      <td>1</td>\n      <td>skilled employee / official</td>\n      <td>2</td>\n      <td>none</td>\n      <td>yes</td>\n      <td>Good Risk</td>\n    </tr>\n    <tr>\n      <th>4</th>\n      <td>&lt;0 DM</td>\n      <td>24</td>\n      <td>delay in paying off</td>\n      <td>car (new)</td>\n      <td>4870</td>\n      <td>&lt;100 DM</td>\n      <td>1&lt;= &lt; 4 years</td>\n      <td>3</td>\n      <td>male:single</td>\n      <td>none</td>\n      <td>...</td>\n      <td>unknown / no property</td>\n      <td>53</td>\n      <td>none</td>\n      <td>for free</td>\n      <td>2</td>\n      <td>skilled employee / official</td>\n      <td>2</td>\n      <td>none</td>\n      <td>yes</td>\n      <td>Bad Risk</td>\n    </tr>\n  </tbody>\n</table>\n<p>5 rows × 21 columns</p>\n</div>"
     },
     "execution_count": 4,
     "metadata": {},
     "output_type": "execute_result"
    }
   ],
   "source": [
    "\n",
    "# The current CSV file collected contains keys like \"A14, A61\" for each of the columns\n",
    "# UCI provides a description of each of this keys. \n",
    "# To proceed we need to map this these keys/entries to their respective descriptions by creating \n",
    "# a dictionary with a key-value pair for each feature. The key represents current entry, while values represent description\n",
    "# and using the .map() iterative method. The map() method creates a new array populated with \n",
    "# the results of calling a provided function on every element in the calling array.\n",
    "\n",
    "\n",
    "\n",
    "#Key-Value Pair for 13 categorical features\n",
    "Status_of_existing_checking_account={'A14':\"no checking account\",'A11':\"<0 DM\", 'A12': \"0 <= <200 DM\",'A13':\">= 200 DM \"}\n",
    "Credit_history={\"A34\":\"critical account\",\"A33\":\"delay in paying off\",\"A32\":\"existing credits paid back duly till now\",\"A31\":\"all credits at this bank paid back duly\",\"A30\":\"no credits taken\"}\n",
    "Purpose={\"A40\" : \"car (new)\", \"A41\" : \"car (used)\", \"A42\" : \"furniture/equipment\", \"A43\" :\"radio/television\" , \"A44\" : \"domestic appliances\", \"A45\" : \"repairs\", \"A46\" : \"education\", 'A47' : 'vacation','A48' : 'retraining','A49' : 'business','A410' : 'others'}\n",
    "Saving_account={\"A65\" : \"no savings account\",\"A61\" :\"<100 DM\",\"A62\" : \"100 <= <500 DM\",\"A63\" :\"500 <= < 1000 DM\", \"A64\" :\">= 1000 DM\"}\n",
    "Present_employment={'A75':\">=7 years\", 'A74':\"4<= <7 years\",  'A73':\"1<= < 4 years\", 'A72':\"<1 years\",'A71':\"unemployed\"}\n",
    "Personal_status_and_sex={ 'A95':\"female:single\",'A94':\"male:married/widowed\",'A93':\"male:single\", 'A92':\"female:divorced/separated/married\", 'A91':\"male:divorced/separated\"}\n",
    "Other_debtors_guarantors={'A101':\"none\", 'A102':\"co-applicant\", 'A103':\"guarantor\"}\n",
    "Property={'A121':\"real estate\", 'A122':\"savings agreement/life insurance\", 'A123':\"car or other\", 'A124':\"unknown / no property\"}\n",
    "Other_installment_plans={'A143':\"none\", 'A142':\"store\", 'A141':\"bank\"}\n",
    "Housing={'A153':\"for free\", 'A152':\"own\", 'A151':\"rent\"}\n",
    "Job={'A174':\"management/ highly qualified employee\", 'A173':\"skilled employee / official\", 'A172':\"unskilled - resident\", 'A171':\"unemployed/ unskilled  - non-resident\"}\n",
    "Telephone={'A192':\"yes\", 'A191':\"none\"}\n",
    "foreign_worker={'A201':\"yes\", 'A202':\"no\"}\n",
    "risk={1:\"Good Risk\", 2:\"Bad Risk\"}\n",
    "\n",
    "#Using Map function to replace values in the columns\n",
    "ger_credit_df[\"Status of existing checking account\"]=ger_credit_df[\"Status of existing checking account\"].map(Status_of_existing_checking_account)\n",
    "ger_credit_df[\"Credit history\"]=ger_credit_df[\"Credit history\"].map(Credit_history)\n",
    "ger_credit_df[\"Purpose\"]=ger_credit_df[\"Purpose\"].map(Purpose)\n",
    "ger_credit_df[\"Savings account/bonds\"]=ger_credit_df[\"Savings account/bonds\"].map(Saving_account)\n",
    "ger_credit_df[\"Present employment since\"]=ger_credit_df[\"Present employment since\"].map(Present_employment)\n",
    "ger_credit_df[\"Personal status and sex\"]=ger_credit_df[\"Personal status and sex\"].map(Personal_status_and_sex)\n",
    "ger_credit_df[\"Other debtors / guarantors\"]=ger_credit_df[\"Other debtors / guarantors\"].map(Other_debtors_guarantors)\n",
    "ger_credit_df[\"Property\"]=ger_credit_df[\"Property\"].map(Property)\n",
    "ger_credit_df[\"Other installment plans\"]=ger_credit_df[\"Other installment plans\"].map(Other_installment_plans)\n",
    "ger_credit_df[\"Housing\"]=ger_credit_df[\"Housing\"].map(Housing)\n",
    "ger_credit_df[\"Job\"]=ger_credit_df[\"Job\"].map(Job)\n",
    "ger_credit_df[\"Telephone\"]=ger_credit_df[\"Telephone\"].map(Telephone)\n",
    "ger_credit_df[\"foreign worker\"]=ger_credit_df[\"foreign worker\"].map(foreign_worker)\n",
    "ger_credit_df[\"Cost Matrix(Risk)\"]=ger_credit_df[\"Cost Matrix(Risk)\"].map(risk)\n",
    "\n",
    "\n",
    "ger_credit_df.head(5)"
   ]
  },
  {
   "cell_type": "code",
   "execution_count": 5,
   "metadata": {
    "pycharm": {
     "name": "#%%\n"
    }
   },
   "outputs": [
    {
     "data": {
      "text/plain": "  Status of existing checking account  Duration in month  \\\n0                               <0 DM                  6   \n1                        0 <= <200 DM                 48   \n2                 no checking account                 12   \n3                               <0 DM                 42   \n4                               <0 DM                 24   \n\n                             Credit history              Purpose  \\\n0                          critical account     radio/television   \n1  existing credits paid back duly till now     radio/television   \n2                          critical account            education   \n3  existing credits paid back duly till now  furniture/equipment   \n4                       delay in paying off            car (new)   \n\n   Credit amount Savings account/bonds Present employment since  \\\n0           1169    no savings account                >=7 years   \n1           5951               <100 DM            1<= < 4 years   \n2           2096               <100 DM             4<= <7 years   \n3           7882               <100 DM             4<= <7 years   \n4           4870               <100 DM            1<= < 4 years   \n\n   Installment rate in percentage of disposable income  \\\n0                                                  4     \n1                                                  2     \n2                                                  2     \n3                                                  2     \n4                                                  3     \n\n             Personal status and sex Other debtors / guarantors  ...  \\\n0                        male:single                       none  ...   \n1  female:divorced/separated/married                       none  ...   \n2                        male:single                       none  ...   \n3                        male:single                  guarantor  ...   \n4                        male:single                       none  ...   \n\n                           Property Age in years  Other installment plans  \\\n0                       real estate           67                     none   \n1                       real estate           22                     none   \n2                       real estate           49                     none   \n3  savings agreement/life insurance           45                     none   \n4             unknown / no property           53                     none   \n\n    Housing Number of existing credits at this bank  \\\n0       own                                       2   \n1       own                                       1   \n2       own                                       1   \n3  for free                                       1   \n4  for free                                       2   \n\n                           Job  \\\n0  skilled employee / official   \n1  skilled employee / official   \n2         unskilled - resident   \n3  skilled employee / official   \n4  skilled employee / official   \n\n  Number of people being liable to provide maintenance for  Telephone  \\\n0                                                  1              yes   \n1                                                  1             none   \n2                                                  2             none   \n3                                                  2             none   \n4                                                  2             none   \n\n  foreign worker Credit Risk  \n0            yes   Good Risk  \n1            yes    Bad Risk  \n2            yes   Good Risk  \n3            yes   Good Risk  \n4            yes    Bad Risk  \n\n[5 rows x 21 columns]",
      "text/html": "<div>\n<style scoped>\n    .dataframe tbody tr th:only-of-type {\n        vertical-align: middle;\n    }\n\n    .dataframe tbody tr th {\n        vertical-align: top;\n    }\n\n    .dataframe thead th {\n        text-align: right;\n    }\n</style>\n<table border=\"1\" class=\"dataframe\">\n  <thead>\n    <tr style=\"text-align: right;\">\n      <th></th>\n      <th>Status of existing checking account</th>\n      <th>Duration in month</th>\n      <th>Credit history</th>\n      <th>Purpose</th>\n      <th>Credit amount</th>\n      <th>Savings account/bonds</th>\n      <th>Present employment since</th>\n      <th>Installment rate in percentage of disposable income</th>\n      <th>Personal status and sex</th>\n      <th>Other debtors / guarantors</th>\n      <th>...</th>\n      <th>Property</th>\n      <th>Age in years</th>\n      <th>Other installment plans</th>\n      <th>Housing</th>\n      <th>Number of existing credits at this bank</th>\n      <th>Job</th>\n      <th>Number of people being liable to provide maintenance for</th>\n      <th>Telephone</th>\n      <th>foreign worker</th>\n      <th>Credit Risk</th>\n    </tr>\n  </thead>\n  <tbody>\n    <tr>\n      <th>0</th>\n      <td>&lt;0 DM</td>\n      <td>6</td>\n      <td>critical account</td>\n      <td>radio/television</td>\n      <td>1169</td>\n      <td>no savings account</td>\n      <td>&gt;=7 years</td>\n      <td>4</td>\n      <td>male:single</td>\n      <td>none</td>\n      <td>...</td>\n      <td>real estate</td>\n      <td>67</td>\n      <td>none</td>\n      <td>own</td>\n      <td>2</td>\n      <td>skilled employee / official</td>\n      <td>1</td>\n      <td>yes</td>\n      <td>yes</td>\n      <td>Good Risk</td>\n    </tr>\n    <tr>\n      <th>1</th>\n      <td>0 &lt;= &lt;200 DM</td>\n      <td>48</td>\n      <td>existing credits paid back duly till now</td>\n      <td>radio/television</td>\n      <td>5951</td>\n      <td>&lt;100 DM</td>\n      <td>1&lt;= &lt; 4 years</td>\n      <td>2</td>\n      <td>female:divorced/separated/married</td>\n      <td>none</td>\n      <td>...</td>\n      <td>real estate</td>\n      <td>22</td>\n      <td>none</td>\n      <td>own</td>\n      <td>1</td>\n      <td>skilled employee / official</td>\n      <td>1</td>\n      <td>none</td>\n      <td>yes</td>\n      <td>Bad Risk</td>\n    </tr>\n    <tr>\n      <th>2</th>\n      <td>no checking account</td>\n      <td>12</td>\n      <td>critical account</td>\n      <td>education</td>\n      <td>2096</td>\n      <td>&lt;100 DM</td>\n      <td>4&lt;= &lt;7 years</td>\n      <td>2</td>\n      <td>male:single</td>\n      <td>none</td>\n      <td>...</td>\n      <td>real estate</td>\n      <td>49</td>\n      <td>none</td>\n      <td>own</td>\n      <td>1</td>\n      <td>unskilled - resident</td>\n      <td>2</td>\n      <td>none</td>\n      <td>yes</td>\n      <td>Good Risk</td>\n    </tr>\n    <tr>\n      <th>3</th>\n      <td>&lt;0 DM</td>\n      <td>42</td>\n      <td>existing credits paid back duly till now</td>\n      <td>furniture/equipment</td>\n      <td>7882</td>\n      <td>&lt;100 DM</td>\n      <td>4&lt;= &lt;7 years</td>\n      <td>2</td>\n      <td>male:single</td>\n      <td>guarantor</td>\n      <td>...</td>\n      <td>savings agreement/life insurance</td>\n      <td>45</td>\n      <td>none</td>\n      <td>for free</td>\n      <td>1</td>\n      <td>skilled employee / official</td>\n      <td>2</td>\n      <td>none</td>\n      <td>yes</td>\n      <td>Good Risk</td>\n    </tr>\n    <tr>\n      <th>4</th>\n      <td>&lt;0 DM</td>\n      <td>24</td>\n      <td>delay in paying off</td>\n      <td>car (new)</td>\n      <td>4870</td>\n      <td>&lt;100 DM</td>\n      <td>1&lt;= &lt; 4 years</td>\n      <td>3</td>\n      <td>male:single</td>\n      <td>none</td>\n      <td>...</td>\n      <td>unknown / no property</td>\n      <td>53</td>\n      <td>none</td>\n      <td>for free</td>\n      <td>2</td>\n      <td>skilled employee / official</td>\n      <td>2</td>\n      <td>none</td>\n      <td>yes</td>\n      <td>Bad Risk</td>\n    </tr>\n  </tbody>\n</table>\n<p>5 rows × 21 columns</p>\n</div>"
     },
     "execution_count": 5,
     "metadata": {},
     "output_type": "execute_result"
    }
   ],
   "source": [
    "#Rename Column \n",
    "\n",
    "ger_credit_df.rename(columns = {'Cost Matrix(Risk)':'Credit Risk'}, inplace = True)\n",
    "ger_credit_df.head(5)\n"
   ]
  },
  {
   "cell_type": "code",
   "execution_count": 6,
   "metadata": {
    "pycharm": {
     "name": "#%%\n"
    }
   },
   "outputs": [
    {
     "data": {
      "text/plain": "  Status of existing checking account  Duration in month  \\\n0                               <0 DM                  6   \n1                        0 <= <200 DM                 48   \n2                 no checking account                 12   \n3                               <0 DM                 42   \n4                               <0 DM                 24   \n\n                             Credit history              Purpose  \\\n0                          critical account     radio/television   \n1  existing credits paid back duly till now     radio/television   \n2                          critical account            education   \n3  existing credits paid back duly till now  furniture/equipment   \n4                       delay in paying off            car (new)   \n\n   Credit amount Savings account/bonds Present employment since  \\\n0           1169    no savings account                >=7 years   \n1           5951               <100 DM            1<= < 4 years   \n2           2096               <100 DM             4<= <7 years   \n3           7882               <100 DM             4<= <7 years   \n4           4870               <100 DM            1<= < 4 years   \n\n   Installment rate in percentage of disposable income  \\\n0                                                  4     \n1                                                  2     \n2                                                  2     \n3                                                  2     \n4                                                  3     \n\n             Personal status and sex Other debtors / guarantors  ...  \\\n0                        male:single                       none  ...   \n1  female:divorced/separated/married                       none  ...   \n2                        male:single                       none  ...   \n3                        male:single                  guarantor  ...   \n4                        male:single                       none  ...   \n\n                           Property Age in years  Other installment plans  \\\n0                       real estate           67                     none   \n1                       real estate           22                     none   \n2                       real estate           49                     none   \n3  savings agreement/life insurance           45                     none   \n4             unknown / no property           53                     none   \n\n    Housing Number of existing credits at this bank  \\\n0       own                                       2   \n1       own                                       1   \n2       own                                       1   \n3  for free                                       1   \n4  for free                                       2   \n\n                           Job  \\\n0  skilled employee / official   \n1  skilled employee / official   \n2         unskilled - resident   \n3  skilled employee / official   \n4  skilled employee / official   \n\n  Number of people being liable to provide maintenance for  Telephone  \\\n0                                                  1              yes   \n1                                                  1             none   \n2                                                  2             none   \n3                                                  2             none   \n4                                                  2             none   \n\n  foreign worker Credit Risk  \n0            yes   Good Risk  \n1            yes    Bad Risk  \n2            yes   Good Risk  \n3            yes   Good Risk  \n4            yes    Bad Risk  \n\n[5 rows x 21 columns]",
      "text/html": "<div>\n<style scoped>\n    .dataframe tbody tr th:only-of-type {\n        vertical-align: middle;\n    }\n\n    .dataframe tbody tr th {\n        vertical-align: top;\n    }\n\n    .dataframe thead th {\n        text-align: right;\n    }\n</style>\n<table border=\"1\" class=\"dataframe\">\n  <thead>\n    <tr style=\"text-align: right;\">\n      <th></th>\n      <th>Status of existing checking account</th>\n      <th>Duration in month</th>\n      <th>Credit history</th>\n      <th>Purpose</th>\n      <th>Credit amount</th>\n      <th>Savings account/bonds</th>\n      <th>Present employment since</th>\n      <th>Installment rate in percentage of disposable income</th>\n      <th>Personal status and sex</th>\n      <th>Other debtors / guarantors</th>\n      <th>...</th>\n      <th>Property</th>\n      <th>Age in years</th>\n      <th>Other installment plans</th>\n      <th>Housing</th>\n      <th>Number of existing credits at this bank</th>\n      <th>Job</th>\n      <th>Number of people being liable to provide maintenance for</th>\n      <th>Telephone</th>\n      <th>foreign worker</th>\n      <th>Credit Risk</th>\n    </tr>\n  </thead>\n  <tbody>\n    <tr>\n      <th>0</th>\n      <td>&lt;0 DM</td>\n      <td>6</td>\n      <td>critical account</td>\n      <td>radio/television</td>\n      <td>1169</td>\n      <td>no savings account</td>\n      <td>&gt;=7 years</td>\n      <td>4</td>\n      <td>male:single</td>\n      <td>none</td>\n      <td>...</td>\n      <td>real estate</td>\n      <td>67</td>\n      <td>none</td>\n      <td>own</td>\n      <td>2</td>\n      <td>skilled employee / official</td>\n      <td>1</td>\n      <td>yes</td>\n      <td>yes</td>\n      <td>Good Risk</td>\n    </tr>\n    <tr>\n      <th>1</th>\n      <td>0 &lt;= &lt;200 DM</td>\n      <td>48</td>\n      <td>existing credits paid back duly till now</td>\n      <td>radio/television</td>\n      <td>5951</td>\n      <td>&lt;100 DM</td>\n      <td>1&lt;= &lt; 4 years</td>\n      <td>2</td>\n      <td>female:divorced/separated/married</td>\n      <td>none</td>\n      <td>...</td>\n      <td>real estate</td>\n      <td>22</td>\n      <td>none</td>\n      <td>own</td>\n      <td>1</td>\n      <td>skilled employee / official</td>\n      <td>1</td>\n      <td>none</td>\n      <td>yes</td>\n      <td>Bad Risk</td>\n    </tr>\n    <tr>\n      <th>2</th>\n      <td>no checking account</td>\n      <td>12</td>\n      <td>critical account</td>\n      <td>education</td>\n      <td>2096</td>\n      <td>&lt;100 DM</td>\n      <td>4&lt;= &lt;7 years</td>\n      <td>2</td>\n      <td>male:single</td>\n      <td>none</td>\n      <td>...</td>\n      <td>real estate</td>\n      <td>49</td>\n      <td>none</td>\n      <td>own</td>\n      <td>1</td>\n      <td>unskilled - resident</td>\n      <td>2</td>\n      <td>none</td>\n      <td>yes</td>\n      <td>Good Risk</td>\n    </tr>\n    <tr>\n      <th>3</th>\n      <td>&lt;0 DM</td>\n      <td>42</td>\n      <td>existing credits paid back duly till now</td>\n      <td>furniture/equipment</td>\n      <td>7882</td>\n      <td>&lt;100 DM</td>\n      <td>4&lt;= &lt;7 years</td>\n      <td>2</td>\n      <td>male:single</td>\n      <td>guarantor</td>\n      <td>...</td>\n      <td>savings agreement/life insurance</td>\n      <td>45</td>\n      <td>none</td>\n      <td>for free</td>\n      <td>1</td>\n      <td>skilled employee / official</td>\n      <td>2</td>\n      <td>none</td>\n      <td>yes</td>\n      <td>Good Risk</td>\n    </tr>\n    <tr>\n      <th>4</th>\n      <td>&lt;0 DM</td>\n      <td>24</td>\n      <td>delay in paying off</td>\n      <td>car (new)</td>\n      <td>4870</td>\n      <td>&lt;100 DM</td>\n      <td>1&lt;= &lt; 4 years</td>\n      <td>3</td>\n      <td>male:single</td>\n      <td>none</td>\n      <td>...</td>\n      <td>unknown / no property</td>\n      <td>53</td>\n      <td>none</td>\n      <td>for free</td>\n      <td>2</td>\n      <td>skilled employee / official</td>\n      <td>2</td>\n      <td>none</td>\n      <td>yes</td>\n      <td>Bad Risk</td>\n    </tr>\n  </tbody>\n</table>\n<p>5 rows × 21 columns</p>\n</div>"
     },
     "execution_count": 6,
     "metadata": {},
     "output_type": "execute_result"
    }
   ],
   "source": [
    "#Save a copy of the dataset\n",
    "backup_ger_credit_df = ger_credit_df.copy()\n",
    "backup_ger_credit_df.head(5)\n",
    "# ger_credit_df.head(2)"
   ]
  },
  {
   "cell_type": "markdown",
   "metadata": {
    "pycharm": {
     "name": "#%% md\n"
    }
   },
   "source": [
    "# Data Understanding"
   ]
  },
  {
   "cell_type": "code",
   "execution_count": 7,
   "metadata": {
    "pycharm": {
     "name": "#%%\n"
    }
   },
   "outputs": [
    {
     "data": {
      "text/plain": "(1000, 21)"
     },
     "execution_count": 7,
     "metadata": {},
     "output_type": "execute_result"
    }
   ],
   "source": [
    "# Data Overview\n",
    "ger_credit_df.shape"
   ]
  },
  {
   "cell_type": "code",
   "execution_count": 8,
   "metadata": {
    "pycharm": {
     "name": "#%%\n"
    }
   },
   "outputs": [
    {
     "data": {
      "text/plain": "Status of existing checking account                         object\nDuration in month                                            int64\nCredit history                                              object\nPurpose                                                     object\nCredit amount                                                int64\nSavings account/bonds                                       object\nPresent employment since                                    object\nInstallment rate in percentage of disposable income          int64\nPersonal status and sex                                     object\nOther debtors / guarantors                                  object\nPresent residence since                                      int64\nProperty                                                    object\nAge in years                                                 int64\nOther installment plans                                     object\nHousing                                                     object\nNumber of existing credits at this bank                      int64\nJob                                                         object\nNumber of people being liable to provide maintenance for     int64\nTelephone                                                   object\nforeign worker                                              object\nCredit Risk                                                 object\ndtype: object"
     },
     "execution_count": 8,
     "metadata": {},
     "output_type": "execute_result"
    }
   ],
   "source": [
    "ger_credit_df.dtypes"
   ]
  },
  {
   "cell_type": "code",
   "execution_count": 9,
   "metadata": {
    "pycharm": {
     "name": "#%%\n"
    }
   },
   "outputs": [
    {
     "data": {
      "text/plain": "Status of existing checking account                         0\nDuration in month                                           0\nCredit history                                              0\nPurpose                                                     0\nCredit amount                                               0\nSavings account/bonds                                       0\nPresent employment since                                    0\nInstallment rate in percentage of disposable income         0\nPersonal status and sex                                     0\nOther debtors / guarantors                                  0\nPresent residence since                                     0\nProperty                                                    0\nAge in years                                                0\nOther installment plans                                     0\nHousing                                                     0\nNumber of existing credits at this bank                     0\nJob                                                         0\nNumber of people being liable to provide maintenance for    0\nTelephone                                                   0\nforeign worker                                              0\nCredit Risk                                                 0\ndtype: int64"
     },
     "execution_count": 9,
     "metadata": {},
     "output_type": "execute_result"
    }
   ],
   "source": [
    "# Checking for null values \n",
    "ger_credit_df.isna().sum(axis = 0)"
   ]
  },
  {
   "cell_type": "code",
   "execution_count": 10,
   "metadata": {
    "pycharm": {
     "name": "#%%\n"
    }
   },
   "outputs": [
    {
     "data": {
      "text/plain": "       Credit amount  Duration in month  \\\ncount    1000.000000        1000.000000   \nmean     3271.258000          20.903000   \nstd      2822.736876          12.058814   \nmin       250.000000           4.000000   \n25%      1365.500000          12.000000   \n50%      2319.500000          18.000000   \n75%      3972.250000          24.000000   \nmax     18424.000000          72.000000   \n\n       Installment rate in percentage of disposable income  Age in years  \\\ncount                                        1000.000000     1000.000000   \nmean                                            2.973000       35.546000   \nstd                                             1.118715       11.375469   \nmin                                             1.000000       19.000000   \n25%                                             2.000000       27.000000   \n50%                                             3.000000       33.000000   \n75%                                             4.000000       42.000000   \nmax                                             4.000000       75.000000   \n\n       Present residence since  Number of existing credits at this bank  \\\ncount              1000.000000                              1000.000000   \nmean                  2.845000                                 1.407000   \nstd                   1.103718                                 0.577654   \nmin                   1.000000                                 1.000000   \n25%                   2.000000                                 1.000000   \n50%                   3.000000                                 1.000000   \n75%                   4.000000                                 2.000000   \nmax                   4.000000                                 4.000000   \n\n       Number of people being liable to provide maintenance for  \ncount                                        1000.000000         \nmean                                            1.155000         \nstd                                             0.362086         \nmin                                             1.000000         \n25%                                             1.000000         \n50%                                             1.000000         \n75%                                             1.000000         \nmax                                             2.000000         ",
      "text/html": "<div>\n<style scoped>\n    .dataframe tbody tr th:only-of-type {\n        vertical-align: middle;\n    }\n\n    .dataframe tbody tr th {\n        vertical-align: top;\n    }\n\n    .dataframe thead th {\n        text-align: right;\n    }\n</style>\n<table border=\"1\" class=\"dataframe\">\n  <thead>\n    <tr style=\"text-align: right;\">\n      <th></th>\n      <th>Credit amount</th>\n      <th>Duration in month</th>\n      <th>Installment rate in percentage of disposable income</th>\n      <th>Age in years</th>\n      <th>Present residence since</th>\n      <th>Number of existing credits at this bank</th>\n      <th>Number of people being liable to provide maintenance for</th>\n    </tr>\n  </thead>\n  <tbody>\n    <tr>\n      <th>count</th>\n      <td>1000.000000</td>\n      <td>1000.000000</td>\n      <td>1000.000000</td>\n      <td>1000.000000</td>\n      <td>1000.000000</td>\n      <td>1000.000000</td>\n      <td>1000.000000</td>\n    </tr>\n    <tr>\n      <th>mean</th>\n      <td>3271.258000</td>\n      <td>20.903000</td>\n      <td>2.973000</td>\n      <td>35.546000</td>\n      <td>2.845000</td>\n      <td>1.407000</td>\n      <td>1.155000</td>\n    </tr>\n    <tr>\n      <th>std</th>\n      <td>2822.736876</td>\n      <td>12.058814</td>\n      <td>1.118715</td>\n      <td>11.375469</td>\n      <td>1.103718</td>\n      <td>0.577654</td>\n      <td>0.362086</td>\n    </tr>\n    <tr>\n      <th>min</th>\n      <td>250.000000</td>\n      <td>4.000000</td>\n      <td>1.000000</td>\n      <td>19.000000</td>\n      <td>1.000000</td>\n      <td>1.000000</td>\n      <td>1.000000</td>\n    </tr>\n    <tr>\n      <th>25%</th>\n      <td>1365.500000</td>\n      <td>12.000000</td>\n      <td>2.000000</td>\n      <td>27.000000</td>\n      <td>2.000000</td>\n      <td>1.000000</td>\n      <td>1.000000</td>\n    </tr>\n    <tr>\n      <th>50%</th>\n      <td>2319.500000</td>\n      <td>18.000000</td>\n      <td>3.000000</td>\n      <td>33.000000</td>\n      <td>3.000000</td>\n      <td>1.000000</td>\n      <td>1.000000</td>\n    </tr>\n    <tr>\n      <th>75%</th>\n      <td>3972.250000</td>\n      <td>24.000000</td>\n      <td>4.000000</td>\n      <td>42.000000</td>\n      <td>4.000000</td>\n      <td>2.000000</td>\n      <td>1.000000</td>\n    </tr>\n    <tr>\n      <th>max</th>\n      <td>18424.000000</td>\n      <td>72.000000</td>\n      <td>4.000000</td>\n      <td>75.000000</td>\n      <td>4.000000</td>\n      <td>4.000000</td>\n      <td>2.000000</td>\n    </tr>\n  </tbody>\n</table>\n</div>"
     },
     "execution_count": 10,
     "metadata": {},
     "output_type": "execute_result"
    }
   ],
   "source": [
    "\n",
    "#Statistical view of numerical variables\n",
    "ger_credit_df[[\"Credit amount\",\\\n",
    "               \"Duration in month\",\\\n",
    "               \"Installment rate in percentage of disposable income\",\\\n",
    "               \"Age in years\",\\\n",
    "               \"Present residence since\",\\\n",
    "               \"Number of existing credits at this bank\",\\\n",
    "               \"Number of people being liable to provide maintenance for\"\n",
    "               \n",
    "              ]].describe()\n",
    "\n",
    "\n",
    "# .to_csv(\"stats_credit2.csv\", index=False)\n",
    "\n",
    "# ger_credit_df"
   ]
  },
  {
   "cell_type": "code",
   "execution_count": 11,
   "metadata": {
    "pycharm": {
     "name": "#%%\n"
    }
   },
   "outputs": [
    {
     "data": {
      "text/plain": "<Figure size 1080x360 with 3 Axes>",
      "image/png": "[encoded data removed]"
     },
     "metadata": {},
     "output_type": "display_data"
    },
    {
     "data": {
      "text/plain": "<Figure size 1080x360 with 3 Axes>",
      "image/png": "[encoded data removed]"
     },
     "metadata": {},
     "output_type": "display_data"
    },
    {
     "data": {
      "text/plain": "<Figure size 1080x360 with 1 Axes>",
      "image/png": "[encoded data removed]"
     },
     "metadata": {},
     "output_type": "display_data"
    }
   ],
   "source": [
    "#Checking for and removal of outliers\n",
    "\n",
    "sns.set()\n",
    "f, axes = plt.subplots(1, 3,figsize=(15,5))\n",
    "sns.boxplot(y=ger_credit_df[\"Credit amount\"],x=ger_credit_df[\"Credit Risk\"],orient='v' , ax=axes[0],palette=[\"#800080\",\"#808000\"]) #box plot\n",
    "sns.boxplot(y=ger_credit_df[\"Duration in month\"],x=ger_credit_df[\"Credit Risk\"], orient='v' , ax=axes[1],palette=[\"#800080\",\"#808000\"]) #box plot\n",
    "sns.boxplot(y=ger_credit_df[\"Installment rate in percentage of disposable income\"],x=ger_credit_df[\"Credit Risk\"], orient='v' , ax=axes[2],palette=[\"#800080\",\"#808000\"]) #box plot\n",
    "\n",
    "plt.show()\n",
    "\n",
    "sns.set()\n",
    "f, axes = plt.subplots(1, 3,figsize=(15,5))\n",
    "sns.boxplot(y=ger_credit_df[\"Age in years\"],x=ger_credit_df[\"Credit Risk\"],orient='v' , ax=axes[0],palette=[\"#800080\",\"#808000\"]) #box plot\n",
    "sns.boxplot(y=ger_credit_df[\"Present residence since\"],x=ger_credit_df[\"Credit Risk\"], orient='v' , ax=axes[1],palette=[\"#800080\",\"#808000\"]) #box plot\n",
    "sns.boxplot(y=ger_credit_df[\"Number of existing credits at this bank\"],x=ger_credit_df[\"Credit Risk\"], orient='v' , ax=axes[2],palette=[\"#800080\",\"#808000\"]) #box plot\n",
    "\n",
    "plt.show()\n",
    "\n",
    "sns.set()\n",
    "f, axes = plt.subplots(1, 1,figsize=(15,5))\n",
    "sns.boxplot(y=ger_credit_df[\"Number of people being liable to provide maintenance for\"],x=ger_credit_df[\"Credit Risk\"],orient='v',palette=[\"#800080\",\"#808000\"]) #box plot\n",
    "\n",
    "plt.show()\n",
    "\n",
    "\n",
    "\n",
    "## Replacement of outliers using IQR"
   ]
  },
  {
   "cell_type": "code",
   "execution_count": 12,
   "metadata": {
    "pycharm": {
     "name": "#%%\n"
    }
   },
   "outputs": [],
   "source": [
    "# Removing outliers with the IQR method\n",
    "\n",
    "class OutlierDetector:\n",
    "    def __init__(self, variables, ger_credit_df):\n",
    "        self.variables = variables\n",
    "        self.ger_credit_df = ger_credit_df\n",
    "\n",
    "    def detect_outliers(self):\n",
    "        for v in self.variables:\n",
    "            subset_0 = self.ger_credit_df[self.ger_credit_df[\"Credit Risk\"] == \"Good Risk\"]\n",
    "            subset_1 = self.ger_credit_df[self.ger_credit_df[\"Credit Risk\"] == \"Bad Risk\"]\n",
    "\n",
    "            q75,q25 = np.percentile(subset_0.loc[:, v],[75, 25])\n",
    "            interval_q = q75 - q25\n",
    "            max_value = q75 + (1.5 * interval_q)\n",
    "            min_value = q25 - (1.5 * interval_q)\n",
    "\n",
    "            for i in range(1, len(self.ger_credit_df)):\n",
    "                if (self.ger_credit_df.loc[i, v] < min_value) | (self.ger_credit_df.loc[i, v] > max_value):\n",
    "                    self.ger_credit_df.loc[i, v] = statistics.mean(self.ger_credit_df[v])\n",
    "\n",
    "            q75,q25 = np.percentile(subset_1.loc[:, v],[75, 25])\n",
    "            interval_q = q75 - q25\n",
    "            max_value = q75 + (1.5 * interval_q)\n",
    "            min_value = q25 - (1.5 * interval_q)\n",
    "\n",
    "            for i in range(1, len(self.ger_credit_df)):\n",
    "                if (self.ger_credit_df.loc[i, v] < min_value) | (self.ger_credit_df.loc[i, v] > max_value):\n",
    "                    self.ger_credit_df.loc[i, v] = statistics.mean(self.ger_credit_df[v])\n",
    "\n",
    "# Instantiate the class and run the function\n",
    "variables = [\"Credit amount\",\"Duration in month\",\n",
    "              \"Installment rate in percentage of disposable income\",\n",
    "              \"Age in years\",\"Present residence since\",\n",
    "              \"Number of existing credits at this bank\",\n",
    "              \"Number of people being liable to provide maintenance for\"]\n",
    "detector = OutlierDetector(variables, ger_credit_df)\n",
    "detector.detect_outliers()\n"
   ]
  },
  {
   "cell_type": "code",
   "execution_count": 13,
   "metadata": {
    "pycharm": {
     "name": "#%%\n"
    }
   },
   "outputs": [
    {
     "data": {
      "text/plain": "       Credit amount  Duration in month  \\\ncount    1000.000000        1000.000000   \nmean     2543.248570          18.757314   \nstd      1482.684182           8.794585   \nmin       250.000000           4.000000   \n25%      1365.500000          12.000000   \n50%      2319.500000          18.000000   \n75%      3221.554877          24.000000   \nmax      6999.000000          42.000000   \n\n       Installment rate in percentage of disposable income  Age in years  \\\ncount                                        1000.000000     1000.000000   \nmean                                            2.973000       34.437492   \nstd                                             1.118715        9.682197   \nmin                                             1.000000       19.000000   \n25%                                             2.000000       27.000000   \n50%                                             3.000000       33.000000   \n75%                                             4.000000       40.000000   \nmax                                             4.000000       67.000000   \n\n       Present residence since  Number of existing credits at this bank  \\\ncount              1000.000000                              1000.000000   \nmean                  2.845000                                 1.391403   \nstd                   1.103718                                 0.541349   \nmin                   1.000000                                 1.000000   \n25%                   2.000000                                 1.000000   \n50%                   3.000000                                 1.000000   \n75%                   4.000000                                 2.000000   \nmax                   4.000000                                 3.000000   \n\n       Number of people being liable to provide maintenance for  \ncount                                        1000.000000         \nmean                                            1.000854         \nstd                                             0.002481         \nmin                                             1.000000         \n25%                                             1.000000         \n50%                                             1.000000         \n75%                                             1.000000         \nmax                                             1.013405         ",
      "text/html": "<div>\n<style scoped>\n    .dataframe tbody tr th:only-of-type {\n        vertical-align: middle;\n    }\n\n    .dataframe tbody tr th {\n        vertical-align: top;\n    }\n\n    .dataframe thead th {\n        text-align: right;\n    }\n</style>\n<table border=\"1\" class=\"dataframe\">\n  <thead>\n    <tr style=\"text-align: right;\">\n      <th></th>\n      <th>Credit amount</th>\n      <th>Duration in month</th>\n      <th>Installment rate in percentage of disposable income</th>\n      <th>Age in years</th>\n      <th>Present residence since</th>\n      <th>Number of existing credits at this bank</th>\n      <th>Number of people being liable to provide maintenance for</th>\n    </tr>\n  </thead>\n  <tbody>\n    <tr>\n      <th>count</th>\n      <td>1000.000000</td>\n      <td>1000.000000</td>\n      <td>1000.000000</td>\n      <td>1000.000000</td>\n      <td>1000.000000</td>\n      <td>1000.000000</td>\n      <td>1000.000000</td>\n    </tr>\n    <tr>\n      <th>mean</th>\n      <td>2543.248570</td>\n      <td>18.757314</td>\n      <td>2.973000</td>\n      <td>34.437492</td>\n      <td>2.845000</td>\n      <td>1.391403</td>\n      <td>1.000854</td>\n    </tr>\n    <tr>\n      <th>std</th>\n      <td>1482.684182</td>\n      <td>8.794585</td>\n      <td>1.118715</td>\n      <td>9.682197</td>\n      <td>1.103718</td>\n      <td>0.541349</td>\n      <td>0.002481</td>\n    </tr>\n    <tr>\n      <th>min</th>\n      <td>250.000000</td>\n      <td>4.000000</td>\n      <td>1.000000</td>\n      <td>19.000000</td>\n      <td>1.000000</td>\n      <td>1.000000</td>\n      <td>1.000000</td>\n    </tr>\n    <tr>\n      <th>25%</th>\n      <td>1365.500000</td>\n      <td>12.000000</td>\n      <td>2.000000</td>\n      <td>27.000000</td>\n      <td>2.000000</td>\n      <td>1.000000</td>\n      <td>1.000000</td>\n    </tr>\n    <tr>\n      <th>50%</th>\n      <td>2319.500000</td>\n      <td>18.000000</td>\n      <td>3.000000</td>\n      <td>33.000000</td>\n      <td>3.000000</td>\n      <td>1.000000</td>\n      <td>1.000000</td>\n    </tr>\n    <tr>\n      <th>75%</th>\n      <td>3221.554877</td>\n      <td>24.000000</td>\n      <td>4.000000</td>\n      <td>40.000000</td>\n      <td>4.000000</td>\n      <td>2.000000</td>\n      <td>1.000000</td>\n    </tr>\n    <tr>\n      <th>max</th>\n      <td>6999.000000</td>\n      <td>42.000000</td>\n      <td>4.000000</td>\n      <td>67.000000</td>\n      <td>4.000000</td>\n      <td>3.000000</td>\n      <td>1.013405</td>\n    </tr>\n  </tbody>\n</table>\n</div>"
     },
     "execution_count": 13,
     "metadata": {},
     "output_type": "execute_result"
    }
   ],
   "source": [
    "#Test to confirm that outliers have been replaced using the IQR method\n",
    "\n",
    "ger_credit_df[[\"Credit amount\",\\\n",
    "               \"Duration in month\",\\\n",
    "               \"Installment rate in percentage of disposable income\",\\\n",
    "               \"Age in years\",\\\n",
    "               \"Present residence since\",\\\n",
    "               \"Number of existing credits at this bank\",\\\n",
    "               \"Number of people being liable to provide maintenance for\"\n",
    "               \n",
    "              ]].describe()\n"
   ]
  },
  {
   "cell_type": "code",
   "execution_count": 14,
   "metadata": {
    "pycharm": {
     "name": "#%%\n"
    }
   },
   "outputs": [
    {
     "data": {
      "text/plain": "<AxesSubplot:>"
     },
     "execution_count": 14,
     "metadata": {},
     "output_type": "execute_result"
    },
    {
     "data": {
      "text/plain": "<Figure size 432x288 with 2 Axes>",
      "image/png": "[encoded data removed]"
     },
     "metadata": {},
     "output_type": "display_data"
    }
   ],
   "source": [
    "# Correlation Analysis\n",
    "## Closely correlated values selected using P-Values or IV are further\n",
    "## filtered using correlation analysis removed. \n",
    "\n",
    "c_matrix = ger_credit_df.corr(method='pearson')\n",
    "sns.heatmap(c_matrix, annot=True,cmap='PRGn', linewidths=0.3, annot_kws={\"size\":12}) "
   ]
  },
  {
   "cell_type": "markdown",
   "metadata": {
    "pycharm": {
     "name": "#%% md\n"
    }
   },
   "source": [
    "# Feature Selection and Engineering"
   ]
  },
  {
   "cell_type": "code",
   "execution_count": 15,
   "metadata": {
    "pycharm": {
     "name": "#%%\n"
    }
   },
   "outputs": [],
   "source": [
    "#OOP P-Values\n",
    "#Feature Selection for German Data\n",
    "\n",
    "class StatisticalSignificance:\n",
    "    def __init__(self, ger_credit_df):\n",
    "        self.ger_credit_df = ger_credit_df\n",
    "\n",
    "    def calculate_cat_p_values(self,column_names_cat_stats):\n",
    "        statistical_significance=[]\n",
    "        for attr in column_names_cat_stats:\n",
    "            data_count=pd.crosstab(self.ger_credit_df[attr],self.ger_credit_df[\"Credit Risk\"]).reset_index()\n",
    "            obs=np.asarray(data_count[[\"Bad Risk\",\"Good Risk\"]])\n",
    "            chi2, p, dof, expected = stats.chi2_contingency(obs)\n",
    "            statistical_significance.append([attr,round(p,6)])\n",
    "\n",
    "        statistical_significance=pd.DataFrame(statistical_significance)\n",
    "        statistical_significance.columns=[\"attribute\",\"P-value\"]\n",
    "\n",
    "        return statistical_significance\n",
    "    \n",
    "    def calculate_cont_p_values(self,column_names_cont_stats):\n",
    "        statistical_significance=[]\n",
    "        good_risk_df = self.ger_credit_df[self.ger_credit_df[\"Credit Risk\"]==\"Good Risk\"]\n",
    "        bad_risk_df = self.ger_credit_df[self.ger_credit_df[\"Credit Risk\"]==\"Bad Risk\"]\n",
    "        for attr in column_names_cont_stats:\n",
    "            statistic, p=stats.f_oneway(good_risk_df[attr].values,bad_risk_df[attr].values)\n",
    "            statistical_significance.append([attr,round(p,6)])\n",
    "        statistical_significance=pd.DataFrame(statistical_significance)\n",
    "        statistical_significance.columns=[\"attribute\",\"P-value\"]\n",
    "        return statistical_significance\n",
    "        \n",
    "# Instantiate the class and run the function\n",
    "column_names_cat_stats=[\"Status of existing checking account\",\"Credit history\",\"Purpose\",\\\n",
    "\"Savings account/bonds\",\"Present employment since\",\\\n",
    "\"Personal status and sex\",\\\n",
    "\"Other debtors / guarantors\",\"Property\",\\\n",
    "\"Other installment plans\",\"Housing\",\\\n",
    "\"Job\",\"Telephone\",\"foreign worker\"]\n",
    "\n",
    "column_names_cont_stats=[\"Credit amount\",\"Duration in month\",\n",
    "                         \"Installment rate in percentage of disposable income\",\n",
    "                         \"Age in years\",\"Present residence since\",\n",
    "                         \"Number of existing credits at this bank\",\n",
    "                         \"Number of people being liable to provide maintenance for\"]\n",
    "\n",
    "stat_significance = StatisticalSignificance(ger_credit_df)\n",
    "cat_p_values = stat_significance.calculate_cat_p_values(column_names_cat_stats)\n",
    "cont_p_values = stat_significance.calculate_cont_p_values(column_names_cont_stats)\n",
    "\n",
    "# display(cat_p_values)\n",
    "# display(cont_p_values)\n",
    "\n",
    "p_values_categorical = pd.DataFrame(cat_p_values)\n",
    "p_values_continous = pd.DataFrame(cont_p_values)\n",
    "\n",
    "# Sort P-Values in ascending order\n",
    "p_values_categorical = p_values_categorical.sort_values(by=['P-value'], ascending=True)\n",
    "p_values_continous = p_values_continous.sort_values(by=['P-value'], ascending=True)\n",
    "\n",
    " \n"
   ]
  },
  {
   "cell_type": "code",
   "execution_count": 16,
   "metadata": {
    "pycharm": {
     "name": "#%%\n"
    }
   },
   "outputs": [
    {
     "data": {
      "text/plain": "                              attribute   P-value\n0   Status of existing checking account  0.000000\n1                        Credit history  0.000000\n3                 Savings account/bonds  0.000000\n7                              Property  0.000029\n9                               Housing  0.000112\n2                               Purpose  0.000116\n4              Present employment since  0.001045\n8               Other installment plans  0.001629\n12                       foreign worker  0.015831\n5               Personal status and sex  0.022238\n6            Other debtors / guarantors  0.036056\n11                            Telephone  0.278876\n10                                  Job  0.596582",
      "text/html": "<div>\n<style scoped>\n    .dataframe tbody tr th:only-of-type {\n        vertical-align: middle;\n    }\n\n    .dataframe tbody tr th {\n        vertical-align: top;\n    }\n\n    .dataframe thead th {\n        text-align: right;\n    }\n</style>\n<table border=\"1\" class=\"dataframe\">\n  <thead>\n    <tr style=\"text-align: right;\">\n      <th></th>\n      <th>attribute</th>\n      <th>P-value</th>\n    </tr>\n  </thead>\n  <tbody>\n    <tr>\n      <th>0</th>\n      <td>Status of existing checking account</td>\n      <td>0.000000</td>\n    </tr>\n    <tr>\n      <th>1</th>\n      <td>Credit history</td>\n      <td>0.000000</td>\n    </tr>\n    <tr>\n      <th>3</th>\n      <td>Savings account/bonds</td>\n      <td>0.000000</td>\n    </tr>\n    <tr>\n      <th>7</th>\n      <td>Property</td>\n      <td>0.000029</td>\n    </tr>\n    <tr>\n      <th>9</th>\n      <td>Housing</td>\n      <td>0.000112</td>\n    </tr>\n    <tr>\n      <th>2</th>\n      <td>Purpose</td>\n      <td>0.000116</td>\n    </tr>\n    <tr>\n      <th>4</th>\n      <td>Present employment since</td>\n      <td>0.001045</td>\n    </tr>\n    <tr>\n      <th>8</th>\n      <td>Other installment plans</td>\n      <td>0.001629</td>\n    </tr>\n    <tr>\n      <th>12</th>\n      <td>foreign worker</td>\n      <td>0.015831</td>\n    </tr>\n    <tr>\n      <th>5</th>\n      <td>Personal status and sex</td>\n      <td>0.022238</td>\n    </tr>\n    <tr>\n      <th>6</th>\n      <td>Other debtors / guarantors</td>\n      <td>0.036056</td>\n    </tr>\n    <tr>\n      <th>11</th>\n      <td>Telephone</td>\n      <td>0.278876</td>\n    </tr>\n    <tr>\n      <th>10</th>\n      <td>Job</td>\n      <td>0.596582</td>\n    </tr>\n  </tbody>\n</table>\n</div>"
     },
     "execution_count": 16,
     "metadata": {},
     "output_type": "execute_result"
    }
   ],
   "source": [
    "#PValues of categorical variables\n",
    "\n",
    "p_values_categorical"
   ]
  },
  {
   "cell_type": "code",
   "execution_count": 17,
   "metadata": {
    "pycharm": {
     "name": "#%%\n"
    }
   },
   "outputs": [
    {
     "data": {
      "text/plain": "                                           attribute   P-value\n1                                  Duration in month  0.000001\n3                                       Age in years  0.008992\n2  Installment rate in percentage of disposable i...  0.022035\n0                                      Credit amount  0.082542\n5            Number of existing credits at this bank  0.107796\n4                            Present residence since  0.925337\n6  Number of people being liable to provide maint...  0.970356",
      "text/html": "<div>\n<style scoped>\n    .dataframe tbody tr th:only-of-type {\n        vertical-align: middle;\n    }\n\n    .dataframe tbody tr th {\n        vertical-align: top;\n    }\n\n    .dataframe thead th {\n        text-align: right;\n    }\n</style>\n<table border=\"1\" class=\"dataframe\">\n  <thead>\n    <tr style=\"text-align: right;\">\n      <th></th>\n      <th>attribute</th>\n      <th>P-value</th>\n    </tr>\n  </thead>\n  <tbody>\n    <tr>\n      <th>1</th>\n      <td>Duration in month</td>\n      <td>0.000001</td>\n    </tr>\n    <tr>\n      <th>3</th>\n      <td>Age in years</td>\n      <td>0.008992</td>\n    </tr>\n    <tr>\n      <th>2</th>\n      <td>Installment rate in percentage of disposable i...</td>\n      <td>0.022035</td>\n    </tr>\n    <tr>\n      <th>0</th>\n      <td>Credit amount</td>\n      <td>0.082542</td>\n    </tr>\n    <tr>\n      <th>5</th>\n      <td>Number of existing credits at this bank</td>\n      <td>0.107796</td>\n    </tr>\n    <tr>\n      <th>4</th>\n      <td>Present residence since</td>\n      <td>0.925337</td>\n    </tr>\n    <tr>\n      <th>6</th>\n      <td>Number of people being liable to provide maint...</td>\n      <td>0.970356</td>\n    </tr>\n  </tbody>\n</table>\n</div>"
     },
     "execution_count": 17,
     "metadata": {},
     "output_type": "execute_result"
    }
   ],
   "source": [
    "# PValues of continous variables\n",
    "\n",
    "p_values_continous"
   ]
  },
  {
   "cell_type": "code",
   "execution_count": 18,
   "metadata": {
    "pycharm": {
     "name": "#%%\n"
    }
   },
   "outputs": [
    {
     "data": {
      "text/plain": "    Status of existing checking account  Duration in month  \\\n0                                 <0 DM           6.000000   \n1                          0 <= <200 DM          20.903000   \n2                   no checking account          12.000000   \n3                                 <0 DM          42.000000   \n4                                 <0 DM          24.000000   \n..                                  ...                ...   \n995                 no checking account          12.000000   \n996                               <0 DM          30.000000   \n997                 no checking account          12.000000   \n998                               <0 DM          18.809721   \n999                        0 <= <200 DM          18.783530   \n\n                               Credit history              Purpose  \\\n0                            critical account     radio/television   \n1    existing credits paid back duly till now     radio/television   \n2                            critical account            education   \n3    existing credits paid back duly till now  furniture/equipment   \n4                         delay in paying off            car (new)   \n..                                        ...                  ...   \n995  existing credits paid back duly till now  furniture/equipment   \n996  existing credits paid back duly till now           car (used)   \n997  existing credits paid back duly till now     radio/television   \n998  existing credits paid back duly till now     radio/television   \n999                          critical account           car (used)   \n\n    Savings account/bonds Present employment since  \\\n0      no savings account                >=7 years   \n1                 <100 DM            1<= < 4 years   \n2                 <100 DM             4<= <7 years   \n3                 <100 DM             4<= <7 years   \n4                 <100 DM            1<= < 4 years   \n..                    ...                      ...   \n995               <100 DM             4<= <7 years   \n996               <100 DM            1<= < 4 years   \n997               <100 DM                >=7 years   \n998               <100 DM            1<= < 4 years   \n999        100 <= <500 DM               unemployed   \n\n     Installment rate in percentage of disposable income  \\\n0                                                    4     \n1                                                    2     \n2                                                    2     \n3                                                    2     \n4                                                    3     \n..                                                 ...     \n995                                                  3     \n996                                                  4     \n997                                                  4     \n998                                                  4     \n999                                                  3     \n\n               Personal status and sex Other debtors / guarantors  \\\n0                          male:single                       none   \n1    female:divorced/separated/married                       none   \n2                          male:single                       none   \n3                          male:single                  guarantor   \n4                          male:single                       none   \n..                                 ...                        ...   \n995  female:divorced/separated/married                       none   \n996            male:divorced/separated                       none   \n997                        male:single                       none   \n998                        male:single                       none   \n999                        male:single                       none   \n\n                             Property  Age in years Other installment plans  \\\n0                         real estate          67.0                    none   \n1                         real estate          22.0                    none   \n2                         real estate          49.0                    none   \n3    savings agreement/life insurance          45.0                    none   \n4               unknown / no property          53.0                    none   \n..                                ...           ...                     ...   \n995                       real estate          31.0                    none   \n996  savings agreement/life insurance          40.0                    none   \n997                      car or other          38.0                    none   \n998             unknown / no property          23.0                    none   \n999                      car or other          27.0                    none   \n\n      Housing foreign worker Credit Risk  \n0         own            yes   Good Risk  \n1         own            yes    Bad Risk  \n2         own            yes   Good Risk  \n3    for free            yes   Good Risk  \n4    for free            yes    Bad Risk  \n..        ...            ...         ...  \n995       own            yes   Good Risk  \n996       own            yes   Good Risk  \n997       own            yes   Good Risk  \n998  for free            yes    Bad Risk  \n999       own            yes   Good Risk  \n\n[1000 rows x 15 columns]",
      "text/html": "<div>\n<style scoped>\n    .dataframe tbody tr th:only-of-type {\n        vertical-align: middle;\n    }\n\n    .dataframe tbody tr th {\n        vertical-align: top;\n    }\n\n    .dataframe thead th {\n        text-align: right;\n    }\n</style>\n<table border=\"1\" class=\"dataframe\">\n  <thead>\n    <tr style=\"text-align: right;\">\n      <th></th>\n      <th>Status of existing checking account</th>\n      <th>Duration in month</th>\n      <th>Credit history</th>\n      <th>Purpose</th>\n      <th>Savings account/bonds</th>\n      <th>Present employment since</th>\n      <th>Installment rate in percentage of disposable income</th>\n      <th>Personal status and sex</th>\n      <th>Other debtors / guarantors</th>\n      <th>Property</th>\n      <th>Age in years</th>\n      <th>Other installment plans</th>\n      <th>Housing</th>\n      <th>foreign worker</th>\n      <th>Credit Risk</th>\n    </tr>\n  </thead>\n  <tbody>\n    <tr>\n      <th>0</th>\n      <td>&lt;0 DM</td>\n      <td>6.000000</td>\n      <td>critical account</td>\n      <td>radio/television</td>\n      <td>no savings account</td>\n      <td>&gt;=7 years</td>\n      <td>4</td>\n      <td>male:single</td>\n      <td>none</td>\n      <td>real estate</td>\n      <td>67.0</td>\n      <td>none</td>\n      <td>own</td>\n      <td>yes</td>\n      <td>Good Risk</td>\n    </tr>\n    <tr>\n      <th>1</th>\n      <td>0 &lt;= &lt;200 DM</td>\n      <td>20.903000</td>\n      <td>existing credits paid back duly till now</td>\n      <td>radio/television</td>\n      <td>&lt;100 DM</td>\n      <td>1&lt;= &lt; 4 years</td>\n      <td>2</td>\n      <td>female:divorced/separated/married</td>\n      <td>none</td>\n      <td>real estate</td>\n      <td>22.0</td>\n      <td>none</td>\n      <td>own</td>\n      <td>yes</td>\n      <td>Bad Risk</td>\n    </tr>\n    <tr>\n      <th>2</th>\n      <td>no checking account</td>\n      <td>12.000000</td>\n      <td>critical account</td>\n      <td>education</td>\n      <td>&lt;100 DM</td>\n      <td>4&lt;= &lt;7 years</td>\n      <td>2</td>\n      <td>male:single</td>\n      <td>none</td>\n      <td>real estate</td>\n      <td>49.0</td>\n      <td>none</td>\n      <td>own</td>\n      <td>yes</td>\n      <td>Good Risk</td>\n    </tr>\n    <tr>\n      <th>3</th>\n      <td>&lt;0 DM</td>\n      <td>42.000000</td>\n      <td>existing credits paid back duly till now</td>\n      <td>furniture/equipment</td>\n      <td>&lt;100 DM</td>\n      <td>4&lt;= &lt;7 years</td>\n      <td>2</td>\n      <td>male:single</td>\n      <td>guarantor</td>\n      <td>savings agreement/life insurance</td>\n      <td>45.0</td>\n      <td>none</td>\n      <td>for free</td>\n      <td>yes</td>\n      <td>Good Risk</td>\n    </tr>\n    <tr>\n      <th>4</th>\n      <td>&lt;0 DM</td>\n      <td>24.000000</td>\n      <td>delay in paying off</td>\n      <td>car (new)</td>\n      <td>&lt;100 DM</td>\n      <td>1&lt;= &lt; 4 years</td>\n      <td>3</td>\n      <td>male:single</td>\n      <td>none</td>\n      <td>unknown / no property</td>\n      <td>53.0</td>\n      <td>none</td>\n      <td>for free</td>\n      <td>yes</td>\n      <td>Bad Risk</td>\n    </tr>\n    <tr>\n      <th>...</th>\n      <td>...</td>\n      <td>...</td>\n      <td>...</td>\n      <td>...</td>\n      <td>...</td>\n      <td>...</td>\n      <td>...</td>\n      <td>...</td>\n      <td>...</td>\n      <td>...</td>\n      <td>...</td>\n      <td>...</td>\n      <td>...</td>\n      <td>...</td>\n      <td>...</td>\n    </tr>\n    <tr>\n      <th>995</th>\n      <td>no checking account</td>\n      <td>12.000000</td>\n      <td>existing credits paid back duly till now</td>\n      <td>furniture/equipment</td>\n      <td>&lt;100 DM</td>\n      <td>4&lt;= &lt;7 years</td>\n      <td>3</td>\n      <td>female:divorced/separated/married</td>\n      <td>none</td>\n      <td>real estate</td>\n      <td>31.0</td>\n      <td>none</td>\n      <td>own</td>\n      <td>yes</td>\n      <td>Good Risk</td>\n    </tr>\n    <tr>\n      <th>996</th>\n      <td>&lt;0 DM</td>\n      <td>30.000000</td>\n      <td>existing credits paid back duly till now</td>\n      <td>car (used)</td>\n      <td>&lt;100 DM</td>\n      <td>1&lt;= &lt; 4 years</td>\n      <td>4</td>\n      <td>male:divorced/separated</td>\n      <td>none</td>\n      <td>savings agreement/life insurance</td>\n      <td>40.0</td>\n      <td>none</td>\n      <td>own</td>\n      <td>yes</td>\n      <td>Good Risk</td>\n    </tr>\n    <tr>\n      <th>997</th>\n      <td>no checking account</td>\n      <td>12.000000</td>\n      <td>existing credits paid back duly till now</td>\n      <td>radio/television</td>\n      <td>&lt;100 DM</td>\n      <td>&gt;=7 years</td>\n      <td>4</td>\n      <td>male:single</td>\n      <td>none</td>\n      <td>car or other</td>\n      <td>38.0</td>\n      <td>none</td>\n      <td>own</td>\n      <td>yes</td>\n      <td>Good Risk</td>\n    </tr>\n    <tr>\n      <th>998</th>\n      <td>&lt;0 DM</td>\n      <td>18.809721</td>\n      <td>existing credits paid back duly till now</td>\n      <td>radio/television</td>\n      <td>&lt;100 DM</td>\n      <td>1&lt;= &lt; 4 years</td>\n      <td>4</td>\n      <td>male:single</td>\n      <td>none</td>\n      <td>unknown / no property</td>\n      <td>23.0</td>\n      <td>none</td>\n      <td>for free</td>\n      <td>yes</td>\n      <td>Bad Risk</td>\n    </tr>\n    <tr>\n      <th>999</th>\n      <td>0 &lt;= &lt;200 DM</td>\n      <td>18.783530</td>\n      <td>critical account</td>\n      <td>car (used)</td>\n      <td>100 &lt;= &lt;500 DM</td>\n      <td>unemployed</td>\n      <td>3</td>\n      <td>male:single</td>\n      <td>none</td>\n      <td>car or other</td>\n      <td>27.0</td>\n      <td>none</td>\n      <td>own</td>\n      <td>yes</td>\n      <td>Good Risk</td>\n    </tr>\n  </tbody>\n</table>\n<p>1000 rows × 15 columns</p>\n</div>"
     },
     "execution_count": 18,
     "metadata": {},
     "output_type": "execute_result"
    }
   ],
   "source": [
    "#OneHotEncoding for categorical variables\n",
    "\n",
    "\n",
    "#Drop 6 columns with P-values less than 0.05 statistical significance\n",
    "\n",
    "df_selected = ger_credit_df.drop(columns=['Number of people being liable to provide maintenance for',\\\n",
    "                      'Present residence since',\\\n",
    "                      'Job',\\\n",
    "                      'Telephone',\\\n",
    "                      'Credit amount',\\\n",
    "                      'Number of existing credits at this bank'\n",
    "                                         ])\n",
    "\n",
    "\n",
    "\n",
    "\n",
    "df_selected\n",
    "\n",
    "# ger_credit_df\n",
    "\n",
    "\n",
    "\n"
   ]
  },
  {
   "cell_type": "code",
   "execution_count": 19,
   "outputs": [
    {
     "data": {
      "text/plain": "     Duration in month  Installment rate in percentage of disposable income  \\\n0             6.000000                                                  4     \n1            20.903000                                                  2     \n2            12.000000                                                  2     \n3            42.000000                                                  2     \n4            24.000000                                                  3     \n..                 ...                                                ...     \n995          12.000000                                                  3     \n996          30.000000                                                  4     \n997          12.000000                                                  4     \n998          18.809721                                                  4     \n999          18.783530                                                  3     \n\n     Age in years  Credit Risk  \\\n0            67.0            1   \n1            22.0            0   \n2            49.0            1   \n3            45.0            1   \n4            53.0            0   \n..            ...          ...   \n995          31.0            1   \n996          40.0            1   \n997          38.0            1   \n998          23.0            0   \n999          27.0            1   \n\n     Status of existing checking account_0 <= <200 DM  \\\n0                                                   0   \n1                                                   1   \n2                                                   0   \n3                                                   0   \n4                                                   0   \n..                                                ...   \n995                                                 0   \n996                                                 0   \n997                                                 0   \n998                                                 0   \n999                                                 1   \n\n     Status of existing checking account_<0 DM  \\\n0                                            1   \n1                                            0   \n2                                            0   \n3                                            1   \n4                                            1   \n..                                         ...   \n995                                          0   \n996                                          1   \n997                                          0   \n998                                          1   \n999                                          0   \n\n     Status of existing checking account_>= 200 DM   \\\n0                                                 0   \n1                                                 0   \n2                                                 0   \n3                                                 0   \n4                                                 0   \n..                                              ...   \n995                                               0   \n996                                               0   \n997                                               0   \n998                                               0   \n999                                               0   \n\n     Status of existing checking account_no checking account  \\\n0                                                    0         \n1                                                    0         \n2                                                    1         \n3                                                    0         \n4                                                    0         \n..                                                 ...         \n995                                                  1         \n996                                                  0         \n997                                                  1         \n998                                                  0         \n999                                                  0         \n\n     Credit history_all credits at this bank paid back duly  \\\n0                                                    0        \n1                                                    0        \n2                                                    0        \n3                                                    0        \n4                                                    0        \n..                                                 ...        \n995                                                  0        \n996                                                  0        \n997                                                  0        \n998                                                  0        \n999                                                  0        \n\n     Credit history_critical account  ...  \\\n0                                  1  ...   \n1                                  0  ...   \n2                                  1  ...   \n3                                  0  ...   \n4                                  0  ...   \n..                               ...  ...   \n995                                0  ...   \n996                                0  ...   \n997                                0  ...   \n998                                0  ...   \n999                                1  ...   \n\n     Property_savings agreement/life insurance  \\\n0                                            0   \n1                                            0   \n2                                            0   \n3                                            1   \n4                                            0   \n..                                         ...   \n995                                          0   \n996                                          1   \n997                                          0   \n998                                          0   \n999                                          0   \n\n     Property_unknown / no property  Other installment plans_bank  \\\n0                                 0                             0   \n1                                 0                             0   \n2                                 0                             0   \n3                                 0                             0   \n4                                 1                             0   \n..                              ...                           ...   \n995                               0                             0   \n996                               0                             0   \n997                               0                             0   \n998                               1                             0   \n999                               0                             0   \n\n     Other installment plans_none  Other installment plans_store  \\\n0                               1                              0   \n1                               1                              0   \n2                               1                              0   \n3                               1                              0   \n4                               1                              0   \n..                            ...                            ...   \n995                             1                              0   \n996                             1                              0   \n997                             1                              0   \n998                             1                              0   \n999                             1                              0   \n\n     Housing_for free  Housing_own  Housing_rent  foreign worker_no  \\\n0                   0            1             0                  0   \n1                   0            1             0                  0   \n2                   0            1             0                  0   \n3                   1            0             0                  0   \n4                   1            0             0                  0   \n..                ...          ...           ...                ...   \n995                 0            1             0                  0   \n996                 0            1             0                  0   \n997                 0            1             0                  0   \n998                 1            0             0                  0   \n999                 0            1             0                  0   \n\n     foreign worker_yes  \n0                     1  \n1                     1  \n2                     1  \n3                     1  \n4                     1  \n..                  ...  \n995                   1  \n996                   1  \n997                   1  \n998                   1  \n999                   1  \n\n[1000 rows x 52 columns]",
      "text/html": "<div>\n<style scoped>\n    .dataframe tbody tr th:only-of-type {\n        vertical-align: middle;\n    }\n\n    .dataframe tbody tr th {\n        vertical-align: top;\n    }\n\n    .dataframe thead th {\n        text-align: right;\n    }\n</style>\n<table border=\"1\" class=\"dataframe\">\n  <thead>\n    <tr style=\"text-align: right;\">\n      <th></th>\n      <th>Duration in month</th>\n      <th>Installment rate in percentage of disposable income</th>\n      <th>Age in years</th>\n      <th>Credit Risk</th>\n      <th>Status of existing checking account_0 &lt;= &lt;200 DM</th>\n      <th>Status of existing checking account_&lt;0 DM</th>\n      <th>Status of existing checking account_&gt;= 200 DM</th>\n      <th>Status of existing checking account_no checking account</th>\n      <th>Credit history_all credits at this bank paid back duly</th>\n      <th>Credit history_critical account</th>\n      <th>...</th>\n      <th>Property_savings agreement/life insurance</th>\n      <th>Property_unknown / no property</th>\n      <th>Other installment plans_bank</th>\n      <th>Other installment plans_none</th>\n      <th>Other installment plans_store</th>\n      <th>Housing_for free</th>\n      <th>Housing_own</th>\n      <th>Housing_rent</th>\n      <th>foreign worker_no</th>\n      <th>foreign worker_yes</th>\n    </tr>\n  </thead>\n  <tbody>\n    <tr>\n      <th>0</th>\n      <td>6.000000</td>\n      <td>4</td>\n      <td>67.0</td>\n      <td>1</td>\n      <td>0</td>\n      <td>1</td>\n      <td>0</td>\n      <td>0</td>\n      <td>0</td>\n      <td>1</td>\n      <td>...</td>\n      <td>0</td>\n      <td>0</td>\n      <td>0</td>\n      <td>1</td>\n      <td>0</td>\n      <td>0</td>\n      <td>1</td>\n      <td>0</td>\n      <td>0</td>\n      <td>1</td>\n    </tr>\n    <tr>\n      <th>1</th>\n      <td>20.903000</td>\n      <td>2</td>\n      <td>22.0</td>\n      <td>0</td>\n      <td>1</td>\n      <td>0</td>\n      <td>0</td>\n      <td>0</td>\n      <td>0</td>\n      <td>0</td>\n      <td>...</td>\n      <td>0</td>\n      <td>0</td>\n      <td>0</td>\n      <td>1</td>\n      <td>0</td>\n      <td>0</td>\n      <td>1</td>\n      <td>0</td>\n      <td>0</td>\n      <td>1</td>\n    </tr>\n    <tr>\n      <th>2</th>\n      <td>12.000000</td>\n      <td>2</td>\n      <td>49.0</td>\n      <td>1</td>\n      <td>0</td>\n      <td>0</td>\n      <td>0</td>\n      <td>1</td>\n      <td>0</td>\n      <td>1</td>\n      <td>...</td>\n      <td>0</td>\n      <td>0</td>\n      <td>0</td>\n      <td>1</td>\n      <td>0</td>\n      <td>0</td>\n      <td>1</td>\n      <td>0</td>\n      <td>0</td>\n      <td>1</td>\n    </tr>\n    <tr>\n      <th>3</th>\n      <td>42.000000</td>\n      <td>2</td>\n      <td>45.0</td>\n      <td>1</td>\n      <td>0</td>\n      <td>1</td>\n      <td>0</td>\n      <td>0</td>\n      <td>0</td>\n      <td>0</td>\n      <td>...</td>\n      <td>1</td>\n      <td>0</td>\n      <td>0</td>\n      <td>1</td>\n      <td>0</td>\n      <td>1</td>\n      <td>0</td>\n      <td>0</td>\n      <td>0</td>\n      <td>1</td>\n    </tr>\n    <tr>\n      <th>4</th>\n      <td>24.000000</td>\n      <td>3</td>\n      <td>53.0</td>\n      <td>0</td>\n      <td>0</td>\n      <td>1</td>\n      <td>0</td>\n      <td>0</td>\n      <td>0</td>\n      <td>0</td>\n      <td>...</td>\n      <td>0</td>\n      <td>1</td>\n      <td>0</td>\n      <td>1</td>\n      <td>0</td>\n      <td>1</td>\n      <td>0</td>\n      <td>0</td>\n      <td>0</td>\n      <td>1</td>\n    </tr>\n    <tr>\n      <th>...</th>\n      <td>...</td>\n      <td>...</td>\n      <td>...</td>\n      <td>...</td>\n      <td>...</td>\n      <td>...</td>\n      <td>...</td>\n      <td>...</td>\n      <td>...</td>\n      <td>...</td>\n      <td>...</td>\n      <td>...</td>\n      <td>...</td>\n      <td>...</td>\n      <td>...</td>\n      <td>...</td>\n      <td>...</td>\n      <td>...</td>\n      <td>...</td>\n      <td>...</td>\n      <td>...</td>\n    </tr>\n    <tr>\n      <th>995</th>\n      <td>12.000000</td>\n      <td>3</td>\n      <td>31.0</td>\n      <td>1</td>\n      <td>0</td>\n      <td>0</td>\n      <td>0</td>\n      <td>1</td>\n      <td>0</td>\n      <td>0</td>\n      <td>...</td>\n      <td>0</td>\n      <td>0</td>\n      <td>0</td>\n      <td>1</td>\n      <td>0</td>\n      <td>0</td>\n      <td>1</td>\n      <td>0</td>\n      <td>0</td>\n      <td>1</td>\n    </tr>\n    <tr>\n      <th>996</th>\n      <td>30.000000</td>\n      <td>4</td>\n      <td>40.0</td>\n      <td>1</td>\n      <td>0</td>\n      <td>1</td>\n      <td>0</td>\n      <td>0</td>\n      <td>0</td>\n      <td>0</td>\n      <td>...</td>\n      <td>1</td>\n      <td>0</td>\n      <td>0</td>\n      <td>1</td>\n      <td>0</td>\n      <td>0</td>\n      <td>1</td>\n      <td>0</td>\n      <td>0</td>\n      <td>1</td>\n    </tr>\n    <tr>\n      <th>997</th>\n      <td>12.000000</td>\n      <td>4</td>\n      <td>38.0</td>\n      <td>1</td>\n      <td>0</td>\n      <td>0</td>\n      <td>0</td>\n      <td>1</td>\n      <td>0</td>\n      <td>0</td>\n      <td>...</td>\n      <td>0</td>\n      <td>0</td>\n      <td>0</td>\n      <td>1</td>\n      <td>0</td>\n      <td>0</td>\n      <td>1</td>\n      <td>0</td>\n      <td>0</td>\n      <td>1</td>\n    </tr>\n    <tr>\n      <th>998</th>\n      <td>18.809721</td>\n      <td>4</td>\n      <td>23.0</td>\n      <td>0</td>\n      <td>0</td>\n      <td>1</td>\n      <td>0</td>\n      <td>0</td>\n      <td>0</td>\n      <td>0</td>\n      <td>...</td>\n      <td>0</td>\n      <td>1</td>\n      <td>0</td>\n      <td>1</td>\n      <td>0</td>\n      <td>1</td>\n      <td>0</td>\n      <td>0</td>\n      <td>0</td>\n      <td>1</td>\n    </tr>\n    <tr>\n      <th>999</th>\n      <td>18.783530</td>\n      <td>3</td>\n      <td>27.0</td>\n      <td>1</td>\n      <td>1</td>\n      <td>0</td>\n      <td>0</td>\n      <td>0</td>\n      <td>0</td>\n      <td>1</td>\n      <td>...</td>\n      <td>0</td>\n      <td>0</td>\n      <td>0</td>\n      <td>1</td>\n      <td>0</td>\n      <td>0</td>\n      <td>1</td>\n      <td>0</td>\n      <td>0</td>\n      <td>1</td>\n    </tr>\n  </tbody>\n</table>\n<p>1000 rows × 52 columns</p>\n</div>"
     },
     "execution_count": 19,
     "metadata": {},
     "output_type": "execute_result"
    }
   ],
   "source": [
    "# Create a list holding 11 categorical variables in the dataset\n",
    "\n",
    "col_cat_names=[\"Status of existing checking account\",\"Credit history\",\"Purpose\",\\\n",
    "\"Savings account/bonds\",\"Present employment since\",\\\n",
    "\"Personal status and sex\",\"Other debtors / guarantors\",\"Property\",\"Other installment plans\",\"Housing\",\"foreign worker\"]\n",
    "\n",
    "# Use one-hot encoding to create dummy variables for 11 categorical variables created and 1 target variable\n",
    "\n",
    "class Preprocessor:\n",
    "    def __init__(self, df_selected, col_cat_names):\n",
    "        self.df_selected = df_selected\n",
    "        self.col_cat_names = col_cat_names\n",
    "\n",
    "    def one_hot_encode(self):\n",
    "        for attr in self.col_cat_names:\n",
    "            self.df_selected = self.df_selected.merge(pd.get_dummies(self.df_selected[attr], prefix=attr), left_index=True, right_index=True)\n",
    "            self.df_selected.drop(attr, axis=1, inplace=True)\n",
    "\n",
    "    def replace_value(self):\n",
    "        risk = {\"Good Risk\": 1, \"Bad Risk\": 0}\n",
    "        self.df_selected[\"Credit Risk\"] = self.df_selected[\"Credit Risk\"].map(risk)\n",
    "\n",
    "\n",
    "preprocessor = Preprocessor(df_selected, col_cat_names)\n",
    "preprocessor.one_hot_encode()\n",
    "preprocessor.replace_value()\n",
    "df_dummies = preprocessor.df_selected\n",
    "df_dummies"
   ],
   "metadata": {
    "collapsed": false,
    "pycharm": {
     "name": "#%%\n"
    }
   }
  },
  {
   "cell_type": "code",
   "execution_count": 21,
   "outputs": [
    {
     "data": {
      "text/plain": "  Status of existing checking account  Duration in month    Credit history  \\\n0                               <0 DM                6.0  critical account   \n\n            Purpose Savings account/bonds Present employment since  \\\n0  radio/television    no savings account                >=7 years   \n\n   Installment rate in percentage of disposable income  \\\n0                                                  4     \n\n  Personal status and sex Other debtors / guarantors     Property  \\\n0             male:single                       none  real estate   \n\n   Age in years Other installment plans Housing foreign worker Credit Risk  \n0          67.0                    none     own            yes   Good Risk  ",
      "text/html": "<div>\n<style scoped>\n    .dataframe tbody tr th:only-of-type {\n        vertical-align: middle;\n    }\n\n    .dataframe tbody tr th {\n        vertical-align: top;\n    }\n\n    .dataframe thead th {\n        text-align: right;\n    }\n</style>\n<table border=\"1\" class=\"dataframe\">\n  <thead>\n    <tr style=\"text-align: right;\">\n      <th></th>\n      <th>Status of existing checking account</th>\n      <th>Duration in month</th>\n      <th>Credit history</th>\n      <th>Purpose</th>\n      <th>Savings account/bonds</th>\n      <th>Present employment since</th>\n      <th>Installment rate in percentage of disposable income</th>\n      <th>Personal status and sex</th>\n      <th>Other debtors / guarantors</th>\n      <th>Property</th>\n      <th>Age in years</th>\n      <th>Other installment plans</th>\n      <th>Housing</th>\n      <th>foreign worker</th>\n      <th>Credit Risk</th>\n    </tr>\n  </thead>\n  <tbody>\n    <tr>\n      <th>0</th>\n      <td>&lt;0 DM</td>\n      <td>6.0</td>\n      <td>critical account</td>\n      <td>radio/television</td>\n      <td>no savings account</td>\n      <td>&gt;=7 years</td>\n      <td>4</td>\n      <td>male:single</td>\n      <td>none</td>\n      <td>real estate</td>\n      <td>67.0</td>\n      <td>none</td>\n      <td>own</td>\n      <td>yes</td>\n      <td>Good Risk</td>\n    </tr>\n  </tbody>\n</table>\n</div>"
     },
     "execution_count": 21,
     "metadata": {},
     "output_type": "execute_result"
    }
   ],
   "source": [
    "# Dataframe to test if collecting data from loan applicants will work\n",
    "\n",
    "df_selected_test = df_selected.head(1)\n",
    "df_selected_test"
   ],
   "metadata": {
    "collapsed": false,
    "pycharm": {
     "name": "#%%\n"
    }
   }
  },
  {
   "cell_type": "code",
   "execution_count": 53,
   "outputs": [
    {
     "data": {
      "text/plain": "   Duration in month  Installment rate in percentage of disposable income  \\\n0                6.0                                                  4     \n\n   Age in years  Credit Risk  Status of existing checking account_<0 DM  \\\n0          67.0            1                                          1   \n\n   Credit history_critical account  Purpose_radio/television  \\\n0                                1                         1   \n\n   Savings account/bonds_no savings account  \\\n0                                         1   \n\n   Present employment since_>=7 years  Personal status and sex_male:single  \\\n0                                   1                                    1   \n\n   Other debtors / guarantors_none  Property_real estate  \\\n0                                1                     1   \n\n   Other installment plans_none  Housing_own  foreign worker_yes  \n0                             1            1                   1  ",
      "text/html": "<div>\n<style scoped>\n    .dataframe tbody tr th:only-of-type {\n        vertical-align: middle;\n    }\n\n    .dataframe tbody tr th {\n        vertical-align: top;\n    }\n\n    .dataframe thead th {\n        text-align: right;\n    }\n</style>\n<table border=\"1\" class=\"dataframe\">\n  <thead>\n    <tr style=\"text-align: right;\">\n      <th></th>\n      <th>Duration in month</th>\n      <th>Installment rate in percentage of disposable income</th>\n      <th>Age in years</th>\n      <th>Credit Risk</th>\n      <th>Status of existing checking account_&lt;0 DM</th>\n      <th>Credit history_critical account</th>\n      <th>Purpose_radio/television</th>\n      <th>Savings account/bonds_no savings account</th>\n      <th>Present employment since_&gt;=7 years</th>\n      <th>Personal status and sex_male:single</th>\n      <th>Other debtors / guarantors_none</th>\n      <th>Property_real estate</th>\n      <th>Other installment plans_none</th>\n      <th>Housing_own</th>\n      <th>foreign worker_yes</th>\n    </tr>\n  </thead>\n  <tbody>\n    <tr>\n      <th>0</th>\n      <td>6.0</td>\n      <td>4</td>\n      <td>67.0</td>\n      <td>1</td>\n      <td>1</td>\n      <td>1</td>\n      <td>1</td>\n      <td>1</td>\n      <td>1</td>\n      <td>1</td>\n      <td>1</td>\n      <td>1</td>\n      <td>1</td>\n      <td>1</td>\n      <td>1</td>\n    </tr>\n  </tbody>\n</table>\n</div>"
     },
     "execution_count": 53,
     "metadata": {},
     "output_type": "execute_result"
    }
   ],
   "source": [
    "# Dataframe to test if collecting data from loan applicants will work\n",
    "\n",
    "# Create a list holding 11 categorical variables in the dataset\n",
    "\n",
    "col_cat_names=[\"Status of existing checking account\",\"Credit history\",\"Purpose\",\\\n",
    "\"Savings account/bonds\",\"Present employment since\",\\\n",
    "\"Personal status and sex\",\"Other debtors / guarantors\",\"Property\",\"Other installment plans\",\"Housing\",\"foreign worker\"]\n",
    "\n",
    "# Use one-hot encoding to create dummy variables for 11 categorical variables created and 1 target variable\n",
    "\n",
    "class Preprocessor:\n",
    "    def __init__(self, df_selected_test, col_cat_names):\n",
    "        self.df_selected_test = df_selected_test\n",
    "        self.col_cat_names = col_cat_names\n",
    "\n",
    "    def one_hot_encode(self):\n",
    "        for attr in self.col_cat_names:\n",
    "            self.df_selected_test = self.df_selected_test.merge(pd.get_dummies(self.df_selected_test[attr], prefix=attr), left_index=True, right_index=True)\n",
    "            self.df_selected_test.drop(attr, axis=1, inplace=True)\n",
    "\n",
    "    def replace_value(self):\n",
    "        risk = {\"Good Risk\": 1, \"Bad Risk\": 0}\n",
    "        self.df_selected_test[\"Credit Risk\"] = self.df_selected_test[\"Credit Risk\"].map(risk)\n",
    "\n",
    "\n",
    "preprocessor = Preprocessor(df_selected_test, col_cat_names)\n",
    "preprocessor.one_hot_encode()\n",
    "preprocessor.replace_value()\n",
    "df_dummies_test = preprocessor.df_selected_test\n",
    "df_dummies_test"
   ],
   "metadata": {
    "collapsed": false,
    "pycharm": {
     "name": "#%%\n"
    }
   }
  },
  {
   "cell_type": "code",
   "execution_count": 54,
   "outputs": [
    {
     "data": {
      "text/plain": "{'Credit history_all credits at this bank paid back duly',\n 'Credit history_delay in paying off',\n 'Credit history_existing credits paid back duly till now',\n 'Credit history_no credits taken',\n 'Housing_for free',\n 'Housing_rent',\n 'Other debtors / guarantors_co-applicant',\n 'Other debtors / guarantors_guarantor',\n 'Other installment plans_bank',\n 'Other installment plans_store',\n 'Personal status and sex_female:divorced/separated/married',\n 'Personal status and sex_male:divorced/separated',\n 'Personal status and sex_male:married/widowed',\n 'Present employment since_1<= < 4 years',\n 'Present employment since_4<= <7 years',\n 'Present employment since_<1 years',\n 'Present employment since_unemployed',\n 'Property_car or other',\n 'Property_savings agreement/life insurance',\n 'Property_unknown / no property',\n 'Purpose_business',\n 'Purpose_car (new)',\n 'Purpose_car (used)',\n 'Purpose_domestic appliances',\n 'Purpose_education',\n 'Purpose_furniture/equipment',\n 'Purpose_others',\n 'Purpose_repairs',\n 'Purpose_retraining',\n 'Savings account/bonds_100 <= <500 DM',\n 'Savings account/bonds_500 <= < 1000 DM',\n 'Savings account/bonds_<100 DM',\n 'Savings account/bonds_>= 1000 DM',\n 'Status of existing checking account_0 <= <200 DM',\n 'Status of existing checking account_>= 200 DM ',\n 'Status of existing checking account_no checking account',\n 'foreign worker_no'}"
     },
     "execution_count": 54,
     "metadata": {},
     "output_type": "execute_result"
    }
   ],
   "source": [
    "#Before the model can predict, it has to have the same number of features as the x_test\n",
    "\n",
    "missing_columns = set(df_dummies.columns) - set(df_dummies_test.columns)\n",
    "missing_columns"
   ],
   "metadata": {
    "collapsed": false,
    "pycharm": {
     "name": "#%%\n"
    }
   }
  },
  {
   "cell_type": "code",
   "execution_count": 55,
   "outputs": [
    {
     "data": {
      "text/plain": "['Duration in month',\n 'Installment rate in percentage of disposable income',\n 'Age in years',\n 'Credit Risk',\n 'Status of existing checking account_0 <= <200 DM',\n 'Status of existing checking account_<0 DM',\n 'Status of existing checking account_>= 200 DM ',\n 'Status of existing checking account_no checking account',\n 'Credit history_all credits at this bank paid back duly',\n 'Credit history_critical account',\n 'Credit history_delay in paying off',\n 'Credit history_existing credits paid back duly till now',\n 'Credit history_no credits taken',\n 'Purpose_business',\n 'Purpose_car (new)',\n 'Purpose_car (used)',\n 'Purpose_domestic appliances',\n 'Purpose_education',\n 'Purpose_furniture/equipment',\n 'Purpose_others',\n 'Purpose_radio/television',\n 'Purpose_repairs',\n 'Purpose_retraining',\n 'Savings account/bonds_100 <= <500 DM',\n 'Savings account/bonds_500 <= < 1000 DM',\n 'Savings account/bonds_<100 DM',\n 'Savings account/bonds_>= 1000 DM',\n 'Savings account/bonds_no savings account',\n 'Present employment since_1<= < 4 years',\n 'Present employment since_4<= <7 years',\n 'Present employment since_<1 years',\n 'Present employment since_>=7 years',\n 'Present employment since_unemployed',\n 'Personal status and sex_female:divorced/separated/married',\n 'Personal status and sex_male:divorced/separated',\n 'Personal status and sex_male:married/widowed',\n 'Personal status and sex_male:single',\n 'Other debtors / guarantors_co-applicant',\n 'Other debtors / guarantors_guarantor',\n 'Other debtors / guarantors_none',\n 'Property_car or other',\n 'Property_real estate',\n 'Property_savings agreement/life insurance',\n 'Property_unknown / no property',\n 'Other installment plans_bank',\n 'Other installment plans_none',\n 'Other installment plans_store',\n 'Housing_for free',\n 'Housing_own',\n 'Housing_rent',\n 'foreign worker_no',\n 'foreign worker_yes']"
     },
     "execution_count": 55,
     "metadata": {},
     "output_type": "execute_result"
    }
   ],
   "source": [
    "# Get a list of column names in the order in which they appear from the dataframe used in creating x_test\n",
    "column_names_in_order = list(df_dummies.columns)\n",
    "column_names_in_order"
   ],
   "metadata": {
    "collapsed": false,
    "pycharm": {
     "name": "#%%\n"
    }
   }
  },
  {
   "cell_type": "code",
   "execution_count": 56,
   "outputs": [
    {
     "data": {
      "text/plain": "   Duration in month  Installment rate in percentage of disposable income  \\\n0                6.0                                                  4     \n\n   Age in years  Credit Risk  \\\n0          67.0            1   \n\n   Status of existing checking account_0 <= <200 DM  \\\n0                                                 0   \n\n   Status of existing checking account_<0 DM  \\\n0                                          1   \n\n   Status of existing checking account_>= 200 DM   \\\n0                                               0   \n\n   Status of existing checking account_no checking account  \\\n0                                                  0         \n\n   Credit history_all credits at this bank paid back duly  \\\n0                                                  0        \n\n   Credit history_critical account  ...  \\\n0                                1  ...   \n\n   Property_savings agreement/life insurance  Property_unknown / no property  \\\n0                                          0                               0   \n\n   Other installment plans_bank  Other installment plans_none  \\\n0                             0                             1   \n\n   Other installment plans_store  Housing_for free  Housing_own  Housing_rent  \\\n0                              0                 0            1             0   \n\n   foreign worker_no  foreign worker_yes  \n0                  0                   1  \n\n[1 rows x 52 columns]",
      "text/html": "<div>\n<style scoped>\n    .dataframe tbody tr th:only-of-type {\n        vertical-align: middle;\n    }\n\n    .dataframe tbody tr th {\n        vertical-align: top;\n    }\n\n    .dataframe thead th {\n        text-align: right;\n    }\n</style>\n<table border=\"1\" class=\"dataframe\">\n  <thead>\n    <tr style=\"text-align: right;\">\n      <th></th>\n      <th>Duration in month</th>\n      <th>Installment rate in percentage of disposable income</th>\n      <th>Age in years</th>\n      <th>Credit Risk</th>\n      <th>Status of existing checking account_0 &lt;= &lt;200 DM</th>\n      <th>Status of existing checking account_&lt;0 DM</th>\n      <th>Status of existing checking account_&gt;= 200 DM</th>\n      <th>Status of existing checking account_no checking account</th>\n      <th>Credit history_all credits at this bank paid back duly</th>\n      <th>Credit history_critical account</th>\n      <th>...</th>\n      <th>Property_savings agreement/life insurance</th>\n      <th>Property_unknown / no property</th>\n      <th>Other installment plans_bank</th>\n      <th>Other installment plans_none</th>\n      <th>Other installment plans_store</th>\n      <th>Housing_for free</th>\n      <th>Housing_own</th>\n      <th>Housing_rent</th>\n      <th>foreign worker_no</th>\n      <th>foreign worker_yes</th>\n    </tr>\n  </thead>\n  <tbody>\n    <tr>\n      <th>0</th>\n      <td>6.0</td>\n      <td>4</td>\n      <td>67.0</td>\n      <td>1</td>\n      <td>0</td>\n      <td>1</td>\n      <td>0</td>\n      <td>0</td>\n      <td>0</td>\n      <td>1</td>\n      <td>...</td>\n      <td>0</td>\n      <td>0</td>\n      <td>0</td>\n      <td>1</td>\n      <td>0</td>\n      <td>0</td>\n      <td>1</td>\n      <td>0</td>\n      <td>0</td>\n      <td>1</td>\n    </tr>\n  </tbody>\n</table>\n<p>1 rows × 52 columns</p>\n</div>"
     },
     "execution_count": 56,
     "metadata": {},
     "output_type": "execute_result"
    }
   ],
   "source": [
    "# Replace all missing columns with 0\n",
    "for column in missing_columns:\n",
    "    df_dummies_test[column] = 0\n",
    "\n",
    "\n",
    "\n",
    "\n",
    "\n",
    "# List of column names in the desired order\n",
    "\n",
    "\n",
    "# Reorder the DataFrame columns\n",
    "df_dummies_test = df_dummies_test[column_names_in_order]\n",
    "df_dummies_test"
   ],
   "metadata": {
    "collapsed": false,
    "pycharm": {
     "name": "#%%\n"
    }
   }
  },
  {
   "cell_type": "code",
   "execution_count": 57,
   "outputs": [
    {
     "data": {
      "text/plain": "   Duration in month  Installment rate in percentage of disposable income  \\\n0                6.0                                                  4     \n\n   Age in years  Status of existing checking account_0 <= <200 DM  \\\n0          67.0                                                 0   \n\n   Status of existing checking account_<0 DM  \\\n0                                          1   \n\n   Status of existing checking account_>= 200 DM   \\\n0                                               0   \n\n   Status of existing checking account_no checking account  \\\n0                                                  0         \n\n   Credit history_all credits at this bank paid back duly  \\\n0                                                  0        \n\n   Credit history_critical account  Credit history_delay in paying off  ...  \\\n0                                1                                   0  ...   \n\n   Property_savings agreement/life insurance  Property_unknown / no property  \\\n0                                          0                               0   \n\n   Other installment plans_bank  Other installment plans_none  \\\n0                             0                             1   \n\n   Other installment plans_store  Housing_for free  Housing_own  Housing_rent  \\\n0                              0                 0            1             0   \n\n   foreign worker_no  foreign worker_yes  \n0                  0                   1  \n\n[1 rows x 51 columns]",
      "text/html": "<div>\n<style scoped>\n    .dataframe tbody tr th:only-of-type {\n        vertical-align: middle;\n    }\n\n    .dataframe tbody tr th {\n        vertical-align: top;\n    }\n\n    .dataframe thead th {\n        text-align: right;\n    }\n</style>\n<table border=\"1\" class=\"dataframe\">\n  <thead>\n    <tr style=\"text-align: right;\">\n      <th></th>\n      <th>Duration in month</th>\n      <th>Installment rate in percentage of disposable income</th>\n      <th>Age in years</th>\n      <th>Status of existing checking account_0 &lt;= &lt;200 DM</th>\n      <th>Status of existing checking account_&lt;0 DM</th>\n      <th>Status of existing checking account_&gt;= 200 DM</th>\n      <th>Status of existing checking account_no checking account</th>\n      <th>Credit history_all credits at this bank paid back duly</th>\n      <th>Credit history_critical account</th>\n      <th>Credit history_delay in paying off</th>\n      <th>...</th>\n      <th>Property_savings agreement/life insurance</th>\n      <th>Property_unknown / no property</th>\n      <th>Other installment plans_bank</th>\n      <th>Other installment plans_none</th>\n      <th>Other installment plans_store</th>\n      <th>Housing_for free</th>\n      <th>Housing_own</th>\n      <th>Housing_rent</th>\n      <th>foreign worker_no</th>\n      <th>foreign worker_yes</th>\n    </tr>\n  </thead>\n  <tbody>\n    <tr>\n      <th>0</th>\n      <td>6.0</td>\n      <td>4</td>\n      <td>67.0</td>\n      <td>0</td>\n      <td>1</td>\n      <td>0</td>\n      <td>0</td>\n      <td>0</td>\n      <td>1</td>\n      <td>0</td>\n      <td>...</td>\n      <td>0</td>\n      <td>0</td>\n      <td>0</td>\n      <td>1</td>\n      <td>0</td>\n      <td>0</td>\n      <td>1</td>\n      <td>0</td>\n      <td>0</td>\n      <td>1</td>\n    </tr>\n  </tbody>\n</table>\n<p>1 rows × 51 columns</p>\n</div>"
     },
     "execution_count": 57,
     "metadata": {},
     "output_type": "execute_result"
    }
   ],
   "source": [
    "# drop \"Credit Risk\" column so its only 51 columns like in x_test?\n",
    "df_dummies_test = df_dummies_test.drop(columns=['Credit Risk'])\n",
    "df_dummies_test"
   ],
   "metadata": {
    "collapsed": false,
    "pycharm": {
     "name": "#%%\n"
    }
   }
  },
  {
   "cell_type": "code",
   "execution_count": 58,
   "outputs": [
    {
     "data": {
      "text/plain": "    0   1     2   3   4   5   6   7   8   9   ...  41  42  43  44  45  46  47  \\\n0  6.0   4  67.0   0   1   0   0   0   1   0  ...   0   0   0   1   0   0   1   \n\n   48  49  50  \n0   0   0   1  \n\n[1 rows x 51 columns]",
      "text/html": "<div>\n<style scoped>\n    .dataframe tbody tr th:only-of-type {\n        vertical-align: middle;\n    }\n\n    .dataframe tbody tr th {\n        vertical-align: top;\n    }\n\n    .dataframe thead th {\n        text-align: right;\n    }\n</style>\n<table border=\"1\" class=\"dataframe\">\n  <thead>\n    <tr style=\"text-align: right;\">\n      <th></th>\n      <th>0</th>\n      <th>1</th>\n      <th>2</th>\n      <th>3</th>\n      <th>4</th>\n      <th>5</th>\n      <th>6</th>\n      <th>7</th>\n      <th>8</th>\n      <th>9</th>\n      <th>...</th>\n      <th>41</th>\n      <th>42</th>\n      <th>43</th>\n      <th>44</th>\n      <th>45</th>\n      <th>46</th>\n      <th>47</th>\n      <th>48</th>\n      <th>49</th>\n      <th>50</th>\n    </tr>\n  </thead>\n  <tbody>\n    <tr>\n      <th>0</th>\n      <td>6.0</td>\n      <td>4</td>\n      <td>67.0</td>\n      <td>0</td>\n      <td>1</td>\n      <td>0</td>\n      <td>0</td>\n      <td>0</td>\n      <td>1</td>\n      <td>0</td>\n      <td>...</td>\n      <td>0</td>\n      <td>0</td>\n      <td>0</td>\n      <td>1</td>\n      <td>0</td>\n      <td>0</td>\n      <td>1</td>\n      <td>0</td>\n      <td>0</td>\n      <td>1</td>\n    </tr>\n  </tbody>\n</table>\n<p>1 rows × 51 columns</p>\n</div>"
     },
     "execution_count": 58,
     "metadata": {},
     "output_type": "execute_result"
    }
   ],
   "source": [
    "# x_test has column names replaced with index numbers, do the same for df_dummies_test\n",
    "df_dummies_test.columns = range(len(df_dummies_test.columns))\n",
    "df_dummies_test"
   ],
   "metadata": {
    "collapsed": false,
    "pycharm": {
     "name": "#%%\n"
    }
   }
  },
  {
   "cell_type": "code",
   "execution_count": null,
   "outputs": [],
   "source": [],
   "metadata": {
    "collapsed": false,
    "pycharm": {
     "name": "#%%\n"
    }
   }
  },
  {
   "cell_type": "code",
   "execution_count": null,
   "metadata": {
    "pycharm": {
     "name": "#%%\n"
    }
   },
   "outputs": [],
   "source": [
    "# Second Data Group for model prediction without \"Credit History\" and \"Foreign Worker\" features\n",
    "\n",
    "df_selected1 = ger_credit_df.drop(columns=['Number of people being liable to provide maintenance for',\\\n",
    "                      'Present residence since','Job', 'Telephone','Credit amount','Number of existing credits at this bank',\\\n",
    "                      'Credit history', 'foreign worker'\n",
    "                                         ])\n",
    "# Second list with names of columns for one-hot encoding of 9 categorical variables for model prediction \n",
    "# without \"Credit History\" and \"Foreign Worker\" features\n",
    "# Final dummy will use 9 categorical variables, and 3 numerical variable and 1 target variable\n",
    "\n",
    "col_cat_names1=[\"Status of existing checking account\",\"Purpose\",\\\n",
    "\"Savings account/bonds\",\"Present employment since\",\\\n",
    "\"Personal status and sex\",\"Other debtors / guarantors\",\"Property\",\"Other installment plans\",\"Housing\"]\n",
    "\n",
    "class Preprocessor:\n",
    "    def __init__(self, df_selected1, col_cat_names1):\n",
    "        self.df_selected1 = df_selected1\n",
    "        self.col_cat_names1 = col_cat_names1\n",
    "\n",
    "    def one_hot_encode(self):\n",
    "        for attr in self.col_cat_names1:\n",
    "            self.df_selected1 = self.df_selected1.merge(pd.get_dummies(self.df_selected1[attr], prefix=attr), left_index=True, right_index=True)\n",
    "            self.df_selected1.drop(attr, axis=1, inplace=True)\n",
    "            \n",
    "    def replace_value(self):\n",
    "        risk = {\"Good Risk\": 1, \"Bad Risk\": 0}\n",
    "        self.df_selected1[\"Credit Risk\"] = self.df_selected1[\"Credit Risk\"].map(risk)\n",
    "    \n",
    "\n",
    "preprocessor = Preprocessor(df_selected1, col_cat_names1)\n",
    "preprocessor.one_hot_encode()\n",
    "preprocessor.replace_value()\n",
    "df_dummies1 = preprocessor.df_selected1\n",
    "df_dummies1\n",
    "\n",
    "# df_selected1"
   ]
  },
  {
   "cell_type": "code",
   "execution_count": 29,
   "metadata": {
    "pycharm": {
     "name": "#%%\n"
    }
   },
   "outputs": [
    {
     "name": "stdout",
     "output_type": "stream",
     "text": [
      "There are 700 loans repaid on time (Good Risk, Cost Matrix(Risk) =1) and 300 loans defaulted (Bad Risk, Cost Matrix(Risk)=0) in the dataset\n"
     ]
    },
    {
     "data": {
      "text/plain": "<Figure size 432x288 with 1 Axes>",
      "image/png": "[encoded data removed]"
     },
     "metadata": {},
     "output_type": "display_data"
    }
   ],
   "source": [
    "# Target Variable distribution\n",
    "\n",
    "\n",
    "### OOP Target Data Distribution\n",
    "\n",
    "# Replace \"Good Risk\" and \"Bad Risk\" with \"1\" and \"0\" so it's possible to count occurrence\n",
    "# Use back up data - create a copy from it. \n",
    "\n",
    "df_dist = backup_ger_credit_df.copy()\n",
    "\n",
    "class Replacer:\n",
    "    def __init__(self, df_dist):\n",
    "        self.df_dist = df_dist\n",
    "\n",
    "    def replace_value(self):\n",
    "        risk = {\"Good Risk\": 1, \"Bad Risk\": 0}\n",
    "        self.df_dist[\"Credit Risk\"] = self.df_dist[\"Credit Risk\"].map(risk)\n",
    "        \n",
    "\n",
    "df_replaced = Replacer(df_dist)\n",
    "df_replaced.replace_value()\n",
    "df_dist_replaced = df_replaced.df_dist\n",
    "\n",
    "# Plot graph\n",
    "\n",
    "df_dist_replaced['Credit Risk'].astype(int).plot.hist(color='forestgreen').set_xlabel('Target or dependent variable: 1 or 0');\n",
    "\n",
    "count = df_dist_replaced['Credit Risk'].value_counts()\n",
    "good_risk = count[1]\n",
    "bad_risk = count[0]\n",
    "\n",
    "print(\"There are {} loans repaid on time (Good Risk, Cost Matrix(Risk) =1) and {} loans defaulted (Bad Risk, Cost Matrix(Risk)=0) in the dataset\".format(good_risk, bad_risk))\n"
   ]
  },
  {
   "cell_type": "code",
   "execution_count": 28,
   "metadata": {
    "pycharm": {
     "name": "#%%\n"
    }
   },
   "outputs": [
    {
     "data": {
      "text/plain": "array([[36.,  4., 30., ...,  0.,  0.,  1.],\n       [ 9.,  1., 26., ...,  1.,  1.,  0.],\n       [18.,  3., 43., ...,  0.,  0.,  1.],\n       ...,\n       [24.,  2., 30., ...,  0.,  0.,  1.],\n       [27.,  2., 42., ...,  0.,  0.,  1.],\n       [12.,  3., 25., ...,  1.,  0.,  1.]])"
     },
     "execution_count": 28,
     "metadata": {},
     "output_type": "execute_result"
    }
   ],
   "source": [
    "# Spliting dataset into train and test version\n",
    "\n",
    "#Remove Target Variable column, assign resultant dataframe with only indpendent variables to \"x\"\n",
    "x = df_dummies.drop('Credit Risk', 1).values\n",
    "\n",
    "#Select Target variable column, assign it to \"y\"\n",
    "y = df_dummies['Credit Risk'].values\n",
    "\n",
    "x_train, x_test, y_train, y_test = train_test_split(x, y, test_size = 0.30,random_state=0)\n",
    "\n",
    "x_test"
   ]
  },
  {
   "cell_type": "code",
   "execution_count": 60,
   "metadata": {
    "pycharm": {
     "name": "#%%\n"
    }
   },
   "outputs": [
    {
     "data": {
      "text/plain": "array([[ 1.93373833e+00,  8.95463668e-01, -4.79792855e-01, ...,\n        -4.66252404e-01, -1.92450090e-01,  1.92450090e-01],\n       [-1.11657797e+00, -1.79862473e+00, -8.82659577e-01, ...,\n         2.14476106e+00,  5.19615242e+00, -5.19615242e+00],\n       [-9.98058667e-02, -2.56579847e-03,  8.29523991e-01, ...,\n        -4.66252404e-01, -1.92450090e-01,  1.92450090e-01],\n       ...,\n       [ 5.78042200e-01, -9.00595265e-01, -4.79792855e-01, ...,\n        -4.66252404e-01, -1.92450090e-01,  1.92450090e-01],\n       [ 9.16966233e-01, -9.00595265e-01,  7.28807310e-01, ...,\n        -4.66252404e-01, -1.92450090e-01,  1.92450090e-01],\n       [-7.77653933e-01, -2.56579847e-03, -9.83376257e-01, ...,\n         2.14476106e+00, -1.92450090e-01,  1.92450090e-01]])"
     },
     "execution_count": 60,
     "metadata": {},
     "output_type": "execute_result"
    }
   ],
   "source": [
    "# Scaling the dataset\n",
    "\n",
    "scaled_x = StandardScaler()    \n",
    "x_train = scaled_x.fit_transform(x_train)    \n",
    "x_test = scaled_x.transform(x_test)\n",
    "\n",
    "x_test"
   ]
  },
  {
   "cell_type": "code",
   "execution_count": 62,
   "outputs": [
    {
     "data": {
      "text/plain": "array([[ 6.00000000e+00,  4.00000000e+00,  6.70000000e+01,\n        -2.45517892e-16,  1.00000000e+00,  8.88178420e-17,\n         2.44883479e-16, -9.63514982e-17,  1.00000000e+00,\n         4.44089210e-16,  1.45280613e-16,  1.92940901e-16,\n        -2.30926389e-16,  6.75650012e-17, -1.06105600e-16,\n         7.99757086e-17,  2.59316378e-17,  1.27913553e-16,\n        -2.03012210e-17,  1.00000000e+00, -2.10228660e-16,\n         4.60346047e-17,  8.24737104e-17,  3.49403046e-16,\n        -3.58443434e-17, -2.17683014e-16,  1.00000000e+00,\n         6.70891913e-16,  1.19269674e-16, -5.70178825e-17,\n         1.00000000e+00, -1.08563951e-16, -1.92861600e-16,\n         2.55827106e-16,  3.42583105e-16,  1.00000000e+00,\n         4.40124128e-17,  3.97301240e-17,  1.00000000e+00,\n         7.13714802e-17,  1.00000000e+00,  2.53765263e-16,\n         1.16414814e-16, -3.01346250e-16,  1.00000000e+00,\n        -5.55111512e-19,  1.17207831e-16,  1.00000000e+00,\n         1.56224240e-16, -3.85485294e-16,  1.00000000e+00]])"
     },
     "execution_count": 62,
     "metadata": {},
     "output_type": "execute_result"
    }
   ],
   "source": [
    "# Scaling the loan applicant data\n",
    "\n",
    "x_applicant_test = scaled_x.transform(df_dummies_test)\n",
    "x_applicant_test"
   ],
   "metadata": {
    "collapsed": false,
    "pycharm": {
     "name": "#%%\n"
    }
   }
  },
  {
   "cell_type": "code",
   "execution_count": 32,
   "outputs": [
    {
     "data": {
      "text/plain": "     Duration in month  Installment rate in percentage of disposable income  \\\n0             6.000000                                                  4     \n1            20.903000                                                  2     \n2            12.000000                                                  2     \n3            42.000000                                                  2     \n4            24.000000                                                  3     \n..                 ...                                                ...     \n995          12.000000                                                  3     \n996          30.000000                                                  4     \n997          12.000000                                                  4     \n998          18.809721                                                  4     \n999          18.783530                                                  3     \n\n     Age in years  Credit Risk  \\\n0            67.0            1   \n1            22.0            0   \n2            49.0            1   \n3            45.0            1   \n4            53.0            0   \n..            ...          ...   \n995          31.0            1   \n996          40.0            1   \n997          38.0            1   \n998          23.0            0   \n999          27.0            1   \n\n     Status of existing checking account_0 <= <200 DM  \\\n0                                                   0   \n1                                                   1   \n2                                                   0   \n3                                                   0   \n4                                                   0   \n..                                                ...   \n995                                                 0   \n996                                                 0   \n997                                                 0   \n998                                                 0   \n999                                                 1   \n\n     Status of existing checking account_<0 DM  \\\n0                                            1   \n1                                            0   \n2                                            0   \n3                                            1   \n4                                            1   \n..                                         ...   \n995                                          0   \n996                                          1   \n997                                          0   \n998                                          1   \n999                                          0   \n\n     Status of existing checking account_>= 200 DM   \\\n0                                                 0   \n1                                                 0   \n2                                                 0   \n3                                                 0   \n4                                                 0   \n..                                              ...   \n995                                               0   \n996                                               0   \n997                                               0   \n998                                               0   \n999                                               0   \n\n     Status of existing checking account_no checking account  \\\n0                                                    0         \n1                                                    0         \n2                                                    1         \n3                                                    0         \n4                                                    0         \n..                                                 ...         \n995                                                  1         \n996                                                  0         \n997                                                  1         \n998                                                  0         \n999                                                  0         \n\n     Credit history_all credits at this bank paid back duly  \\\n0                                                    0        \n1                                                    0        \n2                                                    0        \n3                                                    0        \n4                                                    0        \n..                                                 ...        \n995                                                  0        \n996                                                  0        \n997                                                  0        \n998                                                  0        \n999                                                  0        \n\n     Credit history_critical account  ...  \\\n0                                  1  ...   \n1                                  0  ...   \n2                                  1  ...   \n3                                  0  ...   \n4                                  0  ...   \n..                               ...  ...   \n995                                0  ...   \n996                                0  ...   \n997                                0  ...   \n998                                0  ...   \n999                                1  ...   \n\n     Property_savings agreement/life insurance  \\\n0                                            0   \n1                                            0   \n2                                            0   \n3                                            1   \n4                                            0   \n..                                         ...   \n995                                          0   \n996                                          1   \n997                                          0   \n998                                          0   \n999                                          0   \n\n     Property_unknown / no property  Other installment plans_bank  \\\n0                                 0                             0   \n1                                 0                             0   \n2                                 0                             0   \n3                                 0                             0   \n4                                 1                             0   \n..                              ...                           ...   \n995                               0                             0   \n996                               0                             0   \n997                               0                             0   \n998                               1                             0   \n999                               0                             0   \n\n     Other installment plans_none  Other installment plans_store  \\\n0                               1                              0   \n1                               1                              0   \n2                               1                              0   \n3                               1                              0   \n4                               1                              0   \n..                            ...                            ...   \n995                             1                              0   \n996                             1                              0   \n997                             1                              0   \n998                             1                              0   \n999                             1                              0   \n\n     Housing_for free  Housing_own  Housing_rent  foreign worker_no  \\\n0                   0            1             0                  0   \n1                   0            1             0                  0   \n2                   0            1             0                  0   \n3                   1            0             0                  0   \n4                   1            0             0                  0   \n..                ...          ...           ...                ...   \n995                 0            1             0                  0   \n996                 0            1             0                  0   \n997                 0            1             0                  0   \n998                 1            0             0                  0   \n999                 0            1             0                  0   \n\n     foreign worker_yes  \n0                     1  \n1                     1  \n2                     1  \n3                     1  \n4                     1  \n..                  ...  \n995                   1  \n996                   1  \n997                   1  \n998                   1  \n999                   1  \n\n[1000 rows x 52 columns]",
      "text/html": "<div>\n<style scoped>\n    .dataframe tbody tr th:only-of-type {\n        vertical-align: middle;\n    }\n\n    .dataframe tbody tr th {\n        vertical-align: top;\n    }\n\n    .dataframe thead th {\n        text-align: right;\n    }\n</style>\n<table border=\"1\" class=\"dataframe\">\n  <thead>\n    <tr style=\"text-align: right;\">\n      <th></th>\n      <th>Duration in month</th>\n      <th>Installment rate in percentage of disposable income</th>\n      <th>Age in years</th>\n      <th>Credit Risk</th>\n      <th>Status of existing checking account_0 &lt;= &lt;200 DM</th>\n      <th>Status of existing checking account_&lt;0 DM</th>\n      <th>Status of existing checking account_&gt;= 200 DM</th>\n      <th>Status of existing checking account_no checking account</th>\n      <th>Credit history_all credits at this bank paid back duly</th>\n      <th>Credit history_critical account</th>\n      <th>...</th>\n      <th>Property_savings agreement/life insurance</th>\n      <th>Property_unknown / no property</th>\n      <th>Other installment plans_bank</th>\n      <th>Other installment plans_none</th>\n      <th>Other installment plans_store</th>\n      <th>Housing_for free</th>\n      <th>Housing_own</th>\n      <th>Housing_rent</th>\n      <th>foreign worker_no</th>\n      <th>foreign worker_yes</th>\n    </tr>\n  </thead>\n  <tbody>\n    <tr>\n      <th>0</th>\n      <td>6.000000</td>\n      <td>4</td>\n      <td>67.0</td>\n      <td>1</td>\n      <td>0</td>\n      <td>1</td>\n      <td>0</td>\n      <td>0</td>\n      <td>0</td>\n      <td>1</td>\n      <td>...</td>\n      <td>0</td>\n      <td>0</td>\n      <td>0</td>\n      <td>1</td>\n      <td>0</td>\n      <td>0</td>\n      <td>1</td>\n      <td>0</td>\n      <td>0</td>\n      <td>1</td>\n    </tr>\n    <tr>\n      <th>1</th>\n      <td>20.903000</td>\n      <td>2</td>\n      <td>22.0</td>\n      <td>0</td>\n      <td>1</td>\n      <td>0</td>\n      <td>0</td>\n      <td>0</td>\n      <td>0</td>\n      <td>0</td>\n      <td>...</td>\n      <td>0</td>\n      <td>0</td>\n      <td>0</td>\n      <td>1</td>\n      <td>0</td>\n      <td>0</td>\n      <td>1</td>\n      <td>0</td>\n      <td>0</td>\n      <td>1</td>\n    </tr>\n    <tr>\n      <th>2</th>\n      <td>12.000000</td>\n      <td>2</td>\n      <td>49.0</td>\n      <td>1</td>\n      <td>0</td>\n      <td>0</td>\n      <td>0</td>\n      <td>1</td>\n      <td>0</td>\n      <td>1</td>\n      <td>...</td>\n      <td>0</td>\n      <td>0</td>\n      <td>0</td>\n      <td>1</td>\n      <td>0</td>\n      <td>0</td>\n      <td>1</td>\n      <td>0</td>\n      <td>0</td>\n      <td>1</td>\n    </tr>\n    <tr>\n      <th>3</th>\n      <td>42.000000</td>\n      <td>2</td>\n      <td>45.0</td>\n      <td>1</td>\n      <td>0</td>\n      <td>1</td>\n      <td>0</td>\n      <td>0</td>\n      <td>0</td>\n      <td>0</td>\n      <td>...</td>\n      <td>1</td>\n      <td>0</td>\n      <td>0</td>\n      <td>1</td>\n      <td>0</td>\n      <td>1</td>\n      <td>0</td>\n      <td>0</td>\n      <td>0</td>\n      <td>1</td>\n    </tr>\n    <tr>\n      <th>4</th>\n      <td>24.000000</td>\n      <td>3</td>\n      <td>53.0</td>\n      <td>0</td>\n      <td>0</td>\n      <td>1</td>\n      <td>0</td>\n      <td>0</td>\n      <td>0</td>\n      <td>0</td>\n      <td>...</td>\n      <td>0</td>\n      <td>1</td>\n      <td>0</td>\n      <td>1</td>\n      <td>0</td>\n      <td>1</td>\n      <td>0</td>\n      <td>0</td>\n      <td>0</td>\n      <td>1</td>\n    </tr>\n    <tr>\n      <th>...</th>\n      <td>...</td>\n      <td>...</td>\n      <td>...</td>\n      <td>...</td>\n      <td>...</td>\n      <td>...</td>\n      <td>...</td>\n      <td>...</td>\n      <td>...</td>\n      <td>...</td>\n      <td>...</td>\n      <td>...</td>\n      <td>...</td>\n      <td>...</td>\n      <td>...</td>\n      <td>...</td>\n      <td>...</td>\n      <td>...</td>\n      <td>...</td>\n      <td>...</td>\n      <td>...</td>\n    </tr>\n    <tr>\n      <th>995</th>\n      <td>12.000000</td>\n      <td>3</td>\n      <td>31.0</td>\n      <td>1</td>\n      <td>0</td>\n      <td>0</td>\n      <td>0</td>\n      <td>1</td>\n      <td>0</td>\n      <td>0</td>\n      <td>...</td>\n      <td>0</td>\n      <td>0</td>\n      <td>0</td>\n      <td>1</td>\n      <td>0</td>\n      <td>0</td>\n      <td>1</td>\n      <td>0</td>\n      <td>0</td>\n      <td>1</td>\n    </tr>\n    <tr>\n      <th>996</th>\n      <td>30.000000</td>\n      <td>4</td>\n      <td>40.0</td>\n      <td>1</td>\n      <td>0</td>\n      <td>1</td>\n      <td>0</td>\n      <td>0</td>\n      <td>0</td>\n      <td>0</td>\n      <td>...</td>\n      <td>1</td>\n      <td>0</td>\n      <td>0</td>\n      <td>1</td>\n      <td>0</td>\n      <td>0</td>\n      <td>1</td>\n      <td>0</td>\n      <td>0</td>\n      <td>1</td>\n    </tr>\n    <tr>\n      <th>997</th>\n      <td>12.000000</td>\n      <td>4</td>\n      <td>38.0</td>\n      <td>1</td>\n      <td>0</td>\n      <td>0</td>\n      <td>0</td>\n      <td>1</td>\n      <td>0</td>\n      <td>0</td>\n      <td>...</td>\n      <td>0</td>\n      <td>0</td>\n      <td>0</td>\n      <td>1</td>\n      <td>0</td>\n      <td>0</td>\n      <td>1</td>\n      <td>0</td>\n      <td>0</td>\n      <td>1</td>\n    </tr>\n    <tr>\n      <th>998</th>\n      <td>18.809721</td>\n      <td>4</td>\n      <td>23.0</td>\n      <td>0</td>\n      <td>0</td>\n      <td>1</td>\n      <td>0</td>\n      <td>0</td>\n      <td>0</td>\n      <td>0</td>\n      <td>...</td>\n      <td>0</td>\n      <td>1</td>\n      <td>0</td>\n      <td>1</td>\n      <td>0</td>\n      <td>1</td>\n      <td>0</td>\n      <td>0</td>\n      <td>0</td>\n      <td>1</td>\n    </tr>\n    <tr>\n      <th>999</th>\n      <td>18.783530</td>\n      <td>3</td>\n      <td>27.0</td>\n      <td>1</td>\n      <td>1</td>\n      <td>0</td>\n      <td>0</td>\n      <td>0</td>\n      <td>0</td>\n      <td>1</td>\n      <td>...</td>\n      <td>0</td>\n      <td>0</td>\n      <td>0</td>\n      <td>1</td>\n      <td>0</td>\n      <td>0</td>\n      <td>1</td>\n      <td>0</td>\n      <td>0</td>\n      <td>1</td>\n    </tr>\n  </tbody>\n</table>\n<p>1000 rows × 52 columns</p>\n</div>"
     },
     "execution_count": 32,
     "metadata": {},
     "output_type": "execute_result"
    }
   ],
   "source": [
    "df_dummies"
   ],
   "metadata": {
    "collapsed": false,
    "pycharm": {
     "name": "#%%\n"
    }
   }
  },
  {
   "cell_type": "markdown",
   "metadata": {
    "pycharm": {
     "name": "#%% md\n"
    }
   },
   "source": [
    "# Credit Risk Model Development and Fit"
   ]
  },
  {
   "cell_type": "markdown",
   "metadata": {
    "pycharm": {
     "name": "#%% md\n"
    }
   },
   "source": [
    "#### Logistic Regression"
   ]
  },
  {
   "cell_type": "code",
   "execution_count": null,
   "metadata": {
    "pycharm": {
     "name": "#%%\n"
    }
   },
   "outputs": [],
   "source": [
    "#Model Training - Data Group 1\n",
    "l_reg = LogisticRegression (random_state = 0)\n",
    "l_reg.fit(x_train, y_train)\n",
    "\n",
    "# Prediction \n",
    "y_prediction_logreg = l_reg.predict(x_test)\n",
    "\n",
    "# Confusion Matrix\n",
    "cm_logreg = confusion_matrix(y_test, y_prediction_logreg, labels=l_reg.classes_)\n",
    "\n",
    "# Display Confusion Matrix Plot\n",
    "disp_logreg = ConfusionMatrixDisplay(confusion_matrix=cm_logreg, display_labels=l_reg.classes_)\n",
    "disp_logreg.plot()\n",
    "\n",
    "# Metrics\n",
    "TP_logreg = 41\n",
    "TN_logreg  = 175\n",
    "FP_logreg  = 45\n",
    "FN_logreg  = 39\n",
    "\n",
    "ACC_logreg  = round(((TP_logreg  + TN_logreg ) / (TP_logreg + TN_logreg + FP_logreg + FN_logreg))*100,2)\n",
    "print(f\"LogisticRegression Accuracy (%):{ACC_logreg}\")\n",
    "\n",
    "TPR_logreg  = round((TP_logreg / (TP_logreg + FN_logreg))*100,2) \n",
    "print(f\"LogisticRegression Sensitivity, TPR (%):{TPR_logreg}\")\n",
    "\n",
    "SP_logreg  = round((TN_logreg / (FP_logreg + TN_logreg))*100,2)\n",
    "print(f\"LogisticRegression Specificity (%): {SP_logreg}\")\n",
    "      "
   ]
  },
  {
   "cell_type": "code",
   "execution_count": null,
   "metadata": {
    "pycharm": {
     "name": "#%%\n"
    }
   },
   "outputs": [],
   "source": [
    "#Model Training - Data Group 2 - No Credit History or Immigrant tag\n",
    "l_reg = LogisticRegression (random_state = 0)\n",
    "l_reg.fit(x_train, y_train)\n",
    "\n",
    "# Prediction \n",
    "y_prediction_logreg = l_reg.predict(x_test)\n",
    "\n",
    "# Confusion Matrix\n",
    "cm_logreg = confusion_matrix(y_test, y_prediction_logreg, labels=l_reg.classes_)\n",
    "\n",
    "# Display Confusion Matrix Plot\n",
    "disp_logreg = ConfusionMatrixDisplay(confusion_matrix=cm_logreg, display_labels=l_reg.classes_)\n",
    "disp_logreg.plot()\n",
    "\n",
    "# Metrics\n",
    "TP_logreg = 44\n",
    "TN_logreg  = 180\n",
    "FP_logreg  = 42\n",
    "FN_logreg  = 34\n",
    "\n",
    "ACC_logreg  = round(((TP_logreg  + TN_logreg ) / (TP_logreg + TN_logreg + FP_logreg + FN_logreg))*100,2)\n",
    "print(f\"LogisticRegression Accuracy (%):{ACC_logreg}\")\n",
    "\n",
    "TPR_logreg  = round((TP_logreg / (TP_logreg + FN_logreg))*100,2) \n",
    "print(f\"LogisticRegression Sensitivity, TPR (%):{TPR_logreg}\")\n",
    "\n",
    "SP_logreg  = round((TN_logreg / (FP_logreg + TN_logreg))*100,2)\n",
    "print(f\"LogisticRegression Specificity (%): {SP_logreg}\")\n",
    "      "
   ]
  },
  {
   "cell_type": "markdown",
   "metadata": {
    "pycharm": {
     "name": "#%% md\n"
    }
   },
   "source": [
    "#### XGBoost Classifier"
   ]
  },
  {
   "cell_type": "code",
   "execution_count": 68,
   "metadata": {
    "pycharm": {
     "name": "#%%\n"
    }
   },
   "outputs": [
    {
     "name": "stdout",
     "output_type": "stream",
     "text": [
      "XGBoost Accuracy:75.33%\n",
      "XGBoost Sensitivity, TPR:58.82%\n",
      "XGBoost Specificity: 80.17%\n"
     ]
    },
    {
     "data": {
      "text/plain": "<Figure size 432x288 with 2 Axes>",
      "image/png": "[encoded data removed]"
     },
     "metadata": {},
     "output_type": "display_data"
    }
   ],
   "source": [
    "# XGBoost Model Training - Data Group 1 - complete selected feature\n",
    "\n",
    "xgb = XGBClassifier(max_depth=2,                 # Depth of each tree\n",
    "                            learning_rate=0.1,            # How much to shrink error in each subsequent training. Trade-off with no. estimators.\n",
    "                            n_estimators=50,             # How many trees to use, the more the better, but decrease learning rate if many used.\n",
    "                            verbosity=1,                  # If to show more errors or not.\n",
    "                            objective='binary:logistic',  # Type of target variable.\n",
    "                            booster='gbtree',             # What to boost. Trees in this case.\n",
    "                            n_jobs=2,                    # Parallel jobs to run. Set your processor number.\n",
    "                            gamma=0.001,                  # Minimum loss reduction required to make a further partition on a leaf node of the tree. (Controls growth!)\n",
    "                            subsample=0.632,              # Subsample ratio. Can set lower\n",
    "                            colsample_bytree=1,           # Subsample ratio of columns when constructing each tree.\n",
    "                            colsample_bylevel=1,          # Subsample ratio of columns when constructing each level. 0.33 is similar to random forest.\n",
    "                            colsample_bynode=1,           # Subsample ratio of columns when constructing each split.\n",
    "                            reg_alpha=1,                  # Regularizer for first fit. alpha = 1, lambda = 0 is LASSO.\n",
    "                            reg_lambda=0,                 # Regularizer for first fit.\n",
    "                            scale_pos_weight=1,           # Balancing of positive and negative weights. G / B\n",
    "                            base_score=0.5,               # Global bias. Set to average of the target rate.\n",
    "                            random_state=0,        # Seed\n",
    "                            #missing=None,                 # How are nulls encoded?\n",
    "                            #tree_method='gpu_hist',       # How to train the trees?\n",
    "                            #gpu_id=0                      # With which GPU? \n",
    "                            )\n",
    "     \n",
    "\n",
    "xgb.fit(x_train, y_train)\n",
    "\n",
    "# Prediction \n",
    "y_prediction_xgb = xgb.predict(x_test)\n",
    "\n",
    "# Confusion Matrix\n",
    "cm_xgb = confusion_matrix(y_test, y_prediction_xgb, labels=xgb.classes_)\n",
    "\n",
    "# Display Confusion Matrix Plot\n",
    "disp_xgb = ConfusionMatrixDisplay(confusion_matrix=cm_xgb, display_labels=xgb.classes_)\n",
    "disp_xgb.plot()\n",
    "\n",
    "# Metrics\n",
    "TP_xgb = 40\n",
    "TN_xgb  = 186\n",
    "FP_xgb  = 46\n",
    "FN_xgb  = 28\n",
    "\n",
    "ACC_xgb  = round(((TP_xgb  + TN_xgb ) / (TP_xgb + TN_xgb + FP_xgb + FN_xgb))*100,2)\n",
    "print(f\"XGBoost Accuracy:{ACC_xgb}%\")\n",
    "\n",
    "TPR_xgb  = round((TP_xgb / (TP_xgb + FN_xgb))*100,2) \n",
    "print(f\"XGBoost Sensitivity, TPR:{TPR_xgb}%\")\n",
    "\n",
    "SP_xgb  = round((TN_xgb / (FP_xgb + TN_xgb))*100,2)\n",
    "print(f\"XGBoost Specificity: {SP_xgb}%\")\n",
    "\n"
   ]
  },
  {
   "cell_type": "code",
   "execution_count": 65,
   "outputs": [
    {
     "data": {
      "text/plain": "array([0, 1, 1, 1, 1, 1, 1, 1, 1, 1, 0, 0, 1, 0, 0, 1, 0, 1, 0, 1, 0, 0,\n       1, 1, 1, 0, 1, 1, 1, 1, 1, 1, 1, 1, 1, 1, 1, 1, 1, 1, 1, 1, 1, 1,\n       1, 0, 1, 0, 1, 1, 1, 0, 0, 1, 0, 1, 0, 1, 1, 1, 0, 1, 0, 1, 1, 1,\n       1, 1, 0, 1, 1, 1, 0, 1, 0, 1, 1, 1, 1, 1, 0, 1, 1, 1, 1, 1, 1, 0,\n       1, 1, 1, 1, 1, 1, 1, 1, 1, 1, 0, 1, 1, 1, 1, 1, 1, 1, 1, 0, 0, 1,\n       1, 0, 0, 1, 1, 1, 0, 1, 1, 1, 1, 1, 1, 0, 1, 1, 1, 1, 1, 1, 1, 0,\n       0, 1, 1, 0, 1, 1, 1, 0, 1, 1, 1, 1, 1, 1, 1, 1, 0, 1, 1, 1, 1, 1,\n       1, 1, 1, 1, 1, 1, 1, 0, 1, 1, 0, 0, 1, 1, 1, 1, 0, 1, 0, 0, 1, 0,\n       0, 1, 1, 1, 1, 1, 1, 0, 1, 0, 1, 1, 1, 1, 1, 0, 1, 1, 1, 1, 1, 1,\n       1, 1, 0, 0, 0, 0, 1, 1, 0, 1, 1, 1, 1, 0, 1, 1, 1, 1, 0, 1, 1, 1,\n       0, 1, 1, 1, 1, 1, 1, 0, 1, 1, 1, 1, 1, 1, 0, 0, 1, 1, 1, 1, 1, 1,\n       1, 0, 1, 1, 1, 1, 1, 1, 1, 1, 1, 1, 1, 1, 0, 1, 1, 1, 0, 1, 1, 1,\n       0, 0, 1, 1, 1, 1, 0, 1, 1, 1, 1, 1, 1, 1, 1, 1, 1, 1, 1, 1, 0, 1,\n       1, 1, 1, 1, 1, 1, 0, 1, 1, 1, 0, 1, 0, 0])"
     },
     "execution_count": 65,
     "metadata": {},
     "output_type": "execute_result"
    }
   ],
   "source": [
    "y_prediction_xgb"
   ],
   "metadata": {
    "collapsed": false,
    "pycharm": {
     "name": "#%%\n"
    }
   }
  },
  {
   "cell_type": "code",
   "execution_count": 67,
   "outputs": [
    {
     "data": {
      "text/plain": "array([1])"
     },
     "execution_count": 67,
     "metadata": {},
     "output_type": "execute_result"
    }
   ],
   "source": [
    "y_predict_applicant_df_dummies_xgb = xgb.predict(x_applicant_test)\n",
    "y_predict_applicant_df_dummies_xgb"
   ],
   "metadata": {
    "collapsed": false,
    "pycharm": {
     "name": "#%%\n"
    }
   }
  },
  {
   "cell_type": "code",
   "execution_count": null,
   "metadata": {
    "pycharm": {
     "name": "#%%\n"
    }
   },
   "outputs": [],
   "source": [
    "# XGBoost Model Training - Data Group 2 - No Credit History or Immigrant tag\n",
    "\n",
    "xgb = XGBClassifier(max_depth=2,                 # Depth of each tree\n",
    "                            learning_rate=0.1,            # How much to shrink error in each subsequent training. Trade-off with no. estimators.\n",
    "                            n_estimators=50,             # How many trees to use, the more the better, but decrease learning rate if many used.\n",
    "                            verbosity=1,                  # If to show more errors or not.\n",
    "                            objective='binary:logistic',  # Type of target variable.\n",
    "                            booster='gbtree',             # What to boost. Trees in this case.\n",
    "                            n_jobs=2,                    # Parallel jobs to run. Set your processor number.\n",
    "                            gamma=0.001,                  # Minimum loss reduction required to make a further partition on a leaf node of the tree. (Controls growth!)\n",
    "                            subsample=0.632,              # Subsample ratio. Can set lower\n",
    "                            colsample_bytree=1,           # Subsample ratio of columns when constructing each tree.\n",
    "                            colsample_bylevel=1,          # Subsample ratio of columns when constructing each level. 0.33 is similar to random forest.\n",
    "                            colsample_bynode=1,           # Subsample ratio of columns when constructing each split.\n",
    "                            reg_alpha=1,                  # Regularizer for first fit. alpha = 1, lambda = 0 is LASSO.\n",
    "                            reg_lambda=0,                 # Regularizer for first fit.\n",
    "                            scale_pos_weight=1,           # Balancing of positive and negative weights. G / B\n",
    "                            base_score=0.5,               # Global bias. Set to average of the target rate.\n",
    "                            random_state=0,        # Seed\n",
    "                            #missing=None,                 # How are nulls encoded?\n",
    "                            #tree_method='gpu_hist',       # How to train the trees?\n",
    "                            #gpu_id=0                      # With which GPU? \n",
    "                            )\n",
    "     \n",
    "\n",
    "xgb.fit(x_train, y_train)\n",
    "\n",
    "# Prediction \n",
    "y_prediction_xgb = xgb.predict(x_test)\n",
    "\n",
    "# Confusion Matrix\n",
    "cm_xgb = confusion_matrix(y_test, y_prediction_xgb, labels=xgb.classes_)\n",
    "\n",
    "# Display Confusion Matrix Plot\n",
    "disp_xgb = ConfusionMatrixDisplay(confusion_matrix=cm_xgb, display_labels=xgb.classes_)\n",
    "disp_xgb.plot()\n",
    "\n",
    "# Metrics\n",
    "TP_xgb = 42\n",
    "TN_xgb  = 189\n",
    "FP_xgb  = 44\n",
    "FN_xgb  = 25\n",
    "\n",
    "ACC_xgb  = round(((TP_xgb  + TN_xgb ) / (TP_xgb + TN_xgb + FP_xgb + FN_xgb))*100,2)\n",
    "print(f\"XGBoost Accuracy:{ACC_xgb}%\")\n",
    "\n",
    "TPR_xgb  = round((TP_xgb / (TP_xgb + FN_xgb))*100,2) \n",
    "print(f\"XGBoost Sensitivity, TPR:{TPR_logreg}%\")\n",
    "\n",
    "SP_xgb  = round((TN_xgb / (FP_xgb + TN_xgb))*100,2)\n",
    "print(f\"XGBoost Specificity: {SP_xgb}%\")\n"
   ]
  },
  {
   "cell_type": "code",
   "execution_count": null,
   "metadata": {
    "pycharm": {
     "name": "#%%\n"
    }
   },
   "outputs": [],
   "source": [
    "# Plot variable importance\n",
    "importances = xgb.feature_importances_\n",
    "indices = np.argsort(importances)[::-1] \n",
    "\n",
    "f, ax = plt.subplots(figsize=(3, 8))\n",
    "plt.title(\"Variable Importance - XGBoosting\")\n",
    "sns.set_color_codes(\"pastel\")\n",
    "sns.barplot(y=[df_dummies.iloc[:, :-1].columns[i] for i in indices], x=importances[indices], \n",
    "            label=\"Total\", color=\"b\")\n",
    "ax.set(ylabel=\"Variable\",\n",
    "       xlabel=\"Variable Importance (Entropy)\")\n",
    "sns.despine(left=True, bottom=True)"
   ]
  },
  {
   "cell_type": "code",
   "execution_count": null,
   "outputs": [],
   "source": [
    "#OneHotEncoding for categorical variables\n",
    "\n",
    "\n",
    "#Drop 6 columns with P-values less than 0.05 statistical significance\n",
    "\n",
    "df_selected = ger_credit_df.drop(columns=['Number of people being liable to provide maintenance for',\\\n",
    "                      'Present residence since',\\\n",
    "                      'Job',\\\n",
    "                      'Telephone',\\\n",
    "                      'Credit amount',\\\n",
    "                      'Number of existing credits at this bank'\n",
    "                                         ])\n",
    "\n",
    "\n",
    "# Create a list holding 11 categorical variables in the dataset\n",
    "\n",
    "col_cat_names=[\"Status of existing checking account\",\"Credit history\",\"Purpose\",\\\n",
    "\"Savings account/bonds\",\"Present employment since\",\\\n",
    "\"Personal status and sex\",\"Other debtors / guarantors\",\"Property\",\"Other installment plans\",\"Housing\",\"foreign worker\"]\n",
    "\n",
    "# Use one-hot encoding to create dummy variables for 11 categorical variables created and 1 target variable\n",
    "\n",
    "class Preprocessor:\n",
    "    def __init__(self, df_selected, col_cat_names):\n",
    "        self.df_selected = df_selected\n",
    "        self.col_cat_names = col_cat_names\n",
    "\n",
    "    def one_hot_encode(self):\n",
    "        for attr in self.col_cat_names:\n",
    "            self.df_selected = self.df_selected.merge(pd.get_dummies(self.df_selected[attr], prefix=attr), left_index=True, right_index=True)\n",
    "            self.df_selected.drop(attr, axis=1, inplace=True)\n",
    "            \n",
    "    def replace_value(self):\n",
    "        risk = {\"Good Risk\": 1, \"Bad Risk\": 0}\n",
    "        self.df_selected[\"Credit Risk\"] = self.df_selected[\"Credit Risk\"].map(risk)\n",
    "        \n",
    "\n",
    "\n",
    "preprocessor = Preprocessor(df_selected, col_cat_names)\n",
    "preprocessor.one_hot_encode()\n",
    "preprocessor.replace_value()\n",
    "df_dummies = preprocessor.df_selected\n",
    "df_dummies\n",
    "# df_selected\n",
    "\n",
    "# ger_credit_df\n",
    "\n",
    "\n",
    "\n"
   ],
   "metadata": {
    "collapsed": false,
    "pycharm": {
     "name": "#%%\n"
    }
   }
  },
  {
   "cell_type": "code",
   "execution_count": null,
   "outputs": [],
   "source": [
    "# Second Data Group for model prediction without \"Credit History\" and \"Foreign Worker\" features\n",
    "\n",
    "df_selected1 = ger_credit_df.drop(columns=['Number of people being liable to provide maintenance for',\\\n",
    "                      'Present residence since','Job', 'Telephone','Credit amount','Number of existing credits at this bank',\\\n",
    "                      'Credit history', 'foreign worker'\n",
    "                                         ])\n",
    "# Second list with names of columns for one-hot encoding of 9 categorical variables for model prediction \n",
    "# without \"Credit History\" and \"Foreign Worker\" features\n",
    "# Final dummy will use 9 categorical variables, and 3 numerical variable and 1 target variable\n",
    "\n",
    "col_cat_names1=[\"Status of existing checking account\",\"Purpose\",\\\n",
    "\"Savings account/bonds\",\"Present employment since\",\\\n",
    "\"Personal status and sex\",\"Other debtors / guarantors\",\"Property\",\"Other installment plans\",\"Housing\"]\n",
    "\n",
    "class Preprocessor:\n",
    "    def __init__(self, df_selected1, col_cat_names1):\n",
    "        self.df_selected1 = df_selected1\n",
    "        self.col_cat_names1 = col_cat_names1\n",
    "\n",
    "    def one_hot_encode(self):\n",
    "        for attr in self.col_cat_names1:\n",
    "            self.df_selected1 = self.df_selected1.merge(pd.get_dummies(self.df_selected1[attr], prefix=attr), left_index=True, right_index=True)\n",
    "            self.df_selected1.drop(attr, axis=1, inplace=True)\n",
    "            \n",
    "    def replace_value(self):\n",
    "        risk = {\"Good Risk\": 1, \"Bad Risk\": 0}\n",
    "        self.df_selected1[\"Credit Risk\"] = self.df_selected1[\"Credit Risk\"].map(risk)\n",
    "    \n",
    "\n",
    "preprocessor = Preprocessor(df_selected1, col_cat_names1)\n",
    "preprocessor.one_hot_encode()\n",
    "preprocessor.replace_value()\n",
    "df_dummies1 = preprocessor.df_selected1\n",
    "df_dummies1\n",
    "\n",
    "# df_selected1"
   ],
   "metadata": {
    "collapsed": false,
    "pycharm": {
     "name": "#%%\n"
    }
   }
  },
  {
   "cell_type": "code",
   "execution_count": null,
   "outputs": [],
   "source": [
    "# Target Variable distribution\n",
    "\n",
    "\n",
    "### OOP Target Data Distribution\n",
    "\n",
    "# Replace \"Good Risk\" and \"Bad Risk\" with \"1\" and \"0\" so it's possible to count occurrence\n",
    "# Use back up data - create a copy from it. \n",
    "\n",
    "df_dist = backup_ger_credit_df.copy()\n",
    "\n",
    "class Replacer:\n",
    "    def __init__(self, df_dist):\n",
    "        self.df_dist = df_dist\n",
    "\n",
    "    def replace_value(self):\n",
    "        risk = {\"Good Risk\": 1, \"Bad Risk\": 0}\n",
    "        self.df_dist[\"Credit Risk\"] = self.df_dist[\"Credit Risk\"].map(risk)\n",
    "        \n",
    "\n",
    "df_replaced = Replacer(df_dist)\n",
    "df_replaced.replace_value()\n",
    "df_dist_replaced = df_replaced.df_dist\n",
    "\n",
    "# Plot graph\n",
    "\n",
    "df_dist_replaced['Credit Risk'].astype(int).plot.hist(color='forestgreen').set_xlabel('Target or dependent variable: 1 or 0');\n",
    "\n",
    "count = df_dist_replaced['Credit Risk'].value_counts()\n",
    "good_risk = count[1]\n",
    "bad_risk = count[0]\n",
    "\n",
    "print(\"There are {} loans repaid on time (Good Risk, Cost Matrix(Risk) =1) and {} loans defaulted (Bad Risk, Cost Matrix(Risk)=0) in the dataset\".format(good_risk, bad_risk))\n"
   ],
   "metadata": {
    "collapsed": false,
    "pycharm": {
     "name": "#%%\n"
    }
   }
  },
  {
   "cell_type": "code",
   "execution_count": null,
   "outputs": [],
   "source": [
    "# Spliting dataset into train and test version\n",
    "\n",
    "#Remove Target Variable column, assign resultant dataframe with only indpendent variables to \"x\"\n",
    "x = df_dummies1.drop('Credit Risk', 1).values \n",
    "\n",
    "#Select Target variable column, assign it to \"y\"\n",
    "y = df_dummies1['Credit Risk'].values \n",
    "\n",
    "x_train, x_test, y_train, y_test = train_test_split(x, y, test_size = 0.30,random_state=0)"
   ],
   "metadata": {
    "collapsed": false,
    "pycharm": {
     "name": "#%%\n"
    }
   }
  },
  {
   "cell_type": "code",
   "execution_count": null,
   "outputs": [],
   "source": [
    "# Scaling the dataset\n",
    "\n",
    "scaled_x = StandardScaler()    \n",
    "x_train = scaled_x.fit_transform(x_train)    \n",
    "x_test = scaled_x.transform(x_test)  "
   ],
   "metadata": {
    "collapsed": false,
    "pycharm": {
     "name": "#%%\n"
    }
   }
  },
  {
   "cell_type": "markdown",
   "source": [
    "# Credit Risk Model Development and Fit"
   ],
   "metadata": {
    "collapsed": false,
    "pycharm": {
     "name": "#%% md\n"
    }
   }
  },
  {
   "cell_type": "markdown",
   "source": [
    "#### Logistic Regression"
   ],
   "metadata": {
    "collapsed": false,
    "pycharm": {
     "name": "#%% md\n"
    }
   }
  },
  {
   "cell_type": "code",
   "execution_count": null,
   "outputs": [],
   "source": [
    "#Model Training - Data Group 1\n",
    "l_reg = LogisticRegression (random_state = 0)\n",
    "l_reg.fit(x_train, y_train)\n",
    "\n",
    "# Prediction \n",
    "y_prediction_logreg = l_reg.predict(x_test)\n",
    "\n",
    "# Confusion Matrix\n",
    "cm_logreg = confusion_matrix(y_test, y_prediction_logreg, labels=l_reg.classes_)\n",
    "\n",
    "# Display Confusion Matrix Plot\n",
    "disp_logreg = ConfusionMatrixDisplay(confusion_matrix=cm_logreg, display_labels=l_reg.classes_)\n",
    "disp_logreg.plot()\n",
    "\n",
    "# Metrics\n",
    "TP_logreg = 41\n",
    "TN_logreg  = 175\n",
    "FP_logreg  = 45\n",
    "FN_logreg  = 39\n",
    "\n",
    "ACC_logreg  = round(((TP_logreg  + TN_logreg ) / (TP_logreg + TN_logreg + FP_logreg + FN_logreg))*100,2)\n",
    "print(f\"LogisticRegression Accuracy (%):{ACC_logreg}\")\n",
    "\n",
    "TPR_logreg  = round((TP_logreg / (TP_logreg + FN_logreg))*100,2) \n",
    "print(f\"LogisticRegression Sensitivity, TPR (%):{TPR_logreg}\")\n",
    "\n",
    "SP_logreg  = round((TN_logreg / (FP_logreg + TN_logreg))*100,2)\n",
    "print(f\"LogisticRegression Specificity (%): {SP_logreg}\")\n",
    "      "
   ],
   "metadata": {
    "collapsed": false,
    "pycharm": {
     "name": "#%%\n"
    }
   }
  },
  {
   "cell_type": "code",
   "execution_count": null,
   "outputs": [],
   "source": [
    "#Model Training - Data Group 2 - No Credit History or Immigrant tag\n",
    "l_reg = LogisticRegression (random_state = 0)\n",
    "l_reg.fit(x_train, y_train)\n",
    "\n",
    "# Prediction \n",
    "y_prediction_logreg = l_reg.predict(x_test)\n",
    "\n",
    "# Confusion Matrix\n",
    "cm_logreg = confusion_matrix(y_test, y_prediction_logreg, labels=l_reg.classes_)\n",
    "\n",
    "# Display Confusion Matrix Plot\n",
    "disp_logreg = ConfusionMatrixDisplay(confusion_matrix=cm_logreg, display_labels=l_reg.classes_)\n",
    "disp_logreg.plot()\n",
    "\n",
    "# Metrics\n",
    "TP_logreg = 44\n",
    "TN_logreg  = 180\n",
    "FP_logreg  = 42\n",
    "FN_logreg  = 34\n",
    "\n",
    "ACC_logreg  = round(((TP_logreg  + TN_logreg ) / (TP_logreg + TN_logreg + FP_logreg + FN_logreg))*100,2)\n",
    "print(f\"LogisticRegression Accuracy (%):{ACC_logreg}\")\n",
    "\n",
    "TPR_logreg  = round((TP_logreg / (TP_logreg + FN_logreg))*100,2) \n",
    "print(f\"LogisticRegression Sensitivity, TPR (%):{TPR_logreg}\")\n",
    "\n",
    "SP_logreg  = round((TN_logreg / (FP_logreg + TN_logreg))*100,2)\n",
    "print(f\"LogisticRegression Specificity (%): {SP_logreg}\")\n",
    "      "
   ],
   "metadata": {
    "collapsed": false,
    "pycharm": {
     "name": "#%%\n"
    }
   }
  },
  {
   "cell_type": "markdown",
   "source": [
    "#### XGBoost Classifier"
   ],
   "metadata": {
    "collapsed": false,
    "pycharm": {
     "name": "#%% md\n"
    }
   }
  },
  {
   "cell_type": "code",
   "execution_count": null,
   "outputs": [],
   "source": [
    "# XGBoost Model Training - Data Group 1 - complete selected feature\n",
    "\n",
    "xgb = XGBClassifier(max_depth=2,                 # Depth of each tree\n",
    "                            learning_rate=0.1,            # How much to shrink error in each subsequent training. Trade-off with no. estimators.\n",
    "                            n_estimators=50,             # How many trees to use, the more the better, but decrease learning rate if many used.\n",
    "                            verbosity=1,                  # If to show more errors or not.\n",
    "                            objective='binary:logistic',  # Type of target variable.\n",
    "                            booster='gbtree',             # What to boost. Trees in this case.\n",
    "                            n_jobs=2,                    # Parallel jobs to run. Set your processor number.\n",
    "                            gamma=0.001,                  # Minimum loss reduction required to make a further partition on a leaf node of the tree. (Controls growth!)\n",
    "                            subsample=0.632,              # Subsample ratio. Can set lower\n",
    "                            colsample_bytree=1,           # Subsample ratio of columns when constructing each tree.\n",
    "                            colsample_bylevel=1,          # Subsample ratio of columns when constructing each level. 0.33 is similar to random forest.\n",
    "                            colsample_bynode=1,           # Subsample ratio of columns when constructing each split.\n",
    "                            reg_alpha=1,                  # Regularizer for first fit. alpha = 1, lambda = 0 is LASSO.\n",
    "                            reg_lambda=0,                 # Regularizer for first fit.\n",
    "                            scale_pos_weight=1,           # Balancing of positive and negative weights. G / B\n",
    "                            base_score=0.5,               # Global bias. Set to average of the target rate.\n",
    "                            random_state=0,        # Seed\n",
    "                            #missing=None,                 # How are nulls encoded?\n",
    "                            #tree_method='gpu_hist',       # How to train the trees?\n",
    "                            #gpu_id=0                      # With which GPU? \n",
    "                            )\n",
    "     \n",
    "\n",
    "xgb.fit(x_train, y_train)\n",
    "\n",
    "# Prediction \n",
    "y_prediction_xgb = xgb.predict(x_test)\n",
    "\n",
    "# Confusion Matrix\n",
    "cm_xgb = confusion_matrix(y_test, y_prediction_xgb, labels=xgb.classes_)\n",
    "\n",
    "# Display Confusion Matrix Plot\n",
    "disp_xgb = ConfusionMatrixDisplay(confusion_matrix=cm_xgb, display_labels=xgb.classes_)\n",
    "disp_xgb.plot()\n",
    "\n",
    "# Metrics\n",
    "TP_xgb = 40\n",
    "TN_xgb  = 186\n",
    "FP_xgb  = 46\n",
    "FN_xgb  = 28\n",
    "\n",
    "ACC_xgb  = round(((TP_xgb  + TN_xgb ) / (TP_xgb + TN_xgb + FP_xgb + FN_xgb))*100,2)\n",
    "print(f\"XGBoost Accuracy:{ACC_xgb}%\")\n",
    "\n",
    "TPR_xgb  = round((TP_xgb / (TP_xgb + FN_xgb))*100,2) \n",
    "print(f\"XGBoost Sensitivity, TPR:{TPR_logreg}%\")\n",
    "\n",
    "SP_xgb  = round((TN_xgb / (FP_xgb + TN_xgb))*100,2)\n",
    "print(f\"XGBoost Specificity: {SP_xgb}%\")\n",
    "\n"
   ],
   "metadata": {
    "collapsed": false,
    "pycharm": {
     "name": "#%%\n"
    }
   }
  },
  {
   "cell_type": "code",
   "execution_count": null,
   "outputs": [],
   "source": [
    "# XGBoost Model Training - Data Group 2 - No Credit History or Immigrant tag\n",
    "\n",
    "xgb = XGBClassifier(max_depth=2,                 # Depth of each tree\n",
    "                            learning_rate=0.1,            # How much to shrink error in each subsequent training. Trade-off with no. estimators.\n",
    "                            n_estimators=50,             # How many trees to use, the more the better, but decrease learning rate if many used.\n",
    "                            verbosity=1,                  # If to show more errors or not.\n",
    "                            objective='binary:logistic',  # Type of target variable.\n",
    "                            booster='gbtree',             # What to boost. Trees in this case.\n",
    "                            n_jobs=2,                    # Parallel jobs to run. Set your processor number.\n",
    "                            gamma=0.001,                  # Minimum loss reduction required to make a further partition on a leaf node of the tree. (Controls growth!)\n",
    "                            subsample=0.632,              # Subsample ratio. Can set lower\n",
    "                            colsample_bytree=1,           # Subsample ratio of columns when constructing each tree.\n",
    "                            colsample_bylevel=1,          # Subsample ratio of columns when constructing each level. 0.33 is similar to random forest.\n",
    "                            colsample_bynode=1,           # Subsample ratio of columns when constructing each split.\n",
    "                            reg_alpha=1,                  # Regularizer for first fit. alpha = 1, lambda = 0 is LASSO.\n",
    "                            reg_lambda=0,                 # Regularizer for first fit.\n",
    "                            scale_pos_weight=1,           # Balancing of positive and negative weights. G / B\n",
    "                            base_score=0.5,               # Global bias. Set to average of the target rate.\n",
    "                            random_state=0,        # Seed\n",
    "                            #missing=None,                 # How are nulls encoded?\n",
    "                            #tree_method='gpu_hist',       # How to train the trees?\n",
    "                            #gpu_id=0                      # With which GPU? \n",
    "                            )\n",
    "     \n",
    "\n",
    "xgb.fit(x_train, y_train)\n",
    "\n",
    "# Prediction \n",
    "y_prediction_xgb = xgb.predict(x_test)\n",
    "\n",
    "# Confusion Matrix\n",
    "cm_xgb = confusion_matrix(y_test, y_prediction_xgb, labels=xgb.classes_)\n",
    "\n",
    "# Display Confusion Matrix Plot\n",
    "disp_xgb = ConfusionMatrixDisplay(confusion_matrix=cm_xgb, display_labels=xgb.classes_)\n",
    "disp_xgb.plot()\n",
    "\n",
    "# Metrics\n",
    "TP_xgb = 42\n",
    "TN_xgb  = 189\n",
    "FP_xgb  = 44\n",
    "FN_xgb  = 25\n",
    "\n",
    "ACC_xgb  = round(((TP_xgb  + TN_xgb ) / (TP_xgb + TN_xgb + FP_xgb + FN_xgb))*100,2)\n",
    "print(f\"XGBoost Accuracy:{ACC_xgb}%\")\n",
    "\n",
    "TPR_xgb  = round((TP_xgb / (TP_xgb + FN_xgb))*100,2) \n",
    "print(f\"XGBoost Sensitivity, TPR:{TPR_logreg}%\")\n",
    "\n",
    "SP_xgb  = round((TN_xgb / (FP_xgb + TN_xgb))*100,2)\n",
    "print(f\"XGBoost Specificity: {SP_xgb}%\")\n"
   ],
   "metadata": {
    "collapsed": false,
    "pycharm": {
     "name": "#%%\n"
    }
   }
  },
  {
   "cell_type": "code",
   "execution_count": null,
   "outputs": [],
   "source": [
    "# Plot variable importance\n",
    "importances = xgb.feature_importances_\n",
    "indices = np.argsort(importances)[::-1] \n",
    "\n",
    "f, ax = plt.subplots(figsize=(3, 8))\n",
    "plt.title(\"Variable Importance - XGBoosting\")\n",
    "sns.set_color_codes(\"pastel\")\n",
    "sns.barplot(y=[df_dummies.iloc[:, :-1].columns[i] for i in indices], x=importances[indices], \n",
    "            label=\"Total\", color=\"b\")\n",
    "ax.set(ylabel=\"Variable\",\n",
    "       xlabel=\"Variable Importance (Entropy)\")\n",
    "sns.despine(left=True, bottom=True)"
   ],
   "metadata": {
    "collapsed": false,
    "pycharm": {
     "name": "#%%\n"
    }
   }
  },
  {
   "cell_type": "markdown",
   "source": [
    "#### Support Vector Machines (SVM)"
   ],
   "metadata": {
    "collapsed": false,
    "pycharm": {
     "name": "#%% md\n"
    }
   }
  },
  {
   "cell_type": "code",
   "execution_count": null,
   "metadata": {
    "pycharm": {
     "name": "#%%\n"
    }
   },
   "outputs": [
    {
     "ename": "NameError",
     "evalue": "name 'svm' is not defined",
     "output_type": "error",
     "traceback": [
      "\u001B[1;31m---------------------------------------------------------------------------\u001B[0m",
      "\u001B[1;31mNameError\u001B[0m                                 Traceback (most recent call last)",
      "Input \u001B[1;32mIn [19]\u001B[0m, in \u001B[0;36m<cell line: 13>\u001B[1;34m()\u001B[0m\n\u001B[0;32m      8\u001B[0m y_pred_svm \u001B[38;5;241m=\u001B[39m model_svm\u001B[38;5;241m.\u001B[39mpredict(X_test)\n\u001B[0;32m     12\u001B[0m \u001B[38;5;66;03m# Metrics\u001B[39;00m\n\u001B[1;32m---> 13\u001B[0m cm_svm \u001B[38;5;241m=\u001B[39m confusion_matrix(y_test, y_pred, labels\u001B[38;5;241m=\u001B[39m\u001B[43msvm\u001B[49m\u001B[38;5;241m.\u001B[39mclasses_)\n\u001B[0;32m     14\u001B[0m acc_svm \u001B[38;5;241m=\u001B[39m \u001B[38;5;28mround\u001B[39m(accuracy_score(y_test,y_pred)\u001B[38;5;241m*\u001B[39m\u001B[38;5;241m100\u001B[39m,\u001B[38;5;241m2\u001B[39m)\n\u001B[0;32m     15\u001B[0m class_met_svm \u001B[38;5;241m=\u001B[39m classification_report(y_test,y_pred_svm)\n",
      "\u001B[1;31mNameError\u001B[0m: name 'svm' is not defined"
     ]
    }
   ],
   "source": [
    "# Second Data Group for model prediction without \"Credit History\" and \"Foreign Worker\" features\n",
    "\n",
    "df_selected1 = ger_credit_df.drop(columns=['Number of people being liable to provide maintenance for',\\\n",
    "                      'Present residence since','Job', 'Telephone','Credit amount','Number of existing credits at this bank',\\\n",
    "                      'Credit history', 'foreign worker'\n",
    "                                         ])\n",
    "# Second list with names of columns for one-hot encoding of 9 categorical variables for model prediction \n",
    "# without \"Credit History\" and \"Foreign Worker\" features\n",
    "# Final dummy will use 9 categorical variables, and 3 numerical variable and 1 target variable\n",
    "\n",
    "col_cat_names1=[\"Status of existing checking account\",\"Purpose\",\\\n",
    "\"Savings account/bonds\",\"Present employment since\",\\\n",
    "\"Personal status and sex\",\"Other debtors / guarantors\",\"Property\",\"Other installment plans\",\"Housing\"]\n",
    "\n",
    "class Preprocessor:\n",
    "    def __init__(self, df_selected1, col_cat_names1):\n",
    "        self.df_selected1 = df_selected1\n",
    "        self.col_cat_names1 = col_cat_names1\n",
    "\n",
    "    def one_hot_encode(self):\n",
    "        for attr in self.col_cat_names1:\n",
    "            self.df_selected1 = self.df_selected1.merge(pd.get_dummies(self.df_selected1[attr], prefix=attr), left_index=True, right_index=True)\n",
    "            self.df_selected1.drop(attr, axis=1, inplace=True)\n",
    "            \n",
    "    def replace_value(self):\n",
    "        risk = {\"Good Risk\": 1, \"Bad Risk\": 0}\n",
    "        self.df_selected1[\"Credit Risk\"] = self.df_selected1[\"Credit Risk\"].map(risk)\n",
    "    \n",
    "\n",
    "preprocessor = Preprocessor(df_selected1, col_cat_names1)\n",
    "preprocessor.one_hot_encode()\n",
    "preprocessor.replace_value()\n",
    "df_dummies1 = preprocessor.df_selected1\n",
    "df_dummies1\n",
    "\n",
    "# df_selected1"
   ]
  },
  {
   "cell_type": "code",
   "execution_count": null,
   "metadata": {
    "pycharm": {
     "name": "#%%\n"
    }
   },
   "outputs": [],
   "source": [
    "# Target Variable distribution\n",
    "\n",
    "\n",
    "### OOP Target Data Distribution\n",
    "\n",
    "# Replace \"Good Risk\" and \"Bad Risk\" with \"1\" and \"0\" so it's possible to count occurrence\n",
    "# Use back up data - create a copy from it. \n",
    "\n",
    "df_dist = backup_ger_credit_df.copy()\n",
    "\n",
    "class Replacer:\n",
    "    def __init__(self, df_dist):\n",
    "        self.df_dist = df_dist\n",
    "\n",
    "    def replace_value(self):\n",
    "        risk = {\"Good Risk\": 1, \"Bad Risk\": 0}\n",
    "        self.df_dist[\"Credit Risk\"] = self.df_dist[\"Credit Risk\"].map(risk)\n",
    "        \n",
    "\n",
    "df_replaced = Replacer(df_dist)\n",
    "df_replaced.replace_value()\n",
    "df_dist_replaced = df_replaced.df_dist\n",
    "\n",
    "# Plot graph\n",
    "\n",
    "df_dist_replaced['Credit Risk'].astype(int).plot.hist(color='forestgreen').set_xlabel('Target or dependent variable: 1 or 0');\n",
    "\n",
    "count = df_dist_replaced['Credit Risk'].value_counts()\n",
    "good_risk = count[1]\n",
    "bad_risk = count[0]\n",
    "\n",
    "print(\"There are {} loans repaid on time (Good Risk, Cost Matrix(Risk) =1) and {} loans defaulted (Bad Risk, Cost Matrix(Risk)=0) in the dataset\".format(good_risk, bad_risk))\n"
   ]
  },
  {
   "cell_type": "code",
   "execution_count": null,
   "metadata": {
    "pycharm": {
     "name": "#%%\n"
    }
   },
   "outputs": [],
   "source": [
    "# Spliting dataset into train and test version\n",
    "\n",
    "#Remove Target Variable column, assign resultant dataframe with only indpendent variables to \"x\"\n",
    "x = df_dummies1.drop('Credit Risk', 1).values \n",
    "\n",
    "#Select Target variable column, assign it to \"y\"\n",
    "y = df_dummies1['Credit Risk'].values \n",
    "\n",
    "x_train, x_test, y_train, y_test = train_test_split(x, y, test_size = 0.30,random_state=0)"
   ]
  },
  {
   "cell_type": "code",
   "execution_count": null,
   "metadata": {
    "pycharm": {
     "name": "#%%\n"
    }
   },
   "outputs": [],
   "source": [
    "# Scaling the dataset\n",
    "\n",
    "scaled_x = StandardScaler()    \n",
    "x_train = scaled_x.fit_transform(x_train)    \n",
    "x_test = scaled_x.transform(x_test)  "
   ]
  },
  {
   "cell_type": "markdown",
   "metadata": {
    "pycharm": {
     "name": "#%% md\n"
    }
   },
   "source": [
    "# Credit Risk Model Development and Fit"
   ]
  },
  {
   "cell_type": "markdown",
   "metadata": {
    "pycharm": {
     "name": "#%% md\n"
    }
   },
   "source": [
    "#### Logistic Regression"
   ]
  },
  {
   "cell_type": "code",
   "execution_count": null,
   "metadata": {
    "scrolled": false,
    "pycharm": {
     "name": "#%%\n"
    }
   },
   "outputs": [],
   "source": [
    "#Model Training - Data Group 1\n",
    "l_reg = LogisticRegression (random_state = 0)\n",
    "l_reg.fit(x_train, y_train)\n",
    "\n",
    "# Prediction \n",
    "y_prediction_logreg = l_reg.predict(x_test)\n",
    "\n",
    "# Confusion Matrix\n",
    "cm_logreg = confusion_matrix(y_test, y_prediction_logreg, labels=l_reg.classes_)\n",
    "\n",
    "# Display Confusion Matrix Plot\n",
    "disp_logreg = ConfusionMatrixDisplay(confusion_matrix=cm_logreg, display_labels=l_reg.classes_)\n",
    "disp_logreg.plot()\n",
    "\n",
    "# Metrics\n",
    "TP_logreg = 41\n",
    "TN_logreg  = 175\n",
    "FP_logreg  = 45\n",
    "FN_logreg  = 39\n",
    "\n",
    "ACC_logreg  = round(((TP_logreg  + TN_logreg ) / (TP_logreg + TN_logreg + FP_logreg + FN_logreg))*100,2)\n",
    "print(f\"LogisticRegression Accuracy (%):{ACC_logreg}\")\n",
    "\n",
    "TPR_logreg  = round((TP_logreg / (TP_logreg + FN_logreg))*100,2) \n",
    "print(f\"LogisticRegression Sensitivity, TPR (%):{TPR_logreg}\")\n",
    "\n",
    "SP_logreg  = round((TN_logreg / (FP_logreg + TN_logreg))*100,2)\n",
    "print(f\"LogisticRegression Specificity (%): {SP_logreg}\")\n",
    "      "
   ]
  },
  {
   "cell_type": "code",
   "execution_count": null,
   "metadata": {
    "pycharm": {
     "name": "#%%\n"
    }
   },
   "outputs": [],
   "source": [
    "#Model Training - Data Group 2 - No Credit History or Immigrant tag\n",
    "l_reg = LogisticRegression (random_state = 0)\n",
    "l_reg.fit(x_train, y_train)\n",
    "\n",
    "# Prediction \n",
    "y_prediction_logreg = l_reg.predict(x_test)\n",
    "\n",
    "# Confusion Matrix\n",
    "cm_logreg = confusion_matrix(y_test, y_prediction_logreg, labels=l_reg.classes_)\n",
    "\n",
    "# Display Confusion Matrix Plot\n",
    "disp_logreg = ConfusionMatrixDisplay(confusion_matrix=cm_logreg, display_labels=l_reg.classes_)\n",
    "disp_logreg.plot()\n",
    "\n",
    "# Metrics\n",
    "TP_logreg = 44\n",
    "TN_logreg  = 180\n",
    "FP_logreg  = 42\n",
    "FN_logreg  = 34\n",
    "\n",
    "ACC_logreg  = round(((TP_logreg  + TN_logreg ) / (TP_logreg + TN_logreg + FP_logreg + FN_logreg))*100,2)\n",
    "print(f\"LogisticRegression Accuracy (%):{ACC_logreg}\")\n",
    "\n",
    "TPR_logreg  = round((TP_logreg / (TP_logreg + FN_logreg))*100,2) \n",
    "print(f\"LogisticRegression Sensitivity, TPR (%):{TPR_logreg}\")\n",
    "\n",
    "SP_logreg  = round((TN_logreg / (FP_logreg + TN_logreg))*100,2)\n",
    "print(f\"LogisticRegression Specificity (%): {SP_logreg}\")\n",
    "      "
   ]
  },
  {
   "cell_type": "markdown",
   "metadata": {
    "pycharm": {
     "name": "#%% md\n"
    }
   },
   "source": [
    "#### XGBoost Classifier"
   ]
  },
  {
   "cell_type": "code",
   "execution_count": null,
   "metadata": {
    "pycharm": {
     "name": "#%%\n"
    }
   },
   "outputs": [],
   "source": [
    "# XGBoost Model Training - Data Group 1 - complete selected feature\n",
    "\n",
    "xgb = XGBClassifier(max_depth=2,                 # Depth of each tree\n",
    "                            learning_rate=0.1,            # How much to shrink error in each subsequent training. Trade-off with no. estimators.\n",
    "                            n_estimators=50,             # How many trees to use, the more the better, but decrease learning rate if many used.\n",
    "                            verbosity=1,                  # If to show more errors or not.\n",
    "                            objective='binary:logistic',  # Type of target variable.\n",
    "                            booster='gbtree',             # What to boost. Trees in this case.\n",
    "                            n_jobs=2,                    # Parallel jobs to run. Set your processor number.\n",
    "                            gamma=0.001,                  # Minimum loss reduction required to make a further partition on a leaf node of the tree. (Controls growth!)\n",
    "                            subsample=0.632,              # Subsample ratio. Can set lower\n",
    "                            colsample_bytree=1,           # Subsample ratio of columns when constructing each tree.\n",
    "                            colsample_bylevel=1,          # Subsample ratio of columns when constructing each level. 0.33 is similar to random forest.\n",
    "                            colsample_bynode=1,           # Subsample ratio of columns when constructing each split.\n",
    "                            reg_alpha=1,                  # Regularizer for first fit. alpha = 1, lambda = 0 is LASSO.\n",
    "                            reg_lambda=0,                 # Regularizer for first fit.\n",
    "                            scale_pos_weight=1,           # Balancing of positive and negative weights. G / B\n",
    "                            base_score=0.5,               # Global bias. Set to average of the target rate.\n",
    "                            random_state=0,        # Seed\n",
    "                            #missing=None,                 # How are nulls encoded?\n",
    "                            #tree_method='gpu_hist',       # How to train the trees?\n",
    "                            #gpu_id=0                      # With which GPU? \n",
    "                            )\n",
    "     \n",
    "\n",
    "xgb.fit(x_train, y_train)\n",
    "\n",
    "# Prediction \n",
    "y_prediction_xgb = xgb.predict(x_test)\n",
    "\n",
    "# Confusion Matrix\n",
    "cm_xgb = confusion_matrix(y_test, y_prediction_xgb, labels=xgb.classes_)\n",
    "\n",
    "# Display Confusion Matrix Plot\n",
    "disp_xgb = ConfusionMatrixDisplay(confusion_matrix=cm_xgb, display_labels=xgb.classes_)\n",
    "disp_xgb.plot()\n",
    "\n",
    "# Metrics\n",
    "TP_xgb = 40\n",
    "TN_xgb  = 186\n",
    "FP_xgb  = 46\n",
    "FN_xgb  = 28\n",
    "\n",
    "ACC_xgb  = round(((TP_xgb  + TN_xgb ) / (TP_xgb + TN_xgb + FP_xgb + FN_xgb))*100,2)\n",
    "print(f\"XGBoost Accuracy:{ACC_xgb}%\")\n",
    "\n",
    "TPR_xgb  = round((TP_xgb / (TP_xgb + FN_xgb))*100,2) \n",
    "print(f\"XGBoost Sensitivity, TPR:{TPR_logreg}%\")\n",
    "\n",
    "SP_xgb  = round((TN_xgb / (FP_xgb + TN_xgb))*100,2)\n",
    "print(f\"XGBoost Specificity: {SP_xgb}%\")\n",
    "\n"
   ]
  },
  {
   "cell_type": "code",
   "execution_count": null,
   "metadata": {
    "pycharm": {
     "name": "#%%\n"
    }
   },
   "outputs": [],
   "source": [
    "# XGBoost Model Training - Data Group 2 - No Credit History or Immigrant tag\n",
    "\n",
    "xgb = XGBClassifier(max_depth=2,                 # Depth of each tree\n",
    "                            learning_rate=0.1,            # How much to shrink error in each subsequent training. Trade-off with no. estimators.\n",
    "                            n_estimators=50,             # How many trees to use, the more the better, but decrease learning rate if many used.\n",
    "                            verbosity=1,                  # If to show more errors or not.\n",
    "                            objective='binary:logistic',  # Type of target variable.\n",
    "                            booster='gbtree',             # What to boost. Trees in this case.\n",
    "                            n_jobs=2,                    # Parallel jobs to run. Set your processor number.\n",
    "                            gamma=0.001,                  # Minimum loss reduction required to make a further partition on a leaf node of the tree. (Controls growth!)\n",
    "                            subsample=0.632,              # Subsample ratio. Can set lower\n",
    "                            colsample_bytree=1,           # Subsample ratio of columns when constructing each tree.\n",
    "                            colsample_bylevel=1,          # Subsample ratio of columns when constructing each level. 0.33 is similar to random forest.\n",
    "                            colsample_bynode=1,           # Subsample ratio of columns when constructing each split.\n",
    "                            reg_alpha=1,                  # Regularizer for first fit. alpha = 1, lambda = 0 is LASSO.\n",
    "                            reg_lambda=0,                 # Regularizer for first fit.\n",
    "                            scale_pos_weight=1,           # Balancing of positive and negative weights. G / B\n",
    "                            base_score=0.5,               # Global bias. Set to average of the target rate.\n",
    "                            random_state=0,        # Seed\n",
    "                            #missing=None,                 # How are nulls encoded?\n",
    "                            #tree_method='gpu_hist',       # How to train the trees?\n",
    "                            #gpu_id=0                      # With which GPU? \n",
    "                            )\n",
    "     \n",
    "\n",
    "xgb.fit(x_train, y_train)\n",
    "\n",
    "# Prediction \n",
    "y_prediction_xgb = xgb.predict(x_test)\n",
    "\n",
    "# Confusion Matrix\n",
    "cm_xgb = confusion_matrix(y_test, y_prediction_xgb, labels=xgb.classes_)\n",
    "\n",
    "# Display Confusion Matrix Plot\n",
    "disp_xgb = ConfusionMatrixDisplay(confusion_matrix=cm_xgb, display_labels=xgb.classes_)\n",
    "disp_xgb.plot()\n",
    "\n",
    "# Metrics\n",
    "TP_xgb = 42\n",
    "TN_xgb  = 189\n",
    "FP_xgb  = 44\n",
    "FN_xgb  = 25\n",
    "\n",
    "ACC_xgb  = round(((TP_xgb  + TN_xgb ) / (TP_xgb + TN_xgb + FP_xgb + FN_xgb))*100,2)\n",
    "print(f\"XGBoost Accuracy:{ACC_xgb}%\")\n",
    "\n",
    "TPR_xgb  = round((TP_xgb / (TP_xgb + FN_xgb))*100,2) \n",
    "print(f\"XGBoost Sensitivity, TPR:{TPR_logreg}%\")\n",
    "\n",
    "SP_xgb  = round((TN_xgb / (FP_xgb + TN_xgb))*100,2)\n",
    "print(f\"XGBoost Specificity: {SP_xgb}%\")\n"
   ]
  },
  {
   "cell_type": "code",
   "execution_count": null,
   "metadata": {
    "pycharm": {
     "name": "#%%\n"
    }
   },
   "outputs": [],
   "source": [
    "# Plot variable importance\n",
    "importances = xgb.feature_importances_\n",
    "indices = np.argsort(importances)[::-1] \n",
    "\n",
    "f, ax = plt.subplots(figsize=(3, 8))\n",
    "plt.title(\"Variable Importance - XGBoosting\")\n",
    "sns.set_color_codes(\"pastel\")\n",
    "sns.barplot(y=[df_dummies.iloc[:, :-1].columns[i] for i in indices], x=importances[indices], \n",
    "            label=\"Total\", color=\"b\")\n",
    "ax.set(ylabel=\"Variable\",\n",
    "       xlabel=\"Variable Importance (Entropy)\")\n",
    "sns.despine(left=True, bottom=True)"
   ]
  },
  {
   "cell_type": "markdown",
   "metadata": {
    "pycharm": {
     "name": "#%% md\n"
    }
   },
   "source": [
    "#### Support Vector Machines (SVM)"
   ]
  },
  {
   "cell_type": "code",
   "execution_count": null,
   "metadata": {
    "pycharm": {
     "name": "#%%\n"
    }
   },
   "outputs": [],
   "source": [
    "#Support Vector Machines\n",
    "\n",
    "# Train the model\n",
    "model_svm = SVC(kernel = 'linear', random_state = 0, probability=True)  \n",
    "model_svm.fit(X_train, y_train) \n",
    "\n",
    "# Model Prediction\n",
    "y_pred_svm = model_svm.predict(X_test)\n",
    "\n",
    "\n",
    "\n",
    "# Metrics\n",
    "cm_svm = confusion_matrix(y_test, y_pred, labels=svm.classes_)\n",
    "acc_svm = round(accuracy_score(y_test,y_pred)*100,2)\n",
    "class_met_svm = classification_report(y_test,y_pred_svm)\n",
    "\n"
   ]
  },
  {
   "cell_type": "markdown",
   "metadata": {
    "pycharm": {
     "name": "#%% md\n"
    }
   },
   "source": [
    "# Model Evaluation"
   ]
  },
  {
   "cell_type": "markdown",
   "metadata": {
    "pycharm": {
     "name": "#%% md\n"
    }
   },
   "source": [
    "#### Accuracy"
   ]
  },
  {
   "cell_type": "code",
   "execution_count": null,
   "metadata": {
    "pycharm": {
     "name": "#%%\n"
    }
   },
   "outputs": [],
   "source": [
    "print(f\"XGBoost Accuracy(%): {acc_xgboost}\")\n",
    "print(f\"SVM Accuracy(%): {acc_svm}\")"
   ]
  },
  {
   "cell_type": "markdown",
   "metadata": {
    "pycharm": {
     "name": "#%% md\n"
    }
   },
   "source": [
    "#### Precision, Recall and F1-Score"
   ]
  },
  {
   "cell_type": "code",
   "execution_count": null,
   "metadata": {
    "pycharm": {
     "name": "#%%\n"
    }
   },
   "outputs": [],
   "source": [
    "print(\"---------- XGBoost Classification Report----------\")\n",
    "print(\"\")\n",
    "print(class_met_xgboost)\n",
    "\n",
    "\n",
    "print(\"----------SVM Classification Report-----------\")\n",
    "print(\"\")\n",
    "print(class_met_svm)"
   ]
  },
  {
   "cell_type": "markdown",
   "metadata": {
    "pycharm": {
     "name": "#%% md\n"
    }
   },
   "source": [
    "#### Confusion Matrix"
   ]
  },
  {
   "cell_type": "code",
   "execution_count": null,
   "metadata": {
    "pycharm": {
     "name": "#%%\n"
    }
   },
   "outputs": [],
   "source": [
    "\n",
    "disp = ConfusionMatrixDisplay(confusion_matrix=cm_svm, display_labels=model_svm.classes_)\n",
    "disp.plot()"
   ]
  },
  {
   "cell_type": "code",
   "execution_count": null,
   "metadata": {
    "pycharm": {
     "name": "#%%\n"
    }
   },
   "outputs": [],
   "source": [
    "TP = 35\n",
    "TN = 188\n",
    "FP = 51\n",
    "FN = 26\n",
    "ACC = round(((TP + TN) / (TP + TN + FP + FN))*100,2)\n",
    "print(f\"Accuracy (%):{ACC}\")\n",
    "\n",
    "TPR = round((TP / (TP + FN))*100,2) \n",
    "print(f\"Sensitivity, TPR (%):{TPR}\")\n",
    "\n",
    "SP = round((TN / (FP + TN))*100,2)\n",
    "\n",
    "print(f\"SVM Specificity (%): {SP}\")\n",
    "      "
   ]
  },
  {
   "cell_type": "markdown",
   "metadata": {
    "pycharm": {
     "name": "#%% md\n"
    }
   },
   "source": [
    "#### ROC"
   ]
  },
  {
   "cell_type": "code",
   "execution_count": null,
   "metadata": {
    "pycharm": {
     "name": "#%%\n"
    }
   },
   "outputs": [],
   "source": [
    "\n",
    "# SVM ROC\n",
    "\n",
    "y_pred_svmroc = model_svm.predict_proba(X_test)[:,1]\n",
    "fpr, tpr, thresholds = roc_curve(y_test, y_pred_svmroc)\n",
    "plt.plot([0, 1], [0, 1], 'k--')\n",
    "plt.plot(fpr, tpr)\n",
    "plt.xlabel('False Positive Rate')\n",
    "plt.ylabel('True Positive Rate')\n",
    "plt.title('SVM ROC Curve')\n",
    "plt.show()\n",
    "\n",
    "# XGBoost ROC\n",
    "\n",
    "y_pred_xgbroc = model_xgboost.predict_proba(X_test)[:,1]\n",
    "fpr, tpr, thresholds = roc_curve(y_test, y_pred_xgbroc)\n",
    "plt.plot([0, 1], [0, 1], 'k--')\n",
    "plt.plot(fpr, tpr)\n",
    "plt.xlabel('False Positive Rate')\n",
    "plt.ylabel('True Positive Rate')\n",
    "plt.title('XGBoost ROC Curve')\n",
    "plt.show()"
   ]
  },
  {
   "cell_type": "code",
   "execution_count": null,
   "metadata": {
    "pycharm": {
     "name": "#%%\n"
    }
   },
   "outputs": [],
   "source": [
    "TP = 58\n",
    "TN = 172\n",
    "FP = 28\n",
    "FN = 42\n",
    "ACC = round(((TP + TN) / (TP + TN + FP + FN))*100,2)\n",
    "print(f\"XGBoost Accuracy (%):{ACC}\")\n",
    "\n",
    "TPR = round((TP / (TP + FN))*100,2) \n",
    "print(f\"XGBoost Sensitivity, TPR (%):{TPR}\")\n",
    "\n",
    "SP = round((TN / (FP + TN))*100,2)\n",
    "\n",
    "print(f\"XGBoost Specificity (%): {SP}\")\n",
    "      "
   ]
  },
  {
   "cell_type": "markdown",
   "metadata": {
    "pycharm": {
     "name": "#%% md\n"
    }
   },
   "source": [
    "#### Support Vector Machines (SVM)"
   ]
  },
  {
   "cell_type": "code",
   "execution_count": null,
   "metadata": {
    "pycharm": {
     "is_executing": true,
     "name": "#%%\n"
    }
   },
   "outputs": [],
   "source": [
    "#Support Vector Machines\n",
    "\n",
    "# Train the model\n",
    "model_svm = SVC(kernel = 'linear', random_state = 0, probability=True)  \n",
    "model_svm.fit(X_train, y_train) \n",
    "\n",
    "# Model Prediction\n",
    "y_pred_svm = model_svm.predict(X_test)\n",
    "\n",
    "\n",
    "\n",
    "# Metrics\n",
    "cm_svm = confusion_matrix(y_test, y_pred, labels=svm.classes_)\n",
    "acc_svm = round(accuracy_score(y_test,y_pred)*100,2)\n",
    "class_met_svm = classification_report(y_test,y_pred_svm)\n",
    "\n"
   ]
  },
  {
   "cell_type": "markdown",
   "metadata": {
    "pycharm": {
     "name": "#%% md\n"
    }
   },
   "source": [
    "# Model Evaluation"
   ]
  },
  {
   "cell_type": "markdown",
   "metadata": {
    "pycharm": {
     "name": "#%% md\n"
    }
   },
   "source": [
    "#### Accuracy"
   ]
  },
  {
   "cell_type": "code",
   "execution_count": null,
   "metadata": {
    "pycharm": {
     "is_executing": true,
     "name": "#%%\n"
    }
   },
   "outputs": [],
   "source": [
    "print(f\"XGBoost Accuracy(%): {acc_xgboost}\")\n",
    "print(f\"SVM Accuracy(%): {acc_svm}\")"
   ]
  },
  {
   "cell_type": "markdown",
   "metadata": {
    "pycharm": {
     "name": "#%% md\n"
    }
   },
   "source": [
    "#### Precision, Recall and F1-Score"
   ]
  },
  {
   "cell_type": "code",
   "execution_count": null,
   "metadata": {
    "pycharm": {
     "is_executing": true,
     "name": "#%%\n"
    }
   },
   "outputs": [],
   "source": [
    "print(\"---------- XGBoost Classification Report----------\")\n",
    "print(\"\")\n",
    "print(class_met_xgboost)\n",
    "\n",
    "\n",
    "print(\"----------SVM Classification Report-----------\")\n",
    "print(\"\")\n",
    "print(class_met_svm)"
   ]
  },
  {
   "cell_type": "markdown",
   "metadata": {
    "pycharm": {
     "name": "#%% md\n"
    }
   },
   "source": [
    "#### Confusion Matrix"
   ]
  },
  {
   "cell_type": "code",
   "execution_count": null,
   "metadata": {
    "pycharm": {
     "is_executing": true,
     "name": "#%%\n"
    }
   },
   "outputs": [],
   "source": [
    "\n",
    "disp = ConfusionMatrixDisplay(confusion_matrix=cm_svm, display_labels=model_svm.classes_)\n",
    "disp.plot()"
   ]
  },
  {
   "cell_type": "code",
   "execution_count": null,
   "metadata": {
    "pycharm": {
     "is_executing": true,
     "name": "#%%\n"
    },
    "scrolled": true
   },
   "outputs": [],
   "source": [
    "TP = 35\n",
    "TN = 188\n",
    "FP = 51\n",
    "FN = 26\n",
    "ACC = round(((TP + TN) / (TP + TN + FP + FN))*100,2)\n",
    "print(f\"Accuracy (%):{ACC}\")\n",
    "\n",
    "TPR = round((TP / (TP + FN))*100,2) \n",
    "print(f\"Sensitivity, TPR (%):{TPR}\")\n",
    "\n",
    "SP = round((TN / (FP + TN))*100,2)\n",
    "\n",
    "print(f\"SVM Specificity (%): {SP}\")\n",
    "      "
   ]
  },
  {
   "cell_type": "markdown",
   "metadata": {
    "pycharm": {
     "name": "#%% md\n"
    }
   },
   "source": [
    "#### ROC"
   ]
  },
  {
   "cell_type": "code",
   "execution_count": null,
   "metadata": {
    "pycharm": {
     "is_executing": true,
     "name": "#%%\n"
    }
   },
   "outputs": [],
   "source": [
    "\n",
    "# SVM ROC\n",
    "\n",
    "y_pred_svmroc = model_svm.predict_proba(X_test)[:,1]\n",
    "fpr, tpr, thresholds = roc_curve(y_test, y_pred_svmroc)\n",
    "plt.plot([0, 1], [0, 1], 'k--')\n",
    "plt.plot(fpr, tpr)\n",
    "plt.xlabel('False Positive Rate')\n",
    "plt.ylabel('True Positive Rate')\n",
    "plt.title('SVM ROC Curve')\n",
    "plt.show()\n",
    "\n",
    "# XGBoost ROC\n",
    "\n",
    "y_pred_xgbroc = model_xgboost.predict_proba(X_test)[:,1]\n",
    "fpr, tpr, thresholds = roc_curve(y_test, y_pred_xgbroc)\n",
    "plt.plot([0, 1], [0, 1], 'k--')\n",
    "plt.plot(fpr, tpr)\n",
    "plt.xlabel('False Positive Rate')\n",
    "plt.ylabel('True Positive Rate')\n",
    "plt.title('XGBoost ROC Curve')\n",
    "plt.show()"
   ]
  },
  {
   "cell_type": "markdown",
   "metadata": {
    "pycharm": {
     "name": "#%% md\n"
    }
   },
   "source": [
    "# GUI to avoid blackbox"
   ]
  },
  {
   "cell_type": "code",
   "execution_count": null,
   "metadata": {
    "pycharm": {
     "is_executing": true,
     "name": "#%%\n"
    }
   },
   "outputs": [],
   "source": []
  }
 ],
 "metadata": {
  "kernelspec": {
   "display_name": "Python 3 (ipykernel)",
   "language": "python",
   "name": "python3"
  },
  "language_info": {
   "codemirror_mode": {
    "name": "ipython",
    "version": 3
   },
   "file_extension": ".py",
   "mimetype": "text/x-python",
   "name": "python",
   "nbconvert_exporter": "python",
   "pygments_lexer": "ipython3",
   "version": "3.9.10"
  }
 },
 "nbformat": 4,
 "nbformat_minor": 1
}