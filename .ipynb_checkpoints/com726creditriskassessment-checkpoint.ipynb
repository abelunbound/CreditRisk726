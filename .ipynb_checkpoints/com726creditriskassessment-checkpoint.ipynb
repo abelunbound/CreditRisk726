{
 "cells": [
  {
   "cell_type": "markdown",
   "metadata": {},
   "source": [
    "# Chapter 3: Methodology"
   ]
  },
  {
   "cell_type": "markdown",
   "metadata": {
    "pycharm": {
     "name": "#%%\n"
    }
   },
   "source": [
    "## 3.1 Research Strategy \n",
    "\n",
    "Success Metrics\n",
    "Approach: See main submission"
   ]
  },
  {
   "cell_type": "markdown",
   "metadata": {
    "pycharm": {
     "name": "#%% md\n"
    }
   },
   "source": [
    "## 3.2 Data Collection and Preprocessing"
   ]
  },
  {
   "cell_type": "code",
   "execution_count": 130,
   "metadata": {
    "pycharm": {
     "is_executing": true,
     "name": "#%%\n"
    }
   },
   "outputs": [],
   "source": [
    "# Import Libraries and Dependencies\n",
    "\n",
    "import warnings\n",
    "warnings.filterwarnings('ignore')\n",
    "\n",
    "# Dependencies for data cleaning, analysis and manipulation\n",
    "import pandas as pd\n",
    "import numpy as np\n",
    "import statistics\n",
    "from scipy import stats\n",
    "from math import floor,ceil\n",
    "import statsmodels.api as sm\n",
    "\n",
    "#Dependencies for Data Visualisation\n",
    "import seaborn as sns\n",
    "import matplotlib.pyplot as plt\n",
    "from matplotlib.colors import ListedColormap\n",
    "# import scikitplot as skplt\n",
    "\n",
    "#Dependencies for Feature Extraction and Engineering\n",
    "\n",
    "# SKLEARN is installed from scikit-learn as sklearn is deperecated\n",
    "from sklearn.model_selection import train_test_split, KFold, cross_val_score\n",
    "from sklearn.preprocessing import StandardScaler\n",
    "from sklearn.decomposition import PCA\n",
    "\n",
    "\n",
    "### Dependencies for five (5) Model Creation \n",
    "\n",
    "#Dependencies for Logistic Regression\n",
    "from sklearn.linear_model import LogisticRegression\n",
    "\n",
    "#Dependencies for Decision Tree Classifier\n",
    "from sklearn.tree import DecisionTreeClassifier\n",
    "\n",
    "from xgboost import XGBClassifier\n",
    "\n",
    "#Dependencies for Random Forest Classifier\n",
    "from sklearn.ensemble import RandomForestClassifier\n",
    "\n",
    "#Dependencies for Support Vector Machines\n",
    "from sklearn.svm import SVC\n",
    "\n",
    "#Dependencies for K-Nearest Neighbours (KNN)\n",
    "# from sklearn.neighbors import KNeighborsClassifier\n",
    "\n",
    "#Dependencies for Model Evaluation\n",
    "from sklearn.metrics import confusion_matrix, ConfusionMatrixDisplay, roc_curve, accuracy_score, classification_report, roc_curve,auc, f1_score, precision_score, recall_score, roc_auc_score\n",
    "import sklearn.metrics as metrics\n"
   ]
  },
  {
   "cell_type": "markdown",
   "metadata": {
    "pycharm": {
     "name": "#%% md\n"
    }
   },
   "source": [
    "# Data Collection"
   ]
  },
  {
   "cell_type": "code",
   "execution_count": 131,
   "metadata": {
    "pycharm": {
     "is_executing": true,
     "name": "#%%\n"
    }
   },
   "outputs": [
    {
     "data": {
      "text/html": [
       "<div>\n",
       "<style scoped>\n",
       "    .dataframe tbody tr th:only-of-type {\n",
       "        vertical-align: middle;\n",
       "    }\n",
       "\n",
       "    .dataframe tbody tr th {\n",
       "        vertical-align: top;\n",
       "    }\n",
       "\n",
       "    .dataframe thead th {\n",
       "        text-align: right;\n",
       "    }\n",
       "</style>\n",
       "<table border=\"1\" class=\"dataframe\">\n",
       "  <thead>\n",
       "    <tr style=\"text-align: right;\">\n",
       "      <th></th>\n",
       "      <th>Status of existing checking account</th>\n",
       "      <th>Duration in month</th>\n",
       "      <th>Credit history</th>\n",
       "      <th>Purpose</th>\n",
       "      <th>Credit amount</th>\n",
       "      <th>Savings account/bonds</th>\n",
       "      <th>Present employment since</th>\n",
       "      <th>Installment rate in percentage of disposable income</th>\n",
       "      <th>Personal status and sex</th>\n",
       "      <th>Other debtors / guarantors</th>\n",
       "      <th>...</th>\n",
       "      <th>Property</th>\n",
       "      <th>Age in years</th>\n",
       "      <th>Other installment plans</th>\n",
       "      <th>Housing</th>\n",
       "      <th>Number of existing credits at this bank</th>\n",
       "      <th>Job</th>\n",
       "      <th>Number of people being liable to provide maintenance for</th>\n",
       "      <th>Telephone</th>\n",
       "      <th>foreign worker</th>\n",
       "      <th>Cost Matrix(Risk)</th>\n",
       "    </tr>\n",
       "  </thead>\n",
       "  <tbody>\n",
       "    <tr>\n",
       "      <th>0</th>\n",
       "      <td>A11</td>\n",
       "      <td>6</td>\n",
       "      <td>A34</td>\n",
       "      <td>A43</td>\n",
       "      <td>1169</td>\n",
       "      <td>A65</td>\n",
       "      <td>A75</td>\n",
       "      <td>4</td>\n",
       "      <td>A93</td>\n",
       "      <td>A101</td>\n",
       "      <td>...</td>\n",
       "      <td>A121</td>\n",
       "      <td>67</td>\n",
       "      <td>A143</td>\n",
       "      <td>A152</td>\n",
       "      <td>2</td>\n",
       "      <td>A173</td>\n",
       "      <td>1</td>\n",
       "      <td>A192</td>\n",
       "      <td>A201</td>\n",
       "      <td>1</td>\n",
       "    </tr>\n",
       "    <tr>\n",
       "      <th>1</th>\n",
       "      <td>A12</td>\n",
       "      <td>48</td>\n",
       "      <td>A32</td>\n",
       "      <td>A43</td>\n",
       "      <td>5951</td>\n",
       "      <td>A61</td>\n",
       "      <td>A73</td>\n",
       "      <td>2</td>\n",
       "      <td>A92</td>\n",
       "      <td>A101</td>\n",
       "      <td>...</td>\n",
       "      <td>A121</td>\n",
       "      <td>22</td>\n",
       "      <td>A143</td>\n",
       "      <td>A152</td>\n",
       "      <td>1</td>\n",
       "      <td>A173</td>\n",
       "      <td>1</td>\n",
       "      <td>A191</td>\n",
       "      <td>A201</td>\n",
       "      <td>2</td>\n",
       "    </tr>\n",
       "    <tr>\n",
       "      <th>2</th>\n",
       "      <td>A14</td>\n",
       "      <td>12</td>\n",
       "      <td>A34</td>\n",
       "      <td>A46</td>\n",
       "      <td>2096</td>\n",
       "      <td>A61</td>\n",
       "      <td>A74</td>\n",
       "      <td>2</td>\n",
       "      <td>A93</td>\n",
       "      <td>A101</td>\n",
       "      <td>...</td>\n",
       "      <td>A121</td>\n",
       "      <td>49</td>\n",
       "      <td>A143</td>\n",
       "      <td>A152</td>\n",
       "      <td>1</td>\n",
       "      <td>A172</td>\n",
       "      <td>2</td>\n",
       "      <td>A191</td>\n",
       "      <td>A201</td>\n",
       "      <td>1</td>\n",
       "    </tr>\n",
       "    <tr>\n",
       "      <th>3</th>\n",
       "      <td>A11</td>\n",
       "      <td>42</td>\n",
       "      <td>A32</td>\n",
       "      <td>A42</td>\n",
       "      <td>7882</td>\n",
       "      <td>A61</td>\n",
       "      <td>A74</td>\n",
       "      <td>2</td>\n",
       "      <td>A93</td>\n",
       "      <td>A103</td>\n",
       "      <td>...</td>\n",
       "      <td>A122</td>\n",
       "      <td>45</td>\n",
       "      <td>A143</td>\n",
       "      <td>A153</td>\n",
       "      <td>1</td>\n",
       "      <td>A173</td>\n",
       "      <td>2</td>\n",
       "      <td>A191</td>\n",
       "      <td>A201</td>\n",
       "      <td>1</td>\n",
       "    </tr>\n",
       "    <tr>\n",
       "      <th>4</th>\n",
       "      <td>A11</td>\n",
       "      <td>24</td>\n",
       "      <td>A33</td>\n",
       "      <td>A40</td>\n",
       "      <td>4870</td>\n",
       "      <td>A61</td>\n",
       "      <td>A73</td>\n",
       "      <td>3</td>\n",
       "      <td>A93</td>\n",
       "      <td>A101</td>\n",
       "      <td>...</td>\n",
       "      <td>A124</td>\n",
       "      <td>53</td>\n",
       "      <td>A143</td>\n",
       "      <td>A153</td>\n",
       "      <td>2</td>\n",
       "      <td>A173</td>\n",
       "      <td>2</td>\n",
       "      <td>A191</td>\n",
       "      <td>A201</td>\n",
       "      <td>2</td>\n",
       "    </tr>\n",
       "  </tbody>\n",
       "</table>\n",
       "<p>5 rows × 21 columns</p>\n",
       "</div>"
      ],
      "text/plain": [
       "  Status of existing checking account  Duration in month Credit history  \\\n",
       "0                                 A11                  6            A34   \n",
       "1                                 A12                 48            A32   \n",
       "2                                 A14                 12            A34   \n",
       "3                                 A11                 42            A32   \n",
       "4                                 A11                 24            A33   \n",
       "\n",
       "  Purpose  Credit amount Savings account/bonds Present employment since  \\\n",
       "0     A43           1169                   A65                      A75   \n",
       "1     A43           5951                   A61                      A73   \n",
       "2     A46           2096                   A61                      A74   \n",
       "3     A42           7882                   A61                      A74   \n",
       "4     A40           4870                   A61                      A73   \n",
       "\n",
       "   Installment rate in percentage of disposable income  \\\n",
       "0                                                  4     \n",
       "1                                                  2     \n",
       "2                                                  2     \n",
       "3                                                  2     \n",
       "4                                                  3     \n",
       "\n",
       "  Personal status and sex Other debtors / guarantors  ...  Property  \\\n",
       "0                     A93                       A101  ...      A121   \n",
       "1                     A92                       A101  ...      A121   \n",
       "2                     A93                       A101  ...      A121   \n",
       "3                     A93                       A103  ...      A122   \n",
       "4                     A93                       A101  ...      A124   \n",
       "\n",
       "  Age in years  Other installment plans Housing  \\\n",
       "0           67                     A143    A152   \n",
       "1           22                     A143    A152   \n",
       "2           49                     A143    A152   \n",
       "3           45                     A143    A153   \n",
       "4           53                     A143    A153   \n",
       "\n",
       "  Number of existing credits at this bank   Job  \\\n",
       "0                                       2  A173   \n",
       "1                                       1  A173   \n",
       "2                                       1  A172   \n",
       "3                                       1  A173   \n",
       "4                                       2  A173   \n",
       "\n",
       "  Number of people being liable to provide maintenance for  Telephone  \\\n",
       "0                                                  1             A192   \n",
       "1                                                  1             A191   \n",
       "2                                                  2             A191   \n",
       "3                                                  2             A191   \n",
       "4                                                  2             A191   \n",
       "\n",
       "  foreign worker Cost Matrix(Risk)  \n",
       "0           A201                 1  \n",
       "1           A201                 2  \n",
       "2           A201                 1  \n",
       "3           A201                 1  \n",
       "4           A201                 2  \n",
       "\n",
       "[5 rows x 21 columns]"
      ]
     },
     "execution_count": 131,
     "metadata": {},
     "output_type": "execute_result"
    }
   ],
   "source": [
    "# Data collection from data source\n",
    "\n",
    "german_credit_data = pd.read_csv(\"http://archive.ics.uci.edu/ml/machine-learning-databases/statlog/german/german.data\",sep=\" \",header=None)\n",
    "\n",
    "column_headers = [\"Status of existing checking account\",\"Duration in month\",\"Credit history\",\\\n",
    "         \"Purpose\",\"Credit amount\",\"Savings account/bonds\",\"Present employment since\",\\\n",
    "         \"Installment rate in percentage of disposable income\",\"Personal status and sex\",\\\n",
    "         \"Other debtors / guarantors\",\"Present residence since\",\"Property\",\"Age in years\",\\\n",
    "        \"Other installment plans\",\"Housing\",\"Number of existing credits at this bank\",\\\n",
    "        \"Job\",\"Number of people being liable to provide maintenance for\",\"Telephone\",\"foreign worker\",\"Cost Matrix(Risk)\"]\n",
    "\n",
    "german_credit_data.columns = column_headers\n",
    "\n",
    "#Save as CSV file\n",
    "german_credit_data.to_csv(\"germancreditdata.csv\",index=False)\n",
    "\n",
    "#Read data from CSV file\n",
    "ger_credit_df = pd.read_csv(\"germancreditdata.csv\")\n",
    "\n",
    "ger_credit_df.head()"
   ]
  },
  {
   "cell_type": "code",
   "execution_count": 132,
   "metadata": {
    "pycharm": {
     "name": "#%%\n"
    }
   },
   "outputs": [
    {
     "name": "stdout",
     "output_type": "stream",
     "text": [
      "There are 700 loans repaid on time (Good Risk, Cost Matrix(Risk) =1) and 300 loans defaulted (Bad Risk, Cost Matrix(Risk)=2) in the dataset\n"
     ]
    },
    {
     "data": {
      "image/png": "[encoded data removed]",
      "text/plain": [
       "<Figure size 640x480 with 1 Axes>"
      ]
     },
     "metadata": {},
     "output_type": "display_data"
    }
   ],
   "source": [
    "# Target data distribution\n",
    "\n",
    "ger_credit_df['Cost Matrix(Risk)'].astype(int).plot.hist(color='forestgreen').set_xlabel('Target or dependent variable: 1 or 2');\n",
    "\n",
    "count = ger_credit_df['Cost Matrix(Risk)'].value_counts()\n",
    "good_risk = count[1]\n",
    "bad_risk = count[2]\n",
    "\n",
    "print(\"There are {} loans repaid on time (Good Risk, Cost Matrix(Risk) =1) and {} loans defaulted (Bad Risk, Cost Matrix(Risk)=2) in the dataset\".format(good_risk, bad_risk))"
   ]
  },
  {
   "cell_type": "markdown",
   "metadata": {
    "pycharm": {
     "name": "#%% md\n"
    }
   },
   "source": [
    "### Data description\n",
    "\n",
    "::: German Credit Data:::\n",
    "\n",
    "1000 entries make up the dataset, which also includes 20 independent variables (13 categorical, 7 numerical), and 1 target variable created by Prof. Hofmann. Each entry in this collection reflects a person who accepts a bank credit. Depending on a set of factors, each person is categorised as either a good or bad credit risk.\n",
    "\n",
    "::: USA Credit Data :::\n",
    "\n"
   ]
  },
  {
   "cell_type": "markdown",
   "metadata": {
    "pycharm": {
     "name": "#%% md\n"
    }
   },
   "source": [
    "# Data Preprocessing"
   ]
  },
  {
   "cell_type": "code",
   "execution_count": 133,
   "metadata": {
    "pycharm": {
     "name": "#%%\n"
    }
   },
   "outputs": [
    {
     "data": {
      "text/html": [
       "<div>\n",
       "<style scoped>\n",
       "    .dataframe tbody tr th:only-of-type {\n",
       "        vertical-align: middle;\n",
       "    }\n",
       "\n",
       "    .dataframe tbody tr th {\n",
       "        vertical-align: top;\n",
       "    }\n",
       "\n",
       "    .dataframe thead th {\n",
       "        text-align: right;\n",
       "    }\n",
       "</style>\n",
       "<table border=\"1\" class=\"dataframe\">\n",
       "  <thead>\n",
       "    <tr style=\"text-align: right;\">\n",
       "      <th></th>\n",
       "      <th>Status of existing checking account</th>\n",
       "      <th>Duration in month</th>\n",
       "      <th>Credit history</th>\n",
       "      <th>Purpose</th>\n",
       "      <th>Credit amount</th>\n",
       "      <th>Savings account/bonds</th>\n",
       "      <th>Present employment since</th>\n",
       "      <th>Installment rate in percentage of disposable income</th>\n",
       "      <th>Personal status and sex</th>\n",
       "      <th>Other debtors / guarantors</th>\n",
       "      <th>...</th>\n",
       "      <th>Property</th>\n",
       "      <th>Age in years</th>\n",
       "      <th>Other installment plans</th>\n",
       "      <th>Housing</th>\n",
       "      <th>Number of existing credits at this bank</th>\n",
       "      <th>Job</th>\n",
       "      <th>Number of people being liable to provide maintenance for</th>\n",
       "      <th>Telephone</th>\n",
       "      <th>foreign worker</th>\n",
       "      <th>Cost Matrix(Risk)</th>\n",
       "    </tr>\n",
       "  </thead>\n",
       "  <tbody>\n",
       "    <tr>\n",
       "      <th>0</th>\n",
       "      <td>&lt;0 DM</td>\n",
       "      <td>6</td>\n",
       "      <td>critical account</td>\n",
       "      <td>radio/television</td>\n",
       "      <td>1169</td>\n",
       "      <td>no savings account</td>\n",
       "      <td>&gt;=7 years</td>\n",
       "      <td>4</td>\n",
       "      <td>male:single</td>\n",
       "      <td>none</td>\n",
       "      <td>...</td>\n",
       "      <td>real estate</td>\n",
       "      <td>67</td>\n",
       "      <td>none</td>\n",
       "      <td>own</td>\n",
       "      <td>2</td>\n",
       "      <td>skilled employee / official</td>\n",
       "      <td>1</td>\n",
       "      <td>yes</td>\n",
       "      <td>yes</td>\n",
       "      <td>Good Risk</td>\n",
       "    </tr>\n",
       "    <tr>\n",
       "      <th>1</th>\n",
       "      <td>0 &lt;= &lt;200 DM</td>\n",
       "      <td>48</td>\n",
       "      <td>existing credits paid back duly till now</td>\n",
       "      <td>radio/television</td>\n",
       "      <td>5951</td>\n",
       "      <td>&lt;100 DM</td>\n",
       "      <td>1&lt;= &lt; 4 years</td>\n",
       "      <td>2</td>\n",
       "      <td>female:divorced/separated/married</td>\n",
       "      <td>none</td>\n",
       "      <td>...</td>\n",
       "      <td>real estate</td>\n",
       "      <td>22</td>\n",
       "      <td>none</td>\n",
       "      <td>own</td>\n",
       "      <td>1</td>\n",
       "      <td>skilled employee / official</td>\n",
       "      <td>1</td>\n",
       "      <td>none</td>\n",
       "      <td>yes</td>\n",
       "      <td>Bad Risk</td>\n",
       "    </tr>\n",
       "    <tr>\n",
       "      <th>2</th>\n",
       "      <td>no checking account</td>\n",
       "      <td>12</td>\n",
       "      <td>critical account</td>\n",
       "      <td>education</td>\n",
       "      <td>2096</td>\n",
       "      <td>&lt;100 DM</td>\n",
       "      <td>4&lt;= &lt;7 years</td>\n",
       "      <td>2</td>\n",
       "      <td>male:single</td>\n",
       "      <td>none</td>\n",
       "      <td>...</td>\n",
       "      <td>real estate</td>\n",
       "      <td>49</td>\n",
       "      <td>none</td>\n",
       "      <td>own</td>\n",
       "      <td>1</td>\n",
       "      <td>unskilled - resident</td>\n",
       "      <td>2</td>\n",
       "      <td>none</td>\n",
       "      <td>yes</td>\n",
       "      <td>Good Risk</td>\n",
       "    </tr>\n",
       "    <tr>\n",
       "      <th>3</th>\n",
       "      <td>&lt;0 DM</td>\n",
       "      <td>42</td>\n",
       "      <td>existing credits paid back duly till now</td>\n",
       "      <td>furniture/equipment</td>\n",
       "      <td>7882</td>\n",
       "      <td>&lt;100 DM</td>\n",
       "      <td>4&lt;= &lt;7 years</td>\n",
       "      <td>2</td>\n",
       "      <td>male:single</td>\n",
       "      <td>guarantor</td>\n",
       "      <td>...</td>\n",
       "      <td>savings agreement/life insurance</td>\n",
       "      <td>45</td>\n",
       "      <td>none</td>\n",
       "      <td>for free</td>\n",
       "      <td>1</td>\n",
       "      <td>skilled employee / official</td>\n",
       "      <td>2</td>\n",
       "      <td>none</td>\n",
       "      <td>yes</td>\n",
       "      <td>Good Risk</td>\n",
       "    </tr>\n",
       "    <tr>\n",
       "      <th>4</th>\n",
       "      <td>&lt;0 DM</td>\n",
       "      <td>24</td>\n",
       "      <td>delay in paying off</td>\n",
       "      <td>car (new)</td>\n",
       "      <td>4870</td>\n",
       "      <td>&lt;100 DM</td>\n",
       "      <td>1&lt;= &lt; 4 years</td>\n",
       "      <td>3</td>\n",
       "      <td>male:single</td>\n",
       "      <td>none</td>\n",
       "      <td>...</td>\n",
       "      <td>unknown / no property</td>\n",
       "      <td>53</td>\n",
       "      <td>none</td>\n",
       "      <td>for free</td>\n",
       "      <td>2</td>\n",
       "      <td>skilled employee / official</td>\n",
       "      <td>2</td>\n",
       "      <td>none</td>\n",
       "      <td>yes</td>\n",
       "      <td>Bad Risk</td>\n",
       "    </tr>\n",
       "  </tbody>\n",
       "</table>\n",
       "<p>5 rows × 21 columns</p>\n",
       "</div>"
      ],
      "text/plain": [
       "  Status of existing checking account  Duration in month  \\\n",
       "0                               <0 DM                  6   \n",
       "1                        0 <= <200 DM                 48   \n",
       "2                 no checking account                 12   \n",
       "3                               <0 DM                 42   \n",
       "4                               <0 DM                 24   \n",
       "\n",
       "                             Credit history              Purpose  \\\n",
       "0                          critical account     radio/television   \n",
       "1  existing credits paid back duly till now     radio/television   \n",
       "2                          critical account            education   \n",
       "3  existing credits paid back duly till now  furniture/equipment   \n",
       "4                       delay in paying off            car (new)   \n",
       "\n",
       "   Credit amount Savings account/bonds Present employment since  \\\n",
       "0           1169    no savings account                >=7 years   \n",
       "1           5951               <100 DM            1<= < 4 years   \n",
       "2           2096               <100 DM             4<= <7 years   \n",
       "3           7882               <100 DM             4<= <7 years   \n",
       "4           4870               <100 DM            1<= < 4 years   \n",
       "\n",
       "   Installment rate in percentage of disposable income  \\\n",
       "0                                                  4     \n",
       "1                                                  2     \n",
       "2                                                  2     \n",
       "3                                                  2     \n",
       "4                                                  3     \n",
       "\n",
       "             Personal status and sex Other debtors / guarantors  ...  \\\n",
       "0                        male:single                       none  ...   \n",
       "1  female:divorced/separated/married                       none  ...   \n",
       "2                        male:single                       none  ...   \n",
       "3                        male:single                  guarantor  ...   \n",
       "4                        male:single                       none  ...   \n",
       "\n",
       "                           Property Age in years  Other installment plans  \\\n",
       "0                       real estate           67                     none   \n",
       "1                       real estate           22                     none   \n",
       "2                       real estate           49                     none   \n",
       "3  savings agreement/life insurance           45                     none   \n",
       "4             unknown / no property           53                     none   \n",
       "\n",
       "    Housing Number of existing credits at this bank  \\\n",
       "0       own                                       2   \n",
       "1       own                                       1   \n",
       "2       own                                       1   \n",
       "3  for free                                       1   \n",
       "4  for free                                       2   \n",
       "\n",
       "                           Job  \\\n",
       "0  skilled employee / official   \n",
       "1  skilled employee / official   \n",
       "2         unskilled - resident   \n",
       "3  skilled employee / official   \n",
       "4  skilled employee / official   \n",
       "\n",
       "  Number of people being liable to provide maintenance for  Telephone  \\\n",
       "0                                                  1              yes   \n",
       "1                                                  1             none   \n",
       "2                                                  2             none   \n",
       "3                                                  2             none   \n",
       "4                                                  2             none   \n",
       "\n",
       "  foreign worker Cost Matrix(Risk)  \n",
       "0            yes         Good Risk  \n",
       "1            yes          Bad Risk  \n",
       "2            yes         Good Risk  \n",
       "3            yes         Good Risk  \n",
       "4            yes          Bad Risk  \n",
       "\n",
       "[5 rows x 21 columns]"
      ]
     },
     "execution_count": 133,
     "metadata": {},
     "output_type": "execute_result"
    }
   ],
   "source": [
    "\n",
    "# The current CSV file collected contains keys like \"A14, A61\" for each of the columns\n",
    "# UCI provides a description of each of this keys. \n",
    "# To proceed we need to map this these keys/entries to their respective descriptions by creating \n",
    "# a dictionary with a key-value pair for each feature. The key represents current entry, while values represent description\n",
    "# and using the .map() iterative method. The map() method creates a new array populated with \n",
    "# the results of calling a provided function on every element in the calling array.\n",
    "\n",
    "\n",
    "\n",
    "#Key-Value Pair for 13 categorical features\n",
    "Status_of_existing_checking_account={'A14':\"no checking account\",'A11':\"<0 DM\", 'A12': \"0 <= <200 DM\",'A13':\">= 200 DM \"}\n",
    "Credit_history={\"A34\":\"critical account\",\"A33\":\"delay in paying off\",\"A32\":\"existing credits paid back duly till now\",\"A31\":\"all credits at this bank paid back duly\",\"A30\":\"no credits taken\"}\n",
    "Purpose={\"A40\" : \"car (new)\", \"A41\" : \"car (used)\", \"A42\" : \"furniture/equipment\", \"A43\" :\"radio/television\" , \"A44\" : \"domestic appliances\", \"A45\" : \"repairs\", \"A46\" : \"education\", 'A47' : 'vacation','A48' : 'retraining','A49' : 'business','A410' : 'others'}\n",
    "Saving_account={\"A65\" : \"no savings account\",\"A61\" :\"<100 DM\",\"A62\" : \"100 <= <500 DM\",\"A63\" :\"500 <= < 1000 DM\", \"A64\" :\">= 1000 DM\"}\n",
    "Present_employment={'A75':\">=7 years\", 'A74':\"4<= <7 years\",  'A73':\"1<= < 4 years\", 'A72':\"<1 years\",'A71':\"unemployed\"}\n",
    "Personal_status_and_sex={ 'A95':\"female:single\",'A94':\"male:married/widowed\",'A93':\"male:single\", 'A92':\"female:divorced/separated/married\", 'A91':\"male:divorced/separated\"}\n",
    "Other_debtors_guarantors={'A101':\"none\", 'A102':\"co-applicant\", 'A103':\"guarantor\"}\n",
    "Property={'A121':\"real estate\", 'A122':\"savings agreement/life insurance\", 'A123':\"car or other\", 'A124':\"unknown / no property\"}\n",
    "Other_installment_plans={'A143':\"none\", 'A142':\"store\", 'A141':\"bank\"}\n",
    "Housing={'A153':\"for free\", 'A152':\"own\", 'A151':\"rent\"}\n",
    "Job={'A174':\"management/ highly qualified employee\", 'A173':\"skilled employee / official\", 'A172':\"unskilled - resident\", 'A171':\"unemployed/ unskilled  - non-resident\"}\n",
    "Telephone={'A192':\"yes\", 'A191':\"none\"}\n",
    "foreign_worker={'A201':\"yes\", 'A202':\"no\"}\n",
    "risk={1:\"Good Risk\", 2:\"Bad Risk\"}\n",
    "\n",
    "#Using Map function to replace values in the columns\n",
    "ger_credit_df[\"Status of existing checking account\"]=ger_credit_df[\"Status of existing checking account\"].map(Status_of_existing_checking_account)\n",
    "ger_credit_df[\"Credit history\"]=ger_credit_df[\"Credit history\"].map(Credit_history)\n",
    "ger_credit_df[\"Purpose\"]=ger_credit_df[\"Purpose\"].map(Purpose)\n",
    "ger_credit_df[\"Savings account/bonds\"]=ger_credit_df[\"Savings account/bonds\"].map(Saving_account)\n",
    "ger_credit_df[\"Present employment since\"]=ger_credit_df[\"Present employment since\"].map(Present_employment)\n",
    "ger_credit_df[\"Personal status and sex\"]=ger_credit_df[\"Personal status and sex\"].map(Personal_status_and_sex)\n",
    "ger_credit_df[\"Other debtors / guarantors\"]=ger_credit_df[\"Other debtors / guarantors\"].map(Other_debtors_guarantors)\n",
    "ger_credit_df[\"Property\"]=ger_credit_df[\"Property\"].map(Property)\n",
    "ger_credit_df[\"Other installment plans\"]=ger_credit_df[\"Other installment plans\"].map(Other_installment_plans)\n",
    "ger_credit_df[\"Housing\"]=ger_credit_df[\"Housing\"].map(Housing)\n",
    "ger_credit_df[\"Job\"]=ger_credit_df[\"Job\"].map(Job)\n",
    "ger_credit_df[\"Telephone\"]=ger_credit_df[\"Telephone\"].map(Telephone)\n",
    "ger_credit_df[\"foreign worker\"]=ger_credit_df[\"foreign worker\"].map(foreign_worker)\n",
    "ger_credit_df[\"Cost Matrix(Risk)\"]=ger_credit_df[\"Cost Matrix(Risk)\"].map(risk)\n",
    "\n",
    "\n",
    "ger_credit_df.head(5)"
   ]
  },
  {
   "cell_type": "code",
   "execution_count": 134,
   "metadata": {},
   "outputs": [
    {
     "data": {
      "text/html": [
       "<div>\n",
       "<style scoped>\n",
       "    .dataframe tbody tr th:only-of-type {\n",
       "        vertical-align: middle;\n",
       "    }\n",
       "\n",
       "    .dataframe tbody tr th {\n",
       "        vertical-align: top;\n",
       "    }\n",
       "\n",
       "    .dataframe thead th {\n",
       "        text-align: right;\n",
       "    }\n",
       "</style>\n",
       "<table border=\"1\" class=\"dataframe\">\n",
       "  <thead>\n",
       "    <tr style=\"text-align: right;\">\n",
       "      <th></th>\n",
       "      <th>Status of existing checking account</th>\n",
       "      <th>Duration in month</th>\n",
       "      <th>Credit history</th>\n",
       "      <th>Purpose</th>\n",
       "      <th>Credit amount</th>\n",
       "      <th>Savings account/bonds</th>\n",
       "      <th>Present employment since</th>\n",
       "      <th>Installment rate in percentage of disposable income</th>\n",
       "      <th>Personal status and sex</th>\n",
       "      <th>Other debtors / guarantors</th>\n",
       "      <th>...</th>\n",
       "      <th>Property</th>\n",
       "      <th>Age in years</th>\n",
       "      <th>Other installment plans</th>\n",
       "      <th>Housing</th>\n",
       "      <th>Number of existing credits at this bank</th>\n",
       "      <th>Job</th>\n",
       "      <th>Number of people being liable to provide maintenance for</th>\n",
       "      <th>Telephone</th>\n",
       "      <th>foreign worker</th>\n",
       "      <th>Credit Risk</th>\n",
       "    </tr>\n",
       "  </thead>\n",
       "  <tbody>\n",
       "    <tr>\n",
       "      <th>0</th>\n",
       "      <td>&lt;0 DM</td>\n",
       "      <td>6</td>\n",
       "      <td>critical account</td>\n",
       "      <td>radio/television</td>\n",
       "      <td>1169</td>\n",
       "      <td>no savings account</td>\n",
       "      <td>&gt;=7 years</td>\n",
       "      <td>4</td>\n",
       "      <td>male:single</td>\n",
       "      <td>none</td>\n",
       "      <td>...</td>\n",
       "      <td>real estate</td>\n",
       "      <td>67</td>\n",
       "      <td>none</td>\n",
       "      <td>own</td>\n",
       "      <td>2</td>\n",
       "      <td>skilled employee / official</td>\n",
       "      <td>1</td>\n",
       "      <td>yes</td>\n",
       "      <td>yes</td>\n",
       "      <td>Good Risk</td>\n",
       "    </tr>\n",
       "    <tr>\n",
       "      <th>1</th>\n",
       "      <td>0 &lt;= &lt;200 DM</td>\n",
       "      <td>48</td>\n",
       "      <td>existing credits paid back duly till now</td>\n",
       "      <td>radio/television</td>\n",
       "      <td>5951</td>\n",
       "      <td>&lt;100 DM</td>\n",
       "      <td>1&lt;= &lt; 4 years</td>\n",
       "      <td>2</td>\n",
       "      <td>female:divorced/separated/married</td>\n",
       "      <td>none</td>\n",
       "      <td>...</td>\n",
       "      <td>real estate</td>\n",
       "      <td>22</td>\n",
       "      <td>none</td>\n",
       "      <td>own</td>\n",
       "      <td>1</td>\n",
       "      <td>skilled employee / official</td>\n",
       "      <td>1</td>\n",
       "      <td>none</td>\n",
       "      <td>yes</td>\n",
       "      <td>Bad Risk</td>\n",
       "    </tr>\n",
       "    <tr>\n",
       "      <th>2</th>\n",
       "      <td>no checking account</td>\n",
       "      <td>12</td>\n",
       "      <td>critical account</td>\n",
       "      <td>education</td>\n",
       "      <td>2096</td>\n",
       "      <td>&lt;100 DM</td>\n",
       "      <td>4&lt;= &lt;7 years</td>\n",
       "      <td>2</td>\n",
       "      <td>male:single</td>\n",
       "      <td>none</td>\n",
       "      <td>...</td>\n",
       "      <td>real estate</td>\n",
       "      <td>49</td>\n",
       "      <td>none</td>\n",
       "      <td>own</td>\n",
       "      <td>1</td>\n",
       "      <td>unskilled - resident</td>\n",
       "      <td>2</td>\n",
       "      <td>none</td>\n",
       "      <td>yes</td>\n",
       "      <td>Good Risk</td>\n",
       "    </tr>\n",
       "    <tr>\n",
       "      <th>3</th>\n",
       "      <td>&lt;0 DM</td>\n",
       "      <td>42</td>\n",
       "      <td>existing credits paid back duly till now</td>\n",
       "      <td>furniture/equipment</td>\n",
       "      <td>7882</td>\n",
       "      <td>&lt;100 DM</td>\n",
       "      <td>4&lt;= &lt;7 years</td>\n",
       "      <td>2</td>\n",
       "      <td>male:single</td>\n",
       "      <td>guarantor</td>\n",
       "      <td>...</td>\n",
       "      <td>savings agreement/life insurance</td>\n",
       "      <td>45</td>\n",
       "      <td>none</td>\n",
       "      <td>for free</td>\n",
       "      <td>1</td>\n",
       "      <td>skilled employee / official</td>\n",
       "      <td>2</td>\n",
       "      <td>none</td>\n",
       "      <td>yes</td>\n",
       "      <td>Good Risk</td>\n",
       "    </tr>\n",
       "    <tr>\n",
       "      <th>4</th>\n",
       "      <td>&lt;0 DM</td>\n",
       "      <td>24</td>\n",
       "      <td>delay in paying off</td>\n",
       "      <td>car (new)</td>\n",
       "      <td>4870</td>\n",
       "      <td>&lt;100 DM</td>\n",
       "      <td>1&lt;= &lt; 4 years</td>\n",
       "      <td>3</td>\n",
       "      <td>male:single</td>\n",
       "      <td>none</td>\n",
       "      <td>...</td>\n",
       "      <td>unknown / no property</td>\n",
       "      <td>53</td>\n",
       "      <td>none</td>\n",
       "      <td>for free</td>\n",
       "      <td>2</td>\n",
       "      <td>skilled employee / official</td>\n",
       "      <td>2</td>\n",
       "      <td>none</td>\n",
       "      <td>yes</td>\n",
       "      <td>Bad Risk</td>\n",
       "    </tr>\n",
       "  </tbody>\n",
       "</table>\n",
       "<p>5 rows × 21 columns</p>\n",
       "</div>"
      ],
      "text/plain": [
       "  Status of existing checking account  Duration in month  \\\n",
       "0                               <0 DM                  6   \n",
       "1                        0 <= <200 DM                 48   \n",
       "2                 no checking account                 12   \n",
       "3                               <0 DM                 42   \n",
       "4                               <0 DM                 24   \n",
       "\n",
       "                             Credit history              Purpose  \\\n",
       "0                          critical account     radio/television   \n",
       "1  existing credits paid back duly till now     radio/television   \n",
       "2                          critical account            education   \n",
       "3  existing credits paid back duly till now  furniture/equipment   \n",
       "4                       delay in paying off            car (new)   \n",
       "\n",
       "   Credit amount Savings account/bonds Present employment since  \\\n",
       "0           1169    no savings account                >=7 years   \n",
       "1           5951               <100 DM            1<= < 4 years   \n",
       "2           2096               <100 DM             4<= <7 years   \n",
       "3           7882               <100 DM             4<= <7 years   \n",
       "4           4870               <100 DM            1<= < 4 years   \n",
       "\n",
       "   Installment rate in percentage of disposable income  \\\n",
       "0                                                  4     \n",
       "1                                                  2     \n",
       "2                                                  2     \n",
       "3                                                  2     \n",
       "4                                                  3     \n",
       "\n",
       "             Personal status and sex Other debtors / guarantors  ...  \\\n",
       "0                        male:single                       none  ...   \n",
       "1  female:divorced/separated/married                       none  ...   \n",
       "2                        male:single                       none  ...   \n",
       "3                        male:single                  guarantor  ...   \n",
       "4                        male:single                       none  ...   \n",
       "\n",
       "                           Property Age in years  Other installment plans  \\\n",
       "0                       real estate           67                     none   \n",
       "1                       real estate           22                     none   \n",
       "2                       real estate           49                     none   \n",
       "3  savings agreement/life insurance           45                     none   \n",
       "4             unknown / no property           53                     none   \n",
       "\n",
       "    Housing Number of existing credits at this bank  \\\n",
       "0       own                                       2   \n",
       "1       own                                       1   \n",
       "2       own                                       1   \n",
       "3  for free                                       1   \n",
       "4  for free                                       2   \n",
       "\n",
       "                           Job  \\\n",
       "0  skilled employee / official   \n",
       "1  skilled employee / official   \n",
       "2         unskilled - resident   \n",
       "3  skilled employee / official   \n",
       "4  skilled employee / official   \n",
       "\n",
       "  Number of people being liable to provide maintenance for  Telephone  \\\n",
       "0                                                  1              yes   \n",
       "1                                                  1             none   \n",
       "2                                                  2             none   \n",
       "3                                                  2             none   \n",
       "4                                                  2             none   \n",
       "\n",
       "  foreign worker Credit Risk  \n",
       "0            yes   Good Risk  \n",
       "1            yes    Bad Risk  \n",
       "2            yes   Good Risk  \n",
       "3            yes   Good Risk  \n",
       "4            yes    Bad Risk  \n",
       "\n",
       "[5 rows x 21 columns]"
      ]
     },
     "execution_count": 134,
     "metadata": {},
     "output_type": "execute_result"
    }
   ],
   "source": [
    "#Rename Column \n",
    "\n",
    "ger_credit_df.rename(columns = {'Cost Matrix(Risk)':'Credit Risk'}, inplace = True)\n",
    "ger_credit_df.head(5)\n"
   ]
  },
  {
   "cell_type": "code",
   "execution_count": 135,
   "metadata": {},
   "outputs": [
    {
     "data": {
      "text/html": [
       "<div>\n",
       "<style scoped>\n",
       "    .dataframe tbody tr th:only-of-type {\n",
       "        vertical-align: middle;\n",
       "    }\n",
       "\n",
       "    .dataframe tbody tr th {\n",
       "        vertical-align: top;\n",
       "    }\n",
       "\n",
       "    .dataframe thead th {\n",
       "        text-align: right;\n",
       "    }\n",
       "</style>\n",
       "<table border=\"1\" class=\"dataframe\">\n",
       "  <thead>\n",
       "    <tr style=\"text-align: right;\">\n",
       "      <th></th>\n",
       "      <th>Status of existing checking account</th>\n",
       "      <th>Duration in month</th>\n",
       "      <th>Credit history</th>\n",
       "      <th>Purpose</th>\n",
       "      <th>Credit amount</th>\n",
       "      <th>Savings account/bonds</th>\n",
       "      <th>Present employment since</th>\n",
       "      <th>Installment rate in percentage of disposable income</th>\n",
       "      <th>Personal status and sex</th>\n",
       "      <th>Other debtors / guarantors</th>\n",
       "      <th>...</th>\n",
       "      <th>Property</th>\n",
       "      <th>Age in years</th>\n",
       "      <th>Other installment plans</th>\n",
       "      <th>Housing</th>\n",
       "      <th>Number of existing credits at this bank</th>\n",
       "      <th>Job</th>\n",
       "      <th>Number of people being liable to provide maintenance for</th>\n",
       "      <th>Telephone</th>\n",
       "      <th>foreign worker</th>\n",
       "      <th>Credit Risk</th>\n",
       "    </tr>\n",
       "  </thead>\n",
       "  <tbody>\n",
       "    <tr>\n",
       "      <th>0</th>\n",
       "      <td>&lt;0 DM</td>\n",
       "      <td>6</td>\n",
       "      <td>critical account</td>\n",
       "      <td>radio/television</td>\n",
       "      <td>1169</td>\n",
       "      <td>no savings account</td>\n",
       "      <td>&gt;=7 years</td>\n",
       "      <td>4</td>\n",
       "      <td>male:single</td>\n",
       "      <td>none</td>\n",
       "      <td>...</td>\n",
       "      <td>real estate</td>\n",
       "      <td>67</td>\n",
       "      <td>none</td>\n",
       "      <td>own</td>\n",
       "      <td>2</td>\n",
       "      <td>skilled employee / official</td>\n",
       "      <td>1</td>\n",
       "      <td>yes</td>\n",
       "      <td>yes</td>\n",
       "      <td>Good Risk</td>\n",
       "    </tr>\n",
       "    <tr>\n",
       "      <th>1</th>\n",
       "      <td>0 &lt;= &lt;200 DM</td>\n",
       "      <td>48</td>\n",
       "      <td>existing credits paid back duly till now</td>\n",
       "      <td>radio/television</td>\n",
       "      <td>5951</td>\n",
       "      <td>&lt;100 DM</td>\n",
       "      <td>1&lt;= &lt; 4 years</td>\n",
       "      <td>2</td>\n",
       "      <td>female:divorced/separated/married</td>\n",
       "      <td>none</td>\n",
       "      <td>...</td>\n",
       "      <td>real estate</td>\n",
       "      <td>22</td>\n",
       "      <td>none</td>\n",
       "      <td>own</td>\n",
       "      <td>1</td>\n",
       "      <td>skilled employee / official</td>\n",
       "      <td>1</td>\n",
       "      <td>none</td>\n",
       "      <td>yes</td>\n",
       "      <td>Bad Risk</td>\n",
       "    </tr>\n",
       "  </tbody>\n",
       "</table>\n",
       "<p>2 rows × 21 columns</p>\n",
       "</div>"
      ],
      "text/plain": [
       "  Status of existing checking account  Duration in month  \\\n",
       "0                               <0 DM                  6   \n",
       "1                        0 <= <200 DM                 48   \n",
       "\n",
       "                             Credit history           Purpose  Credit amount  \\\n",
       "0                          critical account  radio/television           1169   \n",
       "1  existing credits paid back duly till now  radio/television           5951   \n",
       "\n",
       "  Savings account/bonds Present employment since  \\\n",
       "0    no savings account                >=7 years   \n",
       "1               <100 DM            1<= < 4 years   \n",
       "\n",
       "   Installment rate in percentage of disposable income  \\\n",
       "0                                                  4     \n",
       "1                                                  2     \n",
       "\n",
       "             Personal status and sex Other debtors / guarantors  ...  \\\n",
       "0                        male:single                       none  ...   \n",
       "1  female:divorced/separated/married                       none  ...   \n",
       "\n",
       "      Property Age in years  Other installment plans Housing  \\\n",
       "0  real estate           67                     none     own   \n",
       "1  real estate           22                     none     own   \n",
       "\n",
       "  Number of existing credits at this bank                          Job  \\\n",
       "0                                       2  skilled employee / official   \n",
       "1                                       1  skilled employee / official   \n",
       "\n",
       "  Number of people being liable to provide maintenance for  Telephone  \\\n",
       "0                                                  1              yes   \n",
       "1                                                  1             none   \n",
       "\n",
       "  foreign worker Credit Risk  \n",
       "0            yes   Good Risk  \n",
       "1            yes    Bad Risk  \n",
       "\n",
       "[2 rows x 21 columns]"
      ]
     },
     "execution_count": 135,
     "metadata": {},
     "output_type": "execute_result"
    }
   ],
   "source": [
    "#Save a copy of the dataset\n",
    "backup_ger_credit_df = ger_credit_df\n",
    "backup_ger_credit_df.head(5)\n",
    "ger_credit_df.head(2)"
   ]
  },
  {
   "cell_type": "markdown",
   "metadata": {
    "pycharm": {
     "name": "#%% md\n"
    }
   },
   "source": [
    "# Data Understanding"
   ]
  },
  {
   "cell_type": "code",
   "execution_count": 136,
   "metadata": {
    "pycharm": {
     "name": "#%%\n"
    }
   },
   "outputs": [
    {
     "data": {
      "text/plain": [
       "(1000, 21)"
      ]
     },
     "execution_count": 136,
     "metadata": {},
     "output_type": "execute_result"
    }
   ],
   "source": [
    "# Data Overview\n",
    "ger_credit_df.shape"
   ]
  },
  {
   "cell_type": "code",
   "execution_count": 137,
   "metadata": {},
   "outputs": [
    {
     "data": {
      "text/plain": [
       "Status of existing checking account                         object\n",
       "Duration in month                                            int64\n",
       "Credit history                                              object\n",
       "Purpose                                                     object\n",
       "Credit amount                                                int64\n",
       "Savings account/bonds                                       object\n",
       "Present employment since                                    object\n",
       "Installment rate in percentage of disposable income          int64\n",
       "Personal status and sex                                     object\n",
       "Other debtors / guarantors                                  object\n",
       "Present residence since                                      int64\n",
       "Property                                                    object\n",
       "Age in years                                                 int64\n",
       "Other installment plans                                     object\n",
       "Housing                                                     object\n",
       "Number of existing credits at this bank                      int64\n",
       "Job                                                         object\n",
       "Number of people being liable to provide maintenance for     int64\n",
       "Telephone                                                   object\n",
       "foreign worker                                              object\n",
       "Credit Risk                                                 object\n",
       "dtype: object"
      ]
     },
     "execution_count": 137,
     "metadata": {},
     "output_type": "execute_result"
    }
   ],
   "source": [
    "ger_credit_df.dtypes"
   ]
  },
  {
   "cell_type": "code",
   "execution_count": 138,
   "metadata": {},
   "outputs": [
    {
     "data": {
      "text/plain": [
       "Status of existing checking account                         0\n",
       "Duration in month                                           0\n",
       "Credit history                                              0\n",
       "Purpose                                                     0\n",
       "Credit amount                                               0\n",
       "Savings account/bonds                                       0\n",
       "Present employment since                                    0\n",
       "Installment rate in percentage of disposable income         0\n",
       "Personal status and sex                                     0\n",
       "Other debtors / guarantors                                  0\n",
       "Present residence since                                     0\n",
       "Property                                                    0\n",
       "Age in years                                                0\n",
       "Other installment plans                                     0\n",
       "Housing                                                     0\n",
       "Number of existing credits at this bank                     0\n",
       "Job                                                         0\n",
       "Number of people being liable to provide maintenance for    0\n",
       "Telephone                                                   0\n",
       "foreign worker                                              0\n",
       "Credit Risk                                                 0\n",
       "dtype: int64"
      ]
     },
     "execution_count": 138,
     "metadata": {},
     "output_type": "execute_result"
    }
   ],
   "source": [
    "# Checking for null values \n",
    "ger_credit_df.isna().sum(axis = 0)"
   ]
  },
  {
   "cell_type": "code",
   "execution_count": 140,
   "metadata": {
    "pycharm": {
     "name": "#%%\n"
    }
   },
   "outputs": [
    {
     "data": {
      "text/html": [
       "<div>\n",
       "<style scoped>\n",
       "    .dataframe tbody tr th:only-of-type {\n",
       "        vertical-align: middle;\n",
       "    }\n",
       "\n",
       "    .dataframe tbody tr th {\n",
       "        vertical-align: top;\n",
       "    }\n",
       "\n",
       "    .dataframe thead th {\n",
       "        text-align: right;\n",
       "    }\n",
       "</style>\n",
       "<table border=\"1\" class=\"dataframe\">\n",
       "  <thead>\n",
       "    <tr style=\"text-align: right;\">\n",
       "      <th></th>\n",
       "      <th>Credit amount</th>\n",
       "      <th>Duration in month</th>\n",
       "      <th>Installment rate in percentage of disposable income</th>\n",
       "      <th>Age in years</th>\n",
       "      <th>Present residence since</th>\n",
       "      <th>Number of existing credits at this bank</th>\n",
       "      <th>Number of people being liable to provide maintenance for</th>\n",
       "    </tr>\n",
       "  </thead>\n",
       "  <tbody>\n",
       "    <tr>\n",
       "      <th>count</th>\n",
       "      <td>1000.000000</td>\n",
       "      <td>1000.000000</td>\n",
       "      <td>1000.000000</td>\n",
       "      <td>1000.000000</td>\n",
       "      <td>1000.000000</td>\n",
       "      <td>1000.000000</td>\n",
       "      <td>1000.000000</td>\n",
       "    </tr>\n",
       "    <tr>\n",
       "      <th>mean</th>\n",
       "      <td>3271.258000</td>\n",
       "      <td>20.903000</td>\n",
       "      <td>2.973000</td>\n",
       "      <td>35.546000</td>\n",
       "      <td>2.845000</td>\n",
       "      <td>1.407000</td>\n",
       "      <td>1.155000</td>\n",
       "    </tr>\n",
       "    <tr>\n",
       "      <th>std</th>\n",
       "      <td>2822.736876</td>\n",
       "      <td>12.058814</td>\n",
       "      <td>1.118715</td>\n",
       "      <td>11.375469</td>\n",
       "      <td>1.103718</td>\n",
       "      <td>0.577654</td>\n",
       "      <td>0.362086</td>\n",
       "    </tr>\n",
       "    <tr>\n",
       "      <th>min</th>\n",
       "      <td>250.000000</td>\n",
       "      <td>4.000000</td>\n",
       "      <td>1.000000</td>\n",
       "      <td>19.000000</td>\n",
       "      <td>1.000000</td>\n",
       "      <td>1.000000</td>\n",
       "      <td>1.000000</td>\n",
       "    </tr>\n",
       "    <tr>\n",
       "      <th>25%</th>\n",
       "      <td>1365.500000</td>\n",
       "      <td>12.000000</td>\n",
       "      <td>2.000000</td>\n",
       "      <td>27.000000</td>\n",
       "      <td>2.000000</td>\n",
       "      <td>1.000000</td>\n",
       "      <td>1.000000</td>\n",
       "    </tr>\n",
       "    <tr>\n",
       "      <th>50%</th>\n",
       "      <td>2319.500000</td>\n",
       "      <td>18.000000</td>\n",
       "      <td>3.000000</td>\n",
       "      <td>33.000000</td>\n",
       "      <td>3.000000</td>\n",
       "      <td>1.000000</td>\n",
       "      <td>1.000000</td>\n",
       "    </tr>\n",
       "    <tr>\n",
       "      <th>75%</th>\n",
       "      <td>3972.250000</td>\n",
       "      <td>24.000000</td>\n",
       "      <td>4.000000</td>\n",
       "      <td>42.000000</td>\n",
       "      <td>4.000000</td>\n",
       "      <td>2.000000</td>\n",
       "      <td>1.000000</td>\n",
       "    </tr>\n",
       "    <tr>\n",
       "      <th>max</th>\n",
       "      <td>18424.000000</td>\n",
       "      <td>72.000000</td>\n",
       "      <td>4.000000</td>\n",
       "      <td>75.000000</td>\n",
       "      <td>4.000000</td>\n",
       "      <td>4.000000</td>\n",
       "      <td>2.000000</td>\n",
       "    </tr>\n",
       "  </tbody>\n",
       "</table>\n",
       "</div>"
      ],
      "text/plain": [
       "       Credit amount  Duration in month  \\\n",
       "count    1000.000000        1000.000000   \n",
       "mean     3271.258000          20.903000   \n",
       "std      2822.736876          12.058814   \n",
       "min       250.000000           4.000000   \n",
       "25%      1365.500000          12.000000   \n",
       "50%      2319.500000          18.000000   \n",
       "75%      3972.250000          24.000000   \n",
       "max     18424.000000          72.000000   \n",
       "\n",
       "       Installment rate in percentage of disposable income  Age in years  \\\n",
       "count                                        1000.000000     1000.000000   \n",
       "mean                                            2.973000       35.546000   \n",
       "std                                             1.118715       11.375469   \n",
       "min                                             1.000000       19.000000   \n",
       "25%                                             2.000000       27.000000   \n",
       "50%                                             3.000000       33.000000   \n",
       "75%                                             4.000000       42.000000   \n",
       "max                                             4.000000       75.000000   \n",
       "\n",
       "       Present residence since  Number of existing credits at this bank  \\\n",
       "count              1000.000000                              1000.000000   \n",
       "mean                  2.845000                                 1.407000   \n",
       "std                   1.103718                                 0.577654   \n",
       "min                   1.000000                                 1.000000   \n",
       "25%                   2.000000                                 1.000000   \n",
       "50%                   3.000000                                 1.000000   \n",
       "75%                   4.000000                                 2.000000   \n",
       "max                   4.000000                                 4.000000   \n",
       "\n",
       "       Number of people being liable to provide maintenance for  \n",
       "count                                        1000.000000         \n",
       "mean                                            1.155000         \n",
       "std                                             0.362086         \n",
       "min                                             1.000000         \n",
       "25%                                             1.000000         \n",
       "50%                                             1.000000         \n",
       "75%                                             1.000000         \n",
       "max                                             2.000000         "
      ]
     },
     "execution_count": 140,
     "metadata": {},
     "output_type": "execute_result"
    }
   ],
   "source": [
    "\n",
    "#Statistical view of numerical variables\n",
    "ger_credit_df[[\"Credit amount\",\\\n",
    "               \"Duration in month\",\\\n",
    "               \"Installment rate in percentage of disposable income\",\\\n",
    "               \"Age in years\",\\\n",
    "               \"Present residence since\",\\\n",
    "               \"Number of existing credits at this bank\",\\\n",
    "               \"Number of people being liable to provide maintenance for\"\n",
    "               \n",
    "              ]].describe()\n",
    "\n",
    "\n",
    "# .to_csv(\"stats_credit2.csv\", index=False)\n",
    "\n",
    "# ger_credit_df"
   ]
  },
  {
   "cell_type": "code",
   "execution_count": 176,
   "metadata": {
    "pycharm": {
     "name": "#%%\n"
    }
   },
   "outputs": [
    {
     "data": {
      "image/png": "[encoded data removed]",
      "text/plain": [
       "<Figure size 1500x500 with 3 Axes>"
      ]
     },
     "metadata": {},
     "output_type": "display_data"
    },
    {
     "data": {
      "image/png": "[encoded data removed]",
      "text/plain": [
       "<Figure size 1500x500 with 3 Axes>"
      ]
     },
     "metadata": {},
     "output_type": "display_data"
    },
    {
     "data": {
      "image/png": "[encoded data removed]",
      "text/plain": [
       "<Figure size 1500x500 with 1 Axes>"
      ]
     },
     "metadata": {},
     "output_type": "display_data"
    }
   ],
   "source": [
    "#Checking for and removal of outliers\n",
    "\n",
    "sns.set()\n",
    "f, axes = plt.subplots(1, 3,figsize=(15,5))\n",
    "sns.boxplot(y=ger_credit_df[\"Credit amount\"],x=ger_credit_df[\"Credit Risk\"],orient='v' , ax=axes[0],palette=[\"#800080\",\"#808000\"]) #box plot\n",
    "sns.boxplot(y=ger_credit_df[\"Duration in month\"],x=ger_credit_df[\"Credit Risk\"], orient='v' , ax=axes[1],palette=[\"#800080\",\"#808000\"]) #box plot\n",
    "sns.boxplot(y=ger_credit_df[\"Installment rate in percentage of disposable income\"],x=ger_credit_df[\"Credit Risk\"], orient='v' , ax=axes[2],palette=[\"#800080\",\"#808000\"]) #box plot\n",
    "\n",
    "plt.show()\n",
    "\n",
    "sns.set()\n",
    "f, axes = plt.subplots(1, 3,figsize=(15,5))\n",
    "sns.boxplot(y=ger_credit_df[\"Age in years\"],x=ger_credit_df[\"Credit Risk\"],orient='v' , ax=axes[0],palette=[\"#800080\",\"#808000\"]) #box plot\n",
    "sns.boxplot(y=ger_credit_df[\"Present residence since\"],x=ger_credit_df[\"Credit Risk\"], orient='v' , ax=axes[1],palette=[\"#800080\",\"#808000\"]) #box plot\n",
    "sns.boxplot(y=ger_credit_df[\"Number of existing credits at this bank\"],x=ger_credit_df[\"Credit Risk\"], orient='v' , ax=axes[2],palette=[\"#800080\",\"#808000\"]) #box plot\n",
    "\n",
    "plt.show()\n",
    "\n",
    "sns.set()\n",
    "f, axes = plt.subplots(1, 1,figsize=(15,5))\n",
    "sns.boxplot(y=ger_credit_df[\"Number of people being liable to provide maintenance for\"],x=ger_credit_df[\"Credit Risk\"],orient='v',palette=[\"#800080\",\"#808000\"]) #box plot\n",
    "\n",
    "plt.show()\n",
    "\n",
    "\n",
    "\n",
    "## Replacement of outliers using IQR"
   ]
  },
  {
   "cell_type": "code",
   "execution_count": 174,
   "metadata": {},
   "outputs": [],
   "source": [
    "# Removing outliers with the IQR method\n",
    "\n",
    "class OutlierDetector:\n",
    "    def __init__(self, variables, ger_credit_df):\n",
    "        self.variables = variables\n",
    "        self.ger_credit_df = ger_credit_df\n",
    "\n",
    "    def detect_outliers(self):\n",
    "        for v in self.variables:\n",
    "            subset_0 = self.ger_credit_df[self.ger_credit_df[\"Credit Risk\"] == \"Good Risk\"]\n",
    "            subset_1 = self.ger_credit_df[self.ger_credit_df[\"Credit Risk\"] == \"Bad Risk\"]\n",
    "\n",
    "            q75,q25 = np.percentile(subset_0.loc[:, v],[75, 25])\n",
    "            interval_q = q75 - q25\n",
    "            max_value = q75 + (1.5 * interval_q)\n",
    "            min_value = q25 - (1.5 * interval_q)\n",
    "\n",
    "            for i in range(1, len(self.ger_credit_df)):\n",
    "                if (self.ger_credit_df.loc[i, v] < min_value) | (self.ger_credit_df.loc[i, v] > max_value):\n",
    "                    self.ger_credit_df.loc[i, v] = statistics.mean(self.ger_credit_df[v])\n",
    "\n",
    "            q75,q25 = np.percentile(subset_1.loc[:, v],[75, 25])\n",
    "            interval_q = q75 - q25\n",
    "            max_value = q75 + (1.5 * interval_q)\n",
    "            min_value = q25 - (1.5 * interval_q)\n",
    "\n",
    "            for i in range(1, len(self.ger_credit_df)):\n",
    "                if (self.ger_credit_df.loc[i, v] < min_value) | (self.ger_credit_df.loc[i, v] > max_value):\n",
    "                    self.ger_credit_df.loc[i, v] = statistics.mean(self.ger_credit_df[v])\n",
    "\n",
    "# Instantiate the class and run the function\n",
    "variables = [\"Credit amount\",\"Duration in month\",\n",
    "              \"Installment rate in percentage of disposable income\",\n",
    "              \"Age in years\",\"Present residence since\",\n",
    "              \"Number of existing credits at this bank\",\n",
    "              \"Number of people being liable to provide maintenance for\"]\n",
    "detector = OutlierDetector(variables, ger_credit_df)\n",
    "detector.detect_outliers()\n"
   ]
  },
  {
   "cell_type": "code",
   "execution_count": 175,
   "metadata": {},
   "outputs": [
    {
     "data": {
      "text/html": [
       "<div>\n",
       "<style scoped>\n",
       "    .dataframe tbody tr th:only-of-type {\n",
       "        vertical-align: middle;\n",
       "    }\n",
       "\n",
       "    .dataframe tbody tr th {\n",
       "        vertical-align: top;\n",
       "    }\n",
       "\n",
       "    .dataframe thead th {\n",
       "        text-align: right;\n",
       "    }\n",
       "</style>\n",
       "<table border=\"1\" class=\"dataframe\">\n",
       "  <thead>\n",
       "    <tr style=\"text-align: right;\">\n",
       "      <th></th>\n",
       "      <th>Credit amount</th>\n",
       "      <th>Duration in month</th>\n",
       "      <th>Installment rate in percentage of disposable income</th>\n",
       "      <th>Age in years</th>\n",
       "      <th>Present residence since</th>\n",
       "      <th>Number of existing credits at this bank</th>\n",
       "      <th>Number of people being liable to provide maintenance for</th>\n",
       "    </tr>\n",
       "  </thead>\n",
       "  <tbody>\n",
       "    <tr>\n",
       "      <th>count</th>\n",
       "      <td>1000.000000</td>\n",
       "      <td>1000.000000</td>\n",
       "      <td>1000.000000</td>\n",
       "      <td>1000.000000</td>\n",
       "      <td>1000.000000</td>\n",
       "      <td>1000.000000</td>\n",
       "      <td>1000.000000</td>\n",
       "    </tr>\n",
       "    <tr>\n",
       "      <th>mean</th>\n",
       "      <td>2344.474353</td>\n",
       "      <td>18.757314</td>\n",
       "      <td>2.973000</td>\n",
       "      <td>34.040279</td>\n",
       "      <td>2.845000</td>\n",
       "      <td>1.391403</td>\n",
       "      <td>1.000002</td>\n",
       "    </tr>\n",
       "    <tr>\n",
       "      <th>std</th>\n",
       "      <td>1183.754662</td>\n",
       "      <td>8.794585</td>\n",
       "      <td>1.118715</td>\n",
       "      <td>9.121312</td>\n",
       "      <td>1.103718</td>\n",
       "      <td>0.541349</td>\n",
       "      <td>0.000007</td>\n",
       "    </tr>\n",
       "    <tr>\n",
       "      <th>min</th>\n",
       "      <td>250.000000</td>\n",
       "      <td>4.000000</td>\n",
       "      <td>1.000000</td>\n",
       "      <td>19.000000</td>\n",
       "      <td>1.000000</td>\n",
       "      <td>1.000000</td>\n",
       "      <td>1.000000</td>\n",
       "    </tr>\n",
       "    <tr>\n",
       "      <th>25%</th>\n",
       "      <td>1365.500000</td>\n",
       "      <td>12.000000</td>\n",
       "      <td>2.000000</td>\n",
       "      <td>27.000000</td>\n",
       "      <td>2.000000</td>\n",
       "      <td>1.000000</td>\n",
       "      <td>1.000000</td>\n",
       "    </tr>\n",
       "    <tr>\n",
       "      <th>50%</th>\n",
       "      <td>2319.500000</td>\n",
       "      <td>18.000000</td>\n",
       "      <td>3.000000</td>\n",
       "      <td>33.000000</td>\n",
       "      <td>3.000000</td>\n",
       "      <td>1.000000</td>\n",
       "      <td>1.000000</td>\n",
       "    </tr>\n",
       "    <tr>\n",
       "      <th>75%</th>\n",
       "      <td>3052.475350</td>\n",
       "      <td>24.000000</td>\n",
       "      <td>4.000000</td>\n",
       "      <td>39.000000</td>\n",
       "      <td>4.000000</td>\n",
       "      <td>2.000000</td>\n",
       "      <td>1.000000</td>\n",
       "    </tr>\n",
       "    <tr>\n",
       "      <th>max</th>\n",
       "      <td>5866.000000</td>\n",
       "      <td>42.000000</td>\n",
       "      <td>4.000000</td>\n",
       "      <td>67.000000</td>\n",
       "      <td>4.000000</td>\n",
       "      <td>3.000000</td>\n",
       "      <td>1.000046</td>\n",
       "    </tr>\n",
       "  </tbody>\n",
       "</table>\n",
       "</div>"
      ],
      "text/plain": [
       "       Credit amount  Duration in month  \\\n",
       "count    1000.000000        1000.000000   \n",
       "mean     2344.474353          18.757314   \n",
       "std      1183.754662           8.794585   \n",
       "min       250.000000           4.000000   \n",
       "25%      1365.500000          12.000000   \n",
       "50%      2319.500000          18.000000   \n",
       "75%      3052.475350          24.000000   \n",
       "max      5866.000000          42.000000   \n",
       "\n",
       "       Installment rate in percentage of disposable income  Age in years  \\\n",
       "count                                        1000.000000     1000.000000   \n",
       "mean                                            2.973000       34.040279   \n",
       "std                                             1.118715        9.121312   \n",
       "min                                             1.000000       19.000000   \n",
       "25%                                             2.000000       27.000000   \n",
       "50%                                             3.000000       33.000000   \n",
       "75%                                             4.000000       39.000000   \n",
       "max                                             4.000000       67.000000   \n",
       "\n",
       "       Present residence since  Number of existing credits at this bank  \\\n",
       "count              1000.000000                              1000.000000   \n",
       "mean                  2.845000                                 1.391403   \n",
       "std                   1.103718                                 0.541349   \n",
       "min                   1.000000                                 1.000000   \n",
       "25%                   2.000000                                 1.000000   \n",
       "50%                   3.000000                                 1.000000   \n",
       "75%                   4.000000                                 2.000000   \n",
       "max                   4.000000                                 3.000000   \n",
       "\n",
       "       Number of people being liable to provide maintenance for  \n",
       "count                                        1000.000000         \n",
       "mean                                            1.000002         \n",
       "std                                             0.000007         \n",
       "min                                             1.000000         \n",
       "25%                                             1.000000         \n",
       "50%                                             1.000000         \n",
       "75%                                             1.000000         \n",
       "max                                             1.000046         "
      ]
     },
     "execution_count": 175,
     "metadata": {},
     "output_type": "execute_result"
    }
   ],
   "source": [
    "#Test to confirm that outliers have been replaced using the IQR method\n",
    "\n",
    "ger_credit_df[[\"Credit amount\",\\\n",
    "               \"Duration in month\",\\\n",
    "               \"Installment rate in percentage of disposable income\",\\\n",
    "               \"Age in years\",\\\n",
    "               \"Present residence since\",\\\n",
    "               \"Number of existing credits at this bank\",\\\n",
    "               \"Number of people being liable to provide maintenance for\"\n",
    "               \n",
    "              ]].describe()\n"
   ]
  },
  {
   "cell_type": "code",
   "execution_count": 173,
   "metadata": {
    "pycharm": {
     "name": "#%%\n"
    }
   },
   "outputs": [
    {
     "data": {
      "text/plain": [
       "<AxesSubplot:>"
      ]
     },
     "execution_count": 173,
     "metadata": {},
     "output_type": "execute_result"
    },
    {
     "data": {
      "image/png": "[encoded data removed]",
      "text/plain": [
       "<Figure size 640x480 with 2 Axes>"
      ]
     },
     "metadata": {},
     "output_type": "display_data"
    }
   ],
   "source": [
    "# Correlation Analysis\n",
    "## Closely correlated values selected using P-Values or IV are further\n",
    "## filtered using correlation analysis removed. \n",
    "\n",
    "c_matrix = ger_credit_df.corr(method='pearson')\n",
    "sns.heatmap(c_matrix, annot=True,cmap='PRGn', linewidths=0.3, annot_kws={\"size\":12}) "
   ]
  },
  {
   "cell_type": "markdown",
   "metadata": {
    "pycharm": {
     "name": "#%% md\n"
    }
   },
   "source": [
    "# Feature Selection and Engineering"
   ]
  },
  {
   "cell_type": "code",
   "execution_count": null,
   "metadata": {},
   "outputs": [],
   "source": []
  },
  {
   "cell_type": "code",
   "execution_count": null,
   "metadata": {},
   "outputs": [],
   "source": []
  },
  {
   "cell_type": "code",
   "execution_count": 180,
   "metadata": {
    "pycharm": {
     "name": "#%%\n"
    }
   },
   "outputs": [
    {
     "data": {
      "text/html": [
       "<div>\n",
       "<style scoped>\n",
       "    .dataframe tbody tr th:only-of-type {\n",
       "        vertical-align: middle;\n",
       "    }\n",
       "\n",
       "    .dataframe tbody tr th {\n",
       "        vertical-align: top;\n",
       "    }\n",
       "\n",
       "    .dataframe thead th {\n",
       "        text-align: right;\n",
       "    }\n",
       "</style>\n",
       "<table border=\"1\" class=\"dataframe\">\n",
       "  <thead>\n",
       "    <tr style=\"text-align: right;\">\n",
       "      <th></th>\n",
       "      <th>Attribute</th>\n",
       "      <th>P-value</th>\n",
       "    </tr>\n",
       "  </thead>\n",
       "  <tbody>\n",
       "    <tr>\n",
       "      <th>0</th>\n",
       "      <td>Status of existing checking account</td>\n",
       "      <td>0.000000</td>\n",
       "    </tr>\n",
       "    <tr>\n",
       "      <th>1</th>\n",
       "      <td>Credit history</td>\n",
       "      <td>0.000000</td>\n",
       "    </tr>\n",
       "    <tr>\n",
       "      <th>2</th>\n",
       "      <td>Purpose</td>\n",
       "      <td>0.000116</td>\n",
       "    </tr>\n",
       "    <tr>\n",
       "      <th>3</th>\n",
       "      <td>Savings account/bonds</td>\n",
       "      <td>0.000000</td>\n",
       "    </tr>\n",
       "    <tr>\n",
       "      <th>4</th>\n",
       "      <td>Present employment since</td>\n",
       "      <td>0.001045</td>\n",
       "    </tr>\n",
       "    <tr>\n",
       "      <th>5</th>\n",
       "      <td>Installment rate in percentage of disposable i...</td>\n",
       "      <td>0.140033</td>\n",
       "    </tr>\n",
       "    <tr>\n",
       "      <th>6</th>\n",
       "      <td>Personal status and sex</td>\n",
       "      <td>0.022238</td>\n",
       "    </tr>\n",
       "    <tr>\n",
       "      <th>7</th>\n",
       "      <td>Other debtors / guarantors</td>\n",
       "      <td>0.036056</td>\n",
       "    </tr>\n",
       "    <tr>\n",
       "      <th>8</th>\n",
       "      <td>Present residence since</td>\n",
       "      <td>0.861552</td>\n",
       "    </tr>\n",
       "    <tr>\n",
       "      <th>9</th>\n",
       "      <td>Property</td>\n",
       "      <td>0.000029</td>\n",
       "    </tr>\n",
       "    <tr>\n",
       "      <th>10</th>\n",
       "      <td>Other installment plans</td>\n",
       "      <td>0.001629</td>\n",
       "    </tr>\n",
       "    <tr>\n",
       "      <th>11</th>\n",
       "      <td>Housing</td>\n",
       "      <td>0.000112</td>\n",
       "    </tr>\n",
       "    <tr>\n",
       "      <th>12</th>\n",
       "      <td>Number of existing credits at this bank</td>\n",
       "      <td>0.340578</td>\n",
       "    </tr>\n",
       "    <tr>\n",
       "      <th>13</th>\n",
       "      <td>Job</td>\n",
       "      <td>0.596582</td>\n",
       "    </tr>\n",
       "    <tr>\n",
       "      <th>14</th>\n",
       "      <td>Number of people being liable to provide maint...</td>\n",
       "      <td>0.506473</td>\n",
       "    </tr>\n",
       "    <tr>\n",
       "      <th>15</th>\n",
       "      <td>Telephone</td>\n",
       "      <td>0.278876</td>\n",
       "    </tr>\n",
       "    <tr>\n",
       "      <th>16</th>\n",
       "      <td>foreign worker</td>\n",
       "      <td>0.015831</td>\n",
       "    </tr>\n",
       "  </tbody>\n",
       "</table>\n",
       "</div>"
      ],
      "text/plain": [
       "                                            Attribute   P-value\n",
       "0                 Status of existing checking account  0.000000\n",
       "1                                      Credit history  0.000000\n",
       "2                                             Purpose  0.000116\n",
       "3                               Savings account/bonds  0.000000\n",
       "4                            Present employment since  0.001045\n",
       "5   Installment rate in percentage of disposable i...  0.140033\n",
       "6                             Personal status and sex  0.022238\n",
       "7                          Other debtors / guarantors  0.036056\n",
       "8                             Present residence since  0.861552\n",
       "9                                            Property  0.000029\n",
       "10                            Other installment plans  0.001629\n",
       "11                                            Housing  0.000112\n",
       "12            Number of existing credits at this bank  0.340578\n",
       "13                                                Job  0.596582\n",
       "14  Number of people being liable to provide maint...  0.506473\n",
       "15                                          Telephone  0.278876\n",
       "16                                     foreign worker  0.015831"
      ]
     },
     "metadata": {},
     "output_type": "display_data"
    },
    {
     "data": {
      "text/html": [
       "<div>\n",
       "<style scoped>\n",
       "    .dataframe tbody tr th:only-of-type {\n",
       "        vertical-align: middle;\n",
       "    }\n",
       "\n",
       "    .dataframe tbody tr th {\n",
       "        vertical-align: top;\n",
       "    }\n",
       "\n",
       "    .dataframe thead th {\n",
       "        text-align: right;\n",
       "    }\n",
       "</style>\n",
       "<table border=\"1\" class=\"dataframe\">\n",
       "  <thead>\n",
       "    <tr style=\"text-align: right;\">\n",
       "      <th></th>\n",
       "      <th>Attribute</th>\n",
       "      <th>P-value</th>\n",
       "    </tr>\n",
       "  </thead>\n",
       "  <tbody>\n",
       "    <tr>\n",
       "      <th>0</th>\n",
       "      <td>Credit amount</td>\n",
       "      <td>0.451590</td>\n",
       "    </tr>\n",
       "    <tr>\n",
       "      <th>1</th>\n",
       "      <td>Duration in month</td>\n",
       "      <td>0.000001</td>\n",
       "    </tr>\n",
       "    <tr>\n",
       "      <th>2</th>\n",
       "      <td>Installment rate in percentage of disposable i...</td>\n",
       "      <td>0.022035</td>\n",
       "    </tr>\n",
       "    <tr>\n",
       "      <th>3</th>\n",
       "      <td>Age in years</td>\n",
       "      <td>0.002192</td>\n",
       "    </tr>\n",
       "    <tr>\n",
       "      <th>4</th>\n",
       "      <td>Present residence since</td>\n",
       "      <td>0.925337</td>\n",
       "    </tr>\n",
       "    <tr>\n",
       "      <th>5</th>\n",
       "      <td>Number of existing credits at this bank</td>\n",
       "      <td>0.107796</td>\n",
       "    </tr>\n",
       "    <tr>\n",
       "      <th>6</th>\n",
       "      <td>Number of people being liable to provide maint...</td>\n",
       "      <td>0.965541</td>\n",
       "    </tr>\n",
       "  </tbody>\n",
       "</table>\n",
       "</div>"
      ],
      "text/plain": [
       "                                           Attribute   P-value\n",
       "0                                      Credit amount  0.451590\n",
       "1                                  Duration in month  0.000001\n",
       "2  Installment rate in percentage of disposable i...  0.022035\n",
       "3                                       Age in years  0.002192\n",
       "4                            Present residence since  0.925337\n",
       "5            Number of existing credits at this bank  0.107796\n",
       "6  Number of people being liable to provide maint...  0.965541"
      ]
     },
     "metadata": {},
     "output_type": "display_data"
    }
   ],
   "source": [
    "#Feature Selection for German Data\n",
    "\n",
    "\n",
    "\n",
    "# Using P-Values\n",
    "column_names_cat_stats=[\"Status of existing checking account\",\"Credit history\",\"Purpose\",\\\n",
    "\"Savings account/bonds\",\"Present employment since\",\\\n",
    "\"Installment rate in percentage of disposable income\",\"Personal status and sex\",\\\n",
    "\"Other debtors / guarantors\",\"Present residence since\",\"Property\",\\\n",
    "\"Other installment plans\",\"Housing\",\"Number of existing credits at this bank\",\\\n",
    "\"Job\",\"Number of people being liable to provide maintenance for\",\"Telephone\",\"foreign worker\"]\n",
    "\n",
    "\n",
    "\n",
    "# P-Values for Categorical variables\n",
    "statistical_significance=[]\n",
    "for attr in column_names_cat_stats:\n",
    "    data_count=pd.crosstab(ger_credit_df[attr],ger_credit_df[\"Credit Risk\"]).reset_index()\n",
    "    obs=np.asarray(data_count[[\"Bad Risk\",\"Good Risk\"]])\n",
    "    chi2, p, dof, expected = stats.chi2_contingency(obs)\n",
    "    statistical_significance.append([attr,round(p,6)])\n",
    "    \n",
    "statistical_significance=pd.DataFrame(statistical_significance)\n",
    "statistical_significance.columns=[\"Attribute\",\"P-value\"]\n",
    "\n",
    "display(statistical_significance)\n",
    "\n",
    "\n",
    "# P-Values for Numerical variables\n",
    "statistical_significance=[]\n",
    "column_names_cont_stats=[\"Credit amount\",\"Duration in month\",\n",
    "                         \"Installment rate in percentage of disposable income\",\n",
    "                         \"Age in years\",\"Present residence since\",\n",
    "                         \"Number of existing credits at this bank\",\n",
    "                         \"Number of people being liable to provide maintenance for\"]\n",
    "\n",
    "good_risk_df = ger_credit_df[ger_credit_df[\"Credit Risk\"]==\"Good Risk\"]\n",
    "bad_risk_df = ger_credit_df[ger_credit_df[\"Credit Risk\"]==\"Bad Risk\"]\n",
    "for attr in column_names_cont_stats:\n",
    "    statistic, p=stats.f_oneway(good_risk_df[attr].values,bad_risk_df[attr].values)\n",
    "    statistical_significance.append([attr,round(p,6)])\n",
    "statistical_significance=pd.DataFrame(statistical_significance)\n",
    "statistical_significance.columns=[\"Attribute\",\"P-value\"]\n",
    "display(statistical_significance)\n",
    "\n",
    "\n",
    "# statistical_significance.to_csv(\"pvaluescategorical.csv\", index=False)\n",
    "\n",
    "\n",
    "#PValues\n",
    "# pvalues_categorical = pd.read_csv('pvaluescategorical.csv')\n",
    "# pvalues_categorical = pvalues_categorical.sort_values(by=['P-value'], ascending=False)\n",
    "# pvalues_categorical \n",
    "\n",
    "\n",
    "\n",
    "# Using Information-Values (IV)\n",
    "\n",
    "# Weight of Evidence\n",
    "# https://medium.com/@finntanweelip/feature-selection-in-credit-scoring-b0eee604cd51 \n",
    "\n",
    " \n"
   ]
  },
  {
   "cell_type": "code",
   "execution_count": 201,
   "metadata": {},
   "outputs": [
    {
     "data": {
      "text/html": [
       "<div>\n",
       "<style scoped>\n",
       "    .dataframe tbody tr th:only-of-type {\n",
       "        vertical-align: middle;\n",
       "    }\n",
       "\n",
       "    .dataframe tbody tr th {\n",
       "        vertical-align: top;\n",
       "    }\n",
       "\n",
       "    .dataframe thead th {\n",
       "        text-align: right;\n",
       "    }\n",
       "</style>\n",
       "<table border=\"1\" class=\"dataframe\">\n",
       "  <thead>\n",
       "    <tr style=\"text-align: right;\">\n",
       "      <th></th>\n",
       "      <th>attribute</th>\n",
       "      <th>P-value</th>\n",
       "    </tr>\n",
       "  </thead>\n",
       "  <tbody>\n",
       "    <tr>\n",
       "      <th>0</th>\n",
       "      <td>Status of existing checking account</td>\n",
       "      <td>0.000000</td>\n",
       "    </tr>\n",
       "    <tr>\n",
       "      <th>1</th>\n",
       "      <td>Credit history</td>\n",
       "      <td>0.000000</td>\n",
       "    </tr>\n",
       "    <tr>\n",
       "      <th>3</th>\n",
       "      <td>Savings account/bonds</td>\n",
       "      <td>0.000000</td>\n",
       "    </tr>\n",
       "    <tr>\n",
       "      <th>8</th>\n",
       "      <td>Property</td>\n",
       "      <td>0.000029</td>\n",
       "    </tr>\n",
       "    <tr>\n",
       "      <th>10</th>\n",
       "      <td>Housing</td>\n",
       "      <td>0.000112</td>\n",
       "    </tr>\n",
       "    <tr>\n",
       "      <th>2</th>\n",
       "      <td>Purpose</td>\n",
       "      <td>0.000116</td>\n",
       "    </tr>\n",
       "    <tr>\n",
       "      <th>4</th>\n",
       "      <td>Present employment since</td>\n",
       "      <td>0.001045</td>\n",
       "    </tr>\n",
       "    <tr>\n",
       "      <th>9</th>\n",
       "      <td>Other installment plans</td>\n",
       "      <td>0.001629</td>\n",
       "    </tr>\n",
       "    <tr>\n",
       "      <th>15</th>\n",
       "      <td>foreign worker</td>\n",
       "      <td>0.015831</td>\n",
       "    </tr>\n",
       "    <tr>\n",
       "      <th>5</th>\n",
       "      <td>Personal status and sex</td>\n",
       "      <td>0.022238</td>\n",
       "    </tr>\n",
       "    <tr>\n",
       "      <th>6</th>\n",
       "      <td>Other debtors / guarantors</td>\n",
       "      <td>0.036056</td>\n",
       "    </tr>\n",
       "    <tr>\n",
       "      <th>14</th>\n",
       "      <td>Telephone</td>\n",
       "      <td>0.278876</td>\n",
       "    </tr>\n",
       "    <tr>\n",
       "      <th>11</th>\n",
       "      <td>Number of existing credits at this bank</td>\n",
       "      <td>0.340578</td>\n",
       "    </tr>\n",
       "    <tr>\n",
       "      <th>13</th>\n",
       "      <td>Number of people being liable to provide maint...</td>\n",
       "      <td>0.506473</td>\n",
       "    </tr>\n",
       "    <tr>\n",
       "      <th>12</th>\n",
       "      <td>Job</td>\n",
       "      <td>0.596582</td>\n",
       "    </tr>\n",
       "    <tr>\n",
       "      <th>7</th>\n",
       "      <td>Present residence since</td>\n",
       "      <td>0.861552</td>\n",
       "    </tr>\n",
       "  </tbody>\n",
       "</table>\n",
       "</div>"
      ],
      "text/plain": [
       "                                            attribute   P-value\n",
       "0                 Status of existing checking account  0.000000\n",
       "1                                      Credit history  0.000000\n",
       "3                               Savings account/bonds  0.000000\n",
       "8                                            Property  0.000029\n",
       "10                                            Housing  0.000112\n",
       "2                                             Purpose  0.000116\n",
       "4                            Present employment since  0.001045\n",
       "9                             Other installment plans  0.001629\n",
       "15                                     foreign worker  0.015831\n",
       "5                             Personal status and sex  0.022238\n",
       "6                          Other debtors / guarantors  0.036056\n",
       "14                                          Telephone  0.278876\n",
       "11            Number of existing credits at this bank  0.340578\n",
       "13  Number of people being liable to provide maint...  0.506473\n",
       "12                                                Job  0.596582\n",
       "7                             Present residence since  0.861552"
      ]
     },
     "execution_count": 201,
     "metadata": {},
     "output_type": "execute_result"
    }
   ],
   "source": [
    "#OOP P-Values\n",
    "\n",
    "class StatisticalSignificance:\n",
    "    def __init__(self, ger_credit_df):\n",
    "        self.ger_credit_df = ger_credit_df\n",
    "and S\n",
    "    def calculate_cat_p_values(self,column_names_cat_stats):\n",
    "        statistical_significance=[]\n",
    "        for attr in column_names_cat_stats:\n",
    "            data_count=pd.crosstab(self.ger_credit_df[attr],self.ger_credit_df[\"Credit Risk\"]).reset_index()\n",
    "            obs=np.asarray(data_count[[\"Bad Risk\",\"Good Risk\"]])\n",
    "            chi2, p, dof, expected = stats.chi2_contingency(obs)\n",
    "            statistical_significance.append([attr,round(p,6)])\n",
    "\n",
    "        statistical_significance=pd.DataFrame(statistical_significance)\n",
    "        statistical_significance.columns=[\"attribute\",\"P-value\"]\n",
    "\n",
    "        return statistical_significance\n",
    "    \n",
    "    def calculate_cont_p_values(self,column_names_cont_stats):\n",
    "        statistical_significance=[]\n",
    "        good_risk_df = self.ger_credit_df[self.ger_credit_df[\"Credit Risk\"]==\"Good Risk\"]\n",
    "        bad_risk_df = self.ger_credit_df[self.ger_credit_df[\"Credit Risk\"]==\"Bad Risk\"]\n",
    "        for attr in column_names_cont_stats:\n",
    "            statistic, p=stats.f_oneway(good_risk_df[attr].values,bad_risk_df[attr].values)\n",
    "            statistical_significance.append([attr,round(p,6)])\n",
    "        statistical_significance=pd.DataFrame(statistical_significance)\n",
    "        statistical_significance.columns=[\"attribute\",\"P-value\"]\n",
    "        return statistical_significance\n",
    "        \n",
    "# Instantiate the class and run the function\n",
    "column_names_cat_stats=[\"Status of existing checking account\",\"Credit history\",\"Purpose\",\\\n",
    "\"Savings account/bonds\",\"Present employment since\",\\\n",
    "\"Personal status and sex\",\\\n",
    "\"Other debtors / guarantors\",\"Present residence since\",\"Property\",\\\n",
    "\"Other installment plans\",\"Housing\",\"Number of existing credits at this bank\",\\\n",
    "\"Job\",\"Number of people being liable to provide maintenance for\",\"Telephone\",\"foreign worker\"]\n",
    "\n",
    "column_names_cont_stats=[\"Credit amount\",\"Duration in month\",\n",
    "                         \"Installment rate in percentage of disposable income\",\n",
    "                         \"Age in years\",\"Present residence since\",\n",
    "                         \"Number of existing credits at this bank\",\n",
    "                         \"Number of people being liable to provide maintenance for\"]\n",
    "\n",
    "stat_significance = StatisticalSignificance(ger_credit_df)\n",
    "cat_p_values = stat_significance.calculate_cat_p_values(column_names_cat_stats)\n",
    "cont_p_values = stat_significance.calculate_cont_p_values(column_names_cont_stats)\n",
    "\n",
    "# display(cat_p_values)\n",
    "# display(cont_p_values)\n",
    "\n",
    "p_values_categorical = pd.DataFrame(cat_p_values)\n",
    "p_values_continous = pd.DataFrame(cont_p_values)\n",
    "\n",
    "# Sort P-Values in ascending order\n",
    "p_values_categorical = p_values_categorical.sort_values(by=['P-value'], ascending=True)\n",
    "p_values_continous = p_values_continous.sort_values(by=['P-value'], ascending=True)\n",
    "\n",
    "p_values_categorical \n"
   ]
  },
  {
   "cell_type": "code",
   "execution_count": 202,
   "metadata": {},
   "outputs": [
    {
     "data": {
      "text/html": [
       "<div>\n",
       "<style scoped>\n",
       "    .dataframe tbody tr th:only-of-type {\n",
       "        vertical-align: middle;\n",
       "    }\n",
       "\n",
       "    .dataframe tbody tr th {\n",
       "        vertical-align: top;\n",
       "    }\n",
       "\n",
       "    .dataframe thead th {\n",
       "        text-align: right;\n",
       "    }\n",
       "</style>\n",
       "<table border=\"1\" class=\"dataframe\">\n",
       "  <thead>\n",
       "    <tr style=\"text-align: right;\">\n",
       "      <th></th>\n",
       "      <th>attribute</th>\n",
       "      <th>P-value</th>\n",
       "    </tr>\n",
       "  </thead>\n",
       "  <tbody>\n",
       "    <tr>\n",
       "      <th>1</th>\n",
       "      <td>Duration in month</td>\n",
       "      <td>0.000001</td>\n",
       "    </tr>\n",
       "    <tr>\n",
       "      <th>3</th>\n",
       "      <td>Age in years</td>\n",
       "      <td>0.002192</td>\n",
       "    </tr>\n",
       "    <tr>\n",
       "      <th>2</th>\n",
       "      <td>Installment rate in percentage of disposable i...</td>\n",
       "      <td>0.022035</td>\n",
       "    </tr>\n",
       "    <tr>\n",
       "      <th>5</th>\n",
       "      <td>Number of existing credits at this bank</td>\n",
       "      <td>0.107796</td>\n",
       "    </tr>\n",
       "    <tr>\n",
       "      <th>0</th>\n",
       "      <td>Credit amount</td>\n",
       "      <td>0.451590</td>\n",
       "    </tr>\n",
       "    <tr>\n",
       "      <th>4</th>\n",
       "      <td>Present residence since</td>\n",
       "      <td>0.925337</td>\n",
       "    </tr>\n",
       "    <tr>\n",
       "      <th>6</th>\n",
       "      <td>Number of people being liable to provide maint...</td>\n",
       "      <td>0.965541</td>\n",
       "    </tr>\n",
       "  </tbody>\n",
       "</table>\n",
       "</div>"
      ],
      "text/plain": [
       "                                           attribute   P-value\n",
       "1                                  Duration in month  0.000001\n",
       "3                                       Age in years  0.002192\n",
       "2  Installment rate in percentage of disposable i...  0.022035\n",
       "5            Number of existing credits at this bank  0.107796\n",
       "0                                      Credit amount  0.451590\n",
       "4                            Present residence since  0.925337\n",
       "6  Number of people being liable to provide maint...  0.965541"
      ]
     },
     "execution_count": 202,
     "metadata": {},
     "output_type": "execute_result"
    }
   ],
   "source": [
    "p_values_continous  \n"
   ]
  },
  {
   "cell_type": "code",
   "execution_count": null,
   "metadata": {
    "pycharm": {
     "name": "#%%\n"
    }
   },
   "outputs": [],
   "source": [
    "#OneHotEnconding\n",
    "\n",
    "\n",
    "#Drop 7 columns not selected\n",
    "df = ger_credit_df.drop(columns=['Number of people being liable to provide maintenance for',\\\n",
    "                      'Present residence since',\\\n",
    "                      'Number of existing credits at this bank',\\\n",
    "                      'Job',\\\n",
    "                      'Telephone',\\\n",
    "                      'Other debtors / guarantors',\\\n",
    "                      'Installment rate in percentage of disposable income'\n",
    "                     ])\n",
    "\n",
    "\n",
    "#10 Selected features with statistical significance\n",
    "col_cat_names=[\"Status of existing checking account\",\"Credit history\",\"Purpose\",\\\n",
    "\"Savings account/bonds\",\"Present employment since\",\\\n",
    "\"Personal status and sex\",\"Property\",\"Other installment plans\",\"Housing\",\"foreign worker\"]\n",
    "\n",
    "for attr in col_cat_names:\n",
    "    df = df.merge(pd.get_dummies(df[attr], prefix=attr), left_index=True, right_index=True)\n",
    "    df.drop(attr,axis=1,inplace=True)\n",
    " \n",
    "#converting target variable into numeric\n",
    "risk={\"Good Risk\":1, \"Bad Risk\":0}\n",
    "df[\"Cost Matrix(Risk)\"]=df[\"Cost Matrix(Risk)\"].map(risk)\n",
    "\n",
    "df"
   ]
  },
  {
   "cell_type": "code",
   "execution_count": null,
   "metadata": {
    "pycharm": {
     "name": "#%%\n"
    }
   },
   "outputs": [],
   "source": [
    "# Target data distribution\n",
    "\n",
    "ger_credit_df['Cost Matrix(Risk)'].astype(int).plot.hist(color='forestgreen').set_xlabel('Target or dependent variable: 1 or 0');\n",
    "\n",
    "count = ger_credit_df['Cost Matrix(Risk)'].value_counts()\n",
    "good_risk = count[1]\n",
    "bad_risk = count[0]\n",
    "\n",
    "print(\"There are {} loans repaid on time (Good Risk, Cost Matrix(Risk) =1) and {} loans defaulted (Bad Risk, Cost Matrix(Risk)=0) in the dataset\".format(good_risk, bad_risk))"
   ]
  },
  {
   "cell_type": "code",
   "execution_count": null,
   "metadata": {
    "pycharm": {
     "is_executing": true,
     "name": "#%%\n"
    }
   },
   "outputs": [],
   "source": [
    "#Principal Component Analysis (PCA): Dimensionality Reduction\n",
    "\n",
    "X = df.drop('Cost Matrix(Risk)', 1).values #independent variables\n",
    "y = df[\"Cost Matrix(Risk)\"].values #target variables\n",
    "\n",
    "pca = PCA(n_components=16)\n",
    "X = pca.fit_transform(X)"
   ]
  },
  {
   "cell_type": "code",
   "execution_count": null,
   "metadata": {
    "pycharm": {
     "is_executing": true,
     "name": "#%%\n"
    }
   },
   "outputs": [],
   "source": [
    "# Spliting dataset into train and test version\n",
    "X_train, X_test, y_train, y_test = train_test_split(X, y, test_size = 0.30,random_state=0)"
   ]
  },
  {
   "cell_type": "markdown",
   "metadata": {
    "pycharm": {
     "name": "#%% md\n"
    }
   },
   "source": [
    "# Credit Risk Model Development and Fit"
   ]
  },
  {
   "cell_type": "markdown",
   "metadata": {
    "pycharm": {
     "name": "#%% md\n"
    }
   },
   "source": [
    "#### XGBoost Classifier"
   ]
  },
  {
   "cell_type": "code",
   "execution_count": null,
   "metadata": {
    "pycharm": {
     "is_executing": true,
     "name": "#%%\n"
    }
   },
   "outputs": [],
   "source": [
    "# Train Model\n",
    "\n",
    "model_xgboost =XGBClassifier()\n",
    "model_xgboost.fit(X_train, y_train)\n",
    "\n",
    "# Model Prediction\n",
    "y_pred = model_xgboost.predict(X_test)\n",
    "\n",
    "\n",
    "# Metrics\n",
    "acc_xgboost = round(accuracy_score(y_test,y_pred)*100,2)\n",
    "class_met_xgboost = classification_report(y_test,y_pred)  \n",
    "cm_xgb = confusion_matrix(y_test, y_pred, labels=model_xgboost.classes_)\n"
   ]
  },
  {
   "cell_type": "code",
   "execution_count": null,
   "metadata": {
    "pycharm": {
     "is_executing": true,
     "name": "#%%\n"
    }
   },
   "outputs": [],
   "source": [
    "\n",
    "\n",
    "\n",
    "cm_disp_xgb = ConfusionMatrixDisplay(confusion_matrix=cm_xgb, display_labels=model_xgboost.classes_)\n",
    "cm_disp_xgb.plot()"
   ]
  },
  {
   "cell_type": "code",
   "execution_count": null,
   "metadata": {
    "pycharm": {
     "is_executing": true,
     "name": "#%%\n"
    }
   },
   "outputs": [],
   "source": [
    "TP = 58\n",
    "TN = 172\n",
    "FP = 28\n",
    "FN = 42\n",
    "ACC = round(((TP + TN) / (TP + TN + FP + FN))*100,2)\n",
    "print(f\"XGBoost Accuracy (%):{ACC}\")\n",
    "\n",
    "TPR = round((TP / (TP + FN))*100,2) \n",
    "print(f\"XGBoost Sensitivity, TPR (%):{TPR}\")\n",
    "\n",
    "SP = round((TN / (FP + TN))*100,2)\n",
    "\n",
    "print(f\"XGBoost Specificity (%): {SP}\")\n",
    "      "
   ]
  },
  {
   "cell_type": "markdown",
   "metadata": {
    "pycharm": {
     "name": "#%% md\n"
    }
   },
   "source": [
    "#### Support Vector Machines (SVM)"
   ]
  },
  {
   "cell_type": "code",
   "execution_count": null,
   "metadata": {
    "pycharm": {
     "is_executing": true,
     "name": "#%%\n"
    }
   },
   "outputs": [],
   "source": [
    "#Support Vector Machines\n",
    "\n",
    "# Train the model\n",
    "model_svm = SVC(kernel = 'linear', random_state = 0, probability=True)  \n",
    "model_svm.fit(X_train, y_train) \n",
    "\n",
    "# Model Prediction\n",
    "y_pred_svm = model_svm.predict(X_test)\n",
    "\n",
    "\n",
    "\n",
    "# Metrics\n",
    "cm_svm = confusion_matrix(y_test, y_pred, labels=svm.classes_)\n",
    "acc_svm = round(accuracy_score(y_test,y_pred)*100,2)\n",
    "class_met_svm = classification_report(y_test,y_pred_svm)\n",
    "\n"
   ]
  },
  {
   "cell_type": "markdown",
   "metadata": {
    "pycharm": {
     "name": "#%% md\n"
    }
   },
   "source": [
    "# Model Evaluation"
   ]
  },
  {
   "cell_type": "markdown",
   "metadata": {
    "pycharm": {
     "name": "#%% md\n"
    }
   },
   "source": [
    "#### Accuracy"
   ]
  },
  {
   "cell_type": "code",
   "execution_count": null,
   "metadata": {
    "pycharm": {
     "is_executing": true,
     "name": "#%%\n"
    }
   },
   "outputs": [],
   "source": [
    "print(f\"XGBoost Accuracy(%): {acc_xgboost}\")\n",
    "print(f\"SVM Accuracy(%): {acc_svm}\")"
   ]
  },
  {
   "cell_type": "markdown",
   "metadata": {
    "pycharm": {
     "name": "#%% md\n"
    }
   },
   "source": [
    "#### Precision, Recall and F1-Score"
   ]
  },
  {
   "cell_type": "code",
   "execution_count": null,
   "metadata": {
    "pycharm": {
     "is_executing": true,
     "name": "#%%\n"
    }
   },
   "outputs": [],
   "source": [
    "print(\"---------- XGBoost Classification Report----------\")\n",
    "print(\"\")\n",
    "print(class_met_xgboost)\n",
    "\n",
    "\n",
    "print(\"----------SVM Classification Report-----------\")\n",
    "print(\"\")\n",
    "print(class_met_svm)"
   ]
  },
  {
   "cell_type": "markdown",
   "metadata": {
    "pycharm": {
     "name": "#%% md\n"
    }
   },
   "source": [
    "#### Confusion Matrix"
   ]
  },
  {
   "cell_type": "code",
   "execution_count": null,
   "metadata": {
    "pycharm": {
     "is_executing": true,
     "name": "#%%\n"
    }
   },
   "outputs": [],
   "source": [
    "\n",
    "disp = ConfusionMatrixDisplay(confusion_matrix=cm_svm, display_labels=model_svm.classes_)\n",
    "disp.plot()"
   ]
  },
  {
   "cell_type": "code",
   "execution_count": null,
   "metadata": {
    "pycharm": {
     "is_executing": true,
     "name": "#%%\n"
    }
   },
   "outputs": [],
   "source": [
    "TP = 35\n",
    "TN = 188\n",
    "FP = 51\n",
    "FN = 26\n",
    "ACC = round(((TP + TN) / (TP + TN + FP + FN))*100,2)\n",
    "print(f\"Accuracy (%):{ACC}\")\n",
    "\n",
    "TPR = round((TP / (TP + FN))*100,2) \n",
    "print(f\"Sensitivity, TPR (%):{TPR}\")\n",
    "\n",
    "SP = round((TN / (FP + TN))*100,2)\n",
    "\n",
    "print(f\"SVM Specificity (%): {SP}\")\n",
    "      "
   ]
  },
  {
   "cell_type": "markdown",
   "metadata": {
    "pycharm": {
     "name": "#%% md\n"
    }
   },
   "source": [
    "#### ROC"
   ]
  },
  {
   "cell_type": "code",
   "execution_count": null,
   "metadata": {
    "pycharm": {
     "is_executing": true,
     "name": "#%%\n"
    }
   },
   "outputs": [],
   "source": [
    "\n",
    "# SVM ROC\n",
    "\n",
    "y_pred_svmroc = model_svm.predict_proba(X_test)[:,1]\n",
    "fpr, tpr, thresholds = roc_curve(y_test, y_pred_svmroc)\n",
    "plt.plot([0, 1], [0, 1], 'k--')\n",
    "plt.plot(fpr, tpr)\n",
    "plt.xlabel('False Positive Rate')\n",
    "plt.ylabel('True Positive Rate')\n",
    "plt.title('SVM ROC Curve')\n",
    "plt.show()\n",
    "\n",
    "# XGBoost ROC\n",
    "\n",
    "y_pred_xgbroc = model_xgboost.predict_proba(X_test)[:,1]\n",
    "fpr, tpr, thresholds = roc_curve(y_test, y_pred_xgbroc)\n",
    "plt.plot([0, 1], [0, 1], 'k--')\n",
    "plt.plot(fpr, tpr)\n",
    "plt.xlabel('False Positive Rate')\n",
    "plt.ylabel('True Positive Rate')\n",
    "plt.title('XGBoost ROC Curve')\n",
    "plt.show()"
   ]
  },
  {
   "cell_type": "code",
   "execution_count": null,
   "metadata": {
    "pycharm": {
     "is_executing": true,
     "name": "#%%\n"
    }
   },
   "outputs": [],
   "source": [
    "TP = 58\n",
    "TN = 172\n",
    "FP = 28\n",
    "FN = 42\n",
    "ACC = round(((TP + TN) / (TP + TN + FP + FN))*100,2)\n",
    "print(f\"XGBoost Accuracy (%):{ACC}\")\n",
    "\n",
    "TPR = round((TP / (TP + FN))*100,2) \n",
    "print(f\"XGBoost Sensitivity, TPR (%):{TPR}\")\n",
    "\n",
    "SP = round((TN / (FP + TN))*100,2)\n",
    "\n",
    "print(f\"XGBoost Specificity (%): {SP}\")\n",
    "      "
   ]
  },
  {
   "cell_type": "markdown",
   "metadata": {
    "pycharm": {
     "name": "#%% md\n"
    }
   },
   "source": [
    "#### Support Vector Machines (SVM)"
   ]
  },
  {
   "cell_type": "code",
   "execution_count": null,
   "metadata": {
    "pycharm": {
     "is_executing": true,
     "name": "#%%\n"
    }
   },
   "outputs": [],
   "source": [
    "#Support Vector Machines\n",
    "\n",
    "# Train the model\n",
    "model_svm = SVC(kernel = 'linear', random_state = 0, probability=True)  \n",
    "model_svm.fit(X_train, y_train) \n",
    "\n",
    "# Model Prediction\n",
    "y_pred_svm = model_svm.predict(X_test)\n",
    "\n",
    "\n",
    "\n",
    "# Metrics\n",
    "cm_svm = confusion_matrix(y_test, y_pred, labels=svm.classes_)\n",
    "acc_svm = round(accuracy_score(y_test,y_pred)*100,2)\n",
    "class_met_svm = classification_report(y_test,y_pred_svm)\n",
    "\n"
   ]
  },
  {
   "cell_type": "markdown",
   "metadata": {
    "pycharm": {
     "name": "#%% md\n"
    }
   },
   "source": [
    "# Model Evaluation"
   ]
  },
  {
   "cell_type": "markdown",
   "metadata": {
    "pycharm": {
     "name": "#%% md\n"
    }
   },
   "source": [
    "#### Accuracy"
   ]
  },
  {
   "cell_type": "code",
   "execution_count": null,
   "metadata": {
    "pycharm": {
     "is_executing": true,
     "name": "#%%\n"
    }
   },
   "outputs": [],
   "source": [
    "print(f\"XGBoost Accuracy(%): {acc_xgboost}\")\n",
    "print(f\"SVM Accuracy(%): {acc_svm}\")"
   ]
  },
  {
   "cell_type": "markdown",
   "metadata": {
    "pycharm": {
     "name": "#%% md\n"
    }
   },
   "source": [
    "#### Precision, Recall and F1-Score"
   ]
  },
  {
   "cell_type": "code",
   "execution_count": null,
   "metadata": {
    "pycharm": {
     "is_executing": true,
     "name": "#%%\n"
    }
   },
   "outputs": [],
   "source": [
    "print(\"---------- XGBoost Classification Report----------\")\n",
    "print(\"\")\n",
    "print(class_met_xgboost)\n",
    "\n",
    "\n",
    "print(\"----------SVM Classification Report-----------\")\n",
    "print(\"\")\n",
    "print(class_met_svm)"
   ]
  },
  {
   "cell_type": "markdown",
   "metadata": {
    "pycharm": {
     "name": "#%% md\n"
    }
   },
   "source": [
    "#### Confusion Matrix"
   ]
  },
  {
   "cell_type": "code",
   "execution_count": null,
   "metadata": {
    "pycharm": {
     "is_executing": true,
     "name": "#%%\n"
    }
   },
   "outputs": [],
   "source": [
    "\n",
    "disp = ConfusionMatrixDisplay(confusion_matrix=cm_svm, display_labels=model_svm.classes_)\n",
    "disp.plot()"
   ]
  },
  {
   "cell_type": "code",
   "execution_count": null,
   "metadata": {
    "pycharm": {
     "is_executing": true,
     "name": "#%%\n"
    },
    "scrolled": true
   },
   "outputs": [],
   "source": [
    "TP = 35\n",
    "TN = 188\n",
    "FP = 51\n",
    "FN = 26\n",
    "ACC = round(((TP + TN) / (TP + TN + FP + FN))*100,2)\n",
    "print(f\"Accuracy (%):{ACC}\")\n",
    "\n",
    "TPR = round((TP / (TP + FN))*100,2) \n",
    "print(f\"Sensitivity, TPR (%):{TPR}\")\n",
    "\n",
    "SP = round((TN / (FP + TN))*100,2)\n",
    "\n",
    "print(f\"SVM Specificity (%): {SP}\")\n",
    "      "
   ]
  },
  {
   "cell_type": "markdown",
   "metadata": {
    "pycharm": {
     "name": "#%% md\n"
    }
   },
   "source": [
    "#### ROC"
   ]
  },
  {
   "cell_type": "code",
   "execution_count": null,
   "metadata": {
    "pycharm": {
     "is_executing": true,
     "name": "#%%\n"
    }
   },
   "outputs": [],
   "source": [
    "\n",
    "# SVM ROC\n",
    "\n",
    "y_pred_svmroc = model_svm.predict_proba(X_test)[:,1]\n",
    "fpr, tpr, thresholds = roc_curve(y_test, y_pred_svmroc)\n",
    "plt.plot([0, 1], [0, 1], 'k--')\n",
    "plt.plot(fpr, tpr)\n",
    "plt.xlabel('False Positive Rate')\n",
    "plt.ylabel('True Positive Rate')\n",
    "plt.title('SVM ROC Curve')\n",
    "plt.show()\n",
    "\n",
    "# XGBoost ROC\n",
    "\n",
    "y_pred_xgbroc = model_xgboost.predict_proba(X_test)[:,1]\n",
    "fpr, tpr, thresholds = roc_curve(y_test, y_pred_xgbroc)\n",
    "plt.plot([0, 1], [0, 1], 'k--')\n",
    "plt.plot(fpr, tpr)\n",
    "plt.xlabel('False Positive Rate')\n",
    "plt.ylabel('True Positive Rate')\n",
    "plt.title('XGBoost ROC Curve')\n",
    "plt.show()"
   ]
  },
  {
   "cell_type": "markdown",
   "metadata": {
    "pycharm": {
     "name": "#%% md\n"
    }
   },
   "source": [
    "# GUI to avoid blackbox"
   ]
  },
  {
   "cell_type": "code",
   "execution_count": null,
   "metadata": {
    "pycharm": {
     "is_executing": true,
     "name": "#%%\n"
    }
   },
   "outputs": [],
   "source": []
  }
 ],
 "metadata": {
  "kernelspec": {
   "display_name": "Python 3 (ipykernel)",
   "language": "python",
   "name": "python3"
  },
  "language_info": {
   "codemirror_mode": {
    "name": "ipython",
    "version": 3
   },
   "file_extension": ".py",
   "mimetype": "text/x-python",
   "name": "python",
   "nbconvert_exporter": "python",
   "pygments_lexer": "ipython3",
   "version": "3.8.10"
  }
 },
 "nbformat": 4,
 "nbformat_minor": 1
}
